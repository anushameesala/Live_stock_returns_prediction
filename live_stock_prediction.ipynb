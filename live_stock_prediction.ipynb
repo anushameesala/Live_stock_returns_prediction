{
  "cells": [
    {
      "cell_type": "code",
      "execution_count": null,
      "metadata": {
        "id": "P9CyxsRS6aFN"
      },
      "outputs": [],
      "source": [
        "import pandas as pd\n",
        "import numpy as np\n",
        "import sklearn.preprocessing\n",
        "import pandas_datareader.data as pdr\n",
        "import datetime as dt\n",
        "import requests"
      ]
    },
    {
      "cell_type": "code",
      "execution_count": null,
      "metadata": {
        "colab": {
          "base_uri": "https://localhost:8080/",
          "height": 73,
          "resources": {
            "http://localhost:8080/nbextensions/google.colab/files.js": {
              "data": "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",
              "headers": [
                [
                  "content-type",
                  "application/javascript"
                ]
              ],
              "ok": true,
              "status": 200,
              "status_text": ""
            }
          }
        },
        "id": "HVMWiaAsiNSh",
        "outputId": "cf729e80-6472-4aad-d1ee-f76d2140e034"
      },
      "outputs": [
        {
          "output_type": "display_data",
          "data": {
            "text/html": [
              "\n",
              "     <input type=\"file\" id=\"files-6e6cdeb2-3ef3-422e-a2e9-513d265deae3\" name=\"files[]\" multiple disabled\n",
              "        style=\"border:none\" />\n",
              "     <output id=\"result-6e6cdeb2-3ef3-422e-a2e9-513d265deae3\">\n",
              "      Upload widget is only available when the cell has been executed in the\n",
              "      current browser session. Please rerun this cell to enable.\n",
              "      </output>\n",
              "      <script src=\"/nbextensions/google.colab/files.js\"></script> "
            ],
            "text/plain": [
              "<IPython.core.display.HTML object>"
            ]
          },
          "metadata": {}
        },
        {
          "output_type": "stream",
          "name": "stdout",
          "text": [
            "Saving S&P_500_5_years_day2.csv to S&P_500_5_years_day2.csv\n"
          ]
        }
      ],
      "source": [
        "from google.colab import files\n",
        "uploaded = files.upload()"
      ]
    },
    {
      "cell_type": "markdown",
      "metadata": {
        "id": "Ghd3kLsHiVKC"
      },
      "source": [
        "DATA PREPROCESSING"
      ]
    },
    {
      "cell_type": "code",
      "execution_count": null,
      "metadata": {
        "colab": {
          "base_uri": "https://localhost:8080/",
          "height": 206
        },
        "id": "13hdkHc-iQeq",
        "outputId": "b5d84555-5aa6-4fd7-e294-41a5cc7b7767"
      },
      "outputs": [
        {
          "output_type": "execute_result",
          "data": {
            "text/html": [
              "\n",
              "  <div id=\"df-157c33a6-e5d9-43b0-8400-bf00b16f6e72\">\n",
              "    <div class=\"colab-df-container\">\n",
              "      <div>\n",
              "<style scoped>\n",
              "    .dataframe tbody tr th:only-of-type {\n",
              "        vertical-align: middle;\n",
              "    }\n",
              "\n",
              "    .dataframe tbody tr th {\n",
              "        vertical-align: top;\n",
              "    }\n",
              "\n",
              "    .dataframe thead th {\n",
              "        text-align: right;\n",
              "    }\n",
              "</style>\n",
              "<table border=\"1\" class=\"dataframe\">\n",
              "  <thead>\n",
              "    <tr style=\"text-align: right;\">\n",
              "      <th></th>\n",
              "      <th>Date</th>\n",
              "      <th>Open</th>\n",
              "      <th>High</th>\n",
              "      <th>Low</th>\n",
              "      <th>Close</th>\n",
              "    </tr>\n",
              "  </thead>\n",
              "  <tbody>\n",
              "    <tr>\n",
              "      <th>0</th>\n",
              "      <td>1/2/2015</td>\n",
              "      <td>2,058.90</td>\n",
              "      <td>2,072.36</td>\n",
              "      <td>2,046.04</td>\n",
              "      <td>2,058.20</td>\n",
              "    </tr>\n",
              "    <tr>\n",
              "      <th>1</th>\n",
              "      <td>1/5/2015</td>\n",
              "      <td>2,054.44</td>\n",
              "      <td>2,054.44</td>\n",
              "      <td>2,017.34</td>\n",
              "      <td>2,020.58</td>\n",
              "    </tr>\n",
              "    <tr>\n",
              "      <th>2</th>\n",
              "      <td>1/6/2015</td>\n",
              "      <td>2,022.15</td>\n",
              "      <td>2,030.25</td>\n",
              "      <td>1,992.44</td>\n",
              "      <td>2,002.61</td>\n",
              "    </tr>\n",
              "    <tr>\n",
              "      <th>3</th>\n",
              "      <td>1/7/2015</td>\n",
              "      <td>2,005.55</td>\n",
              "      <td>2,029.61</td>\n",
              "      <td>2,005.55</td>\n",
              "      <td>2,025.90</td>\n",
              "    </tr>\n",
              "    <tr>\n",
              "      <th>4</th>\n",
              "      <td>1/8/2015</td>\n",
              "      <td>2,030.61</td>\n",
              "      <td>2,064.08</td>\n",
              "      <td>2,030.61</td>\n",
              "      <td>2,062.14</td>\n",
              "    </tr>\n",
              "  </tbody>\n",
              "</table>\n",
              "</div>\n",
              "      <button class=\"colab-df-convert\" onclick=\"convertToInteractive('df-157c33a6-e5d9-43b0-8400-bf00b16f6e72')\"\n",
              "              title=\"Convert this dataframe to an interactive table.\"\n",
              "              style=\"display:none;\">\n",
              "        \n",
              "  <svg xmlns=\"http://www.w3.org/2000/svg\" height=\"24px\"viewBox=\"0 0 24 24\"\n",
              "       width=\"24px\">\n",
              "    <path d=\"M0 0h24v24H0V0z\" fill=\"none\"/>\n",
              "    <path d=\"M18.56 5.44l.94 2.06.94-2.06 2.06-.94-2.06-.94-.94-2.06-.94 2.06-2.06.94zm-11 1L8.5 8.5l.94-2.06 2.06-.94-2.06-.94L8.5 2.5l-.94 2.06-2.06.94zm10 10l.94 2.06.94-2.06 2.06-.94-2.06-.94-.94-2.06-.94 2.06-2.06.94z\"/><path d=\"M17.41 7.96l-1.37-1.37c-.4-.4-.92-.59-1.43-.59-.52 0-1.04.2-1.43.59L10.3 9.45l-7.72 7.72c-.78.78-.78 2.05 0 2.83L4 21.41c.39.39.9.59 1.41.59.51 0 1.02-.2 1.41-.59l7.78-7.78 2.81-2.81c.8-.78.8-2.07 0-2.86zM5.41 20L4 18.59l7.72-7.72 1.47 1.35L5.41 20z\"/>\n",
              "  </svg>\n",
              "      </button>\n",
              "      \n",
              "  <style>\n",
              "    .colab-df-container {\n",
              "      display:flex;\n",
              "      flex-wrap:wrap;\n",
              "      gap: 12px;\n",
              "    }\n",
              "\n",
              "    .colab-df-convert {\n",
              "      background-color: #E8F0FE;\n",
              "      border: none;\n",
              "      border-radius: 50%;\n",
              "      cursor: pointer;\n",
              "      display: none;\n",
              "      fill: #1967D2;\n",
              "      height: 32px;\n",
              "      padding: 0 0 0 0;\n",
              "      width: 32px;\n",
              "    }\n",
              "\n",
              "    .colab-df-convert:hover {\n",
              "      background-color: #E2EBFA;\n",
              "      box-shadow: 0px 1px 2px rgba(60, 64, 67, 0.3), 0px 1px 3px 1px rgba(60, 64, 67, 0.15);\n",
              "      fill: #174EA6;\n",
              "    }\n",
              "\n",
              "    [theme=dark] .colab-df-convert {\n",
              "      background-color: #3B4455;\n",
              "      fill: #D2E3FC;\n",
              "    }\n",
              "\n",
              "    [theme=dark] .colab-df-convert:hover {\n",
              "      background-color: #434B5C;\n",
              "      box-shadow: 0px 1px 3px 1px rgba(0, 0, 0, 0.15);\n",
              "      filter: drop-shadow(0px 1px 2px rgba(0, 0, 0, 0.3));\n",
              "      fill: #FFFFFF;\n",
              "    }\n",
              "  </style>\n",
              "\n",
              "      <script>\n",
              "        const buttonEl =\n",
              "          document.querySelector('#df-157c33a6-e5d9-43b0-8400-bf00b16f6e72 button.colab-df-convert');\n",
              "        buttonEl.style.display =\n",
              "          google.colab.kernel.accessAllowed ? 'block' : 'none';\n",
              "\n",
              "        async function convertToInteractive(key) {\n",
              "          const element = document.querySelector('#df-157c33a6-e5d9-43b0-8400-bf00b16f6e72');\n",
              "          const dataTable =\n",
              "            await google.colab.kernel.invokeFunction('convertToInteractive',\n",
              "                                                     [key], {});\n",
              "          if (!dataTable) return;\n",
              "\n",
              "          const docLinkHtml = 'Like what you see? Visit the ' +\n",
              "            '<a target=\"_blank\" href=https://colab.research.google.com/notebooks/data_table.ipynb>data table notebook</a>'\n",
              "            + ' to learn more about interactive tables.';\n",
              "          element.innerHTML = '';\n",
              "          dataTable['output_type'] = 'display_data';\n",
              "          await google.colab.output.renderOutput(dataTable, element);\n",
              "          const docLink = document.createElement('div');\n",
              "          docLink.innerHTML = docLinkHtml;\n",
              "          element.appendChild(docLink);\n",
              "        }\n",
              "      </script>\n",
              "    </div>\n",
              "  </div>\n",
              "  "
            ],
            "text/plain": [
              "       Date      Open      High       Low     Close\n",
              "0  1/2/2015  2,058.90  2,072.36  2,046.04  2,058.20\n",
              "1  1/5/2015  2,054.44  2,054.44  2,017.34  2,020.58\n",
              "2  1/6/2015  2,022.15  2,030.25  1,992.44  2,002.61\n",
              "3  1/7/2015  2,005.55  2,029.61  2,005.55  2,025.90\n",
              "4  1/8/2015  2,030.61  2,064.08  2,030.61  2,062.14"
            ]
          },
          "metadata": {},
          "execution_count": 3
        }
      ],
      "source": [
        "data = pd.read_csv(\"S&P_500_5_years_day2.csv\")\n",
        "data.head()"
      ]
    },
    {
      "cell_type": "code",
      "execution_count": null,
      "metadata": {
        "id": "n6JRaS9QiZYy"
      },
      "outputs": [],
      "source": [
        "import math\n",
        "import tensorflow as tf\n",
        "import sklearn\n",
        "import os\n",
        "import sklearn.preprocessing\n",
        "\n",
        "from sklearn.preprocessing import MinMaxScaler\n"
      ]
    },
    {
      "cell_type": "code",
      "execution_count": null,
      "metadata": {
        "colab": {
          "base_uri": "https://localhost:8080/"
        },
        "id": "9PSY-15WidvO",
        "outputId": "9261a5a4-b35c-4dba-e1c2-dfceac91e30a"
      },
      "outputs": [
        {
          "output_type": "execute_result",
          "data": {
            "text/plain": [
              "Date     object\n",
              "Open     object\n",
              "High     object\n",
              "Low      object\n",
              "Close    object\n",
              "dtype: object"
            ]
          },
          "metadata": {},
          "execution_count": 5
        }
      ],
      "source": [
        "data.dtypes"
      ]
    },
    {
      "cell_type": "code",
      "execution_count": null,
      "metadata": {
        "id": "WX2t1i96ignf"
      },
      "outputs": [],
      "source": [
        "import datetime\n",
        "data['Date'] = pd.to_datetime(data['Date'])"
      ]
    },
    {
      "cell_type": "code",
      "execution_count": null,
      "metadata": {
        "id": "hXN-D6HMijs0"
      },
      "outputs": [],
      "source": [
        "data['Open'] = data['Open'].apply(lambda x: x.replace(',','') )\n",
        "data['High'] = data['High'].apply(lambda x: x.replace(',','') )\n",
        "data['Low'] = data['Low'].apply(lambda x: x.replace(',','') )\n",
        "data['Close'] = data['Close'].apply(lambda x: x.replace(',',''))"
      ]
    },
    {
      "cell_type": "code",
      "execution_count": null,
      "metadata": {
        "colab": {
          "base_uri": "https://localhost:8080/",
          "height": 206
        },
        "id": "c6shk1tminQw",
        "outputId": "31d99f5d-ced2-4549-d809-85a750df0be7"
      },
      "outputs": [
        {
          "output_type": "execute_result",
          "data": {
            "text/html": [
              "\n",
              "  <div id=\"df-30d1589a-e736-4934-b3c4-d5f6f7b8ae89\">\n",
              "    <div class=\"colab-df-container\">\n",
              "      <div>\n",
              "<style scoped>\n",
              "    .dataframe tbody tr th:only-of-type {\n",
              "        vertical-align: middle;\n",
              "    }\n",
              "\n",
              "    .dataframe tbody tr th {\n",
              "        vertical-align: top;\n",
              "    }\n",
              "\n",
              "    .dataframe thead th {\n",
              "        text-align: right;\n",
              "    }\n",
              "</style>\n",
              "<table border=\"1\" class=\"dataframe\">\n",
              "  <thead>\n",
              "    <tr style=\"text-align: right;\">\n",
              "      <th></th>\n",
              "      <th>Date</th>\n",
              "      <th>Open</th>\n",
              "      <th>High</th>\n",
              "      <th>Low</th>\n",
              "      <th>Close</th>\n",
              "    </tr>\n",
              "  </thead>\n",
              "  <tbody>\n",
              "    <tr>\n",
              "      <th>0</th>\n",
              "      <td>2015-01-02</td>\n",
              "      <td>2058.90</td>\n",
              "      <td>2072.36</td>\n",
              "      <td>2046.04</td>\n",
              "      <td>2058.20</td>\n",
              "    </tr>\n",
              "    <tr>\n",
              "      <th>1</th>\n",
              "      <td>2015-01-05</td>\n",
              "      <td>2054.44</td>\n",
              "      <td>2054.44</td>\n",
              "      <td>2017.34</td>\n",
              "      <td>2020.58</td>\n",
              "    </tr>\n",
              "    <tr>\n",
              "      <th>2</th>\n",
              "      <td>2015-01-06</td>\n",
              "      <td>2022.15</td>\n",
              "      <td>2030.25</td>\n",
              "      <td>1992.44</td>\n",
              "      <td>2002.61</td>\n",
              "    </tr>\n",
              "    <tr>\n",
              "      <th>3</th>\n",
              "      <td>2015-01-07</td>\n",
              "      <td>2005.55</td>\n",
              "      <td>2029.61</td>\n",
              "      <td>2005.55</td>\n",
              "      <td>2025.90</td>\n",
              "    </tr>\n",
              "    <tr>\n",
              "      <th>4</th>\n",
              "      <td>2015-01-08</td>\n",
              "      <td>2030.61</td>\n",
              "      <td>2064.08</td>\n",
              "      <td>2030.61</td>\n",
              "      <td>2062.14</td>\n",
              "    </tr>\n",
              "  </tbody>\n",
              "</table>\n",
              "</div>\n",
              "      <button class=\"colab-df-convert\" onclick=\"convertToInteractive('df-30d1589a-e736-4934-b3c4-d5f6f7b8ae89')\"\n",
              "              title=\"Convert this dataframe to an interactive table.\"\n",
              "              style=\"display:none;\">\n",
              "        \n",
              "  <svg xmlns=\"http://www.w3.org/2000/svg\" height=\"24px\"viewBox=\"0 0 24 24\"\n",
              "       width=\"24px\">\n",
              "    <path d=\"M0 0h24v24H0V0z\" fill=\"none\"/>\n",
              "    <path d=\"M18.56 5.44l.94 2.06.94-2.06 2.06-.94-2.06-.94-.94-2.06-.94 2.06-2.06.94zm-11 1L8.5 8.5l.94-2.06 2.06-.94-2.06-.94L8.5 2.5l-.94 2.06-2.06.94zm10 10l.94 2.06.94-2.06 2.06-.94-2.06-.94-.94-2.06-.94 2.06-2.06.94z\"/><path d=\"M17.41 7.96l-1.37-1.37c-.4-.4-.92-.59-1.43-.59-.52 0-1.04.2-1.43.59L10.3 9.45l-7.72 7.72c-.78.78-.78 2.05 0 2.83L4 21.41c.39.39.9.59 1.41.59.51 0 1.02-.2 1.41-.59l7.78-7.78 2.81-2.81c.8-.78.8-2.07 0-2.86zM5.41 20L4 18.59l7.72-7.72 1.47 1.35L5.41 20z\"/>\n",
              "  </svg>\n",
              "      </button>\n",
              "      \n",
              "  <style>\n",
              "    .colab-df-container {\n",
              "      display:flex;\n",
              "      flex-wrap:wrap;\n",
              "      gap: 12px;\n",
              "    }\n",
              "\n",
              "    .colab-df-convert {\n",
              "      background-color: #E8F0FE;\n",
              "      border: none;\n",
              "      border-radius: 50%;\n",
              "      cursor: pointer;\n",
              "      display: none;\n",
              "      fill: #1967D2;\n",
              "      height: 32px;\n",
              "      padding: 0 0 0 0;\n",
              "      width: 32px;\n",
              "    }\n",
              "\n",
              "    .colab-df-convert:hover {\n",
              "      background-color: #E2EBFA;\n",
              "      box-shadow: 0px 1px 2px rgba(60, 64, 67, 0.3), 0px 1px 3px 1px rgba(60, 64, 67, 0.15);\n",
              "      fill: #174EA6;\n",
              "    }\n",
              "\n",
              "    [theme=dark] .colab-df-convert {\n",
              "      background-color: #3B4455;\n",
              "      fill: #D2E3FC;\n",
              "    }\n",
              "\n",
              "    [theme=dark] .colab-df-convert:hover {\n",
              "      background-color: #434B5C;\n",
              "      box-shadow: 0px 1px 3px 1px rgba(0, 0, 0, 0.15);\n",
              "      filter: drop-shadow(0px 1px 2px rgba(0, 0, 0, 0.3));\n",
              "      fill: #FFFFFF;\n",
              "    }\n",
              "  </style>\n",
              "\n",
              "      <script>\n",
              "        const buttonEl =\n",
              "          document.querySelector('#df-30d1589a-e736-4934-b3c4-d5f6f7b8ae89 button.colab-df-convert');\n",
              "        buttonEl.style.display =\n",
              "          google.colab.kernel.accessAllowed ? 'block' : 'none';\n",
              "\n",
              "        async function convertToInteractive(key) {\n",
              "          const element = document.querySelector('#df-30d1589a-e736-4934-b3c4-d5f6f7b8ae89');\n",
              "          const dataTable =\n",
              "            await google.colab.kernel.invokeFunction('convertToInteractive',\n",
              "                                                     [key], {});\n",
              "          if (!dataTable) return;\n",
              "\n",
              "          const docLinkHtml = 'Like what you see? Visit the ' +\n",
              "            '<a target=\"_blank\" href=https://colab.research.google.com/notebooks/data_table.ipynb>data table notebook</a>'\n",
              "            + ' to learn more about interactive tables.';\n",
              "          element.innerHTML = '';\n",
              "          dataTable['output_type'] = 'display_data';\n",
              "          await google.colab.output.renderOutput(dataTable, element);\n",
              "          const docLink = document.createElement('div');\n",
              "          docLink.innerHTML = docLinkHtml;\n",
              "          element.appendChild(docLink);\n",
              "        }\n",
              "      </script>\n",
              "    </div>\n",
              "  </div>\n",
              "  "
            ],
            "text/plain": [
              "        Date     Open     High      Low    Close\n",
              "0 2015-01-02  2058.90  2072.36  2046.04  2058.20\n",
              "1 2015-01-05  2054.44  2054.44  2017.34  2020.58\n",
              "2 2015-01-06  2022.15  2030.25  1992.44  2002.61\n",
              "3 2015-01-07  2005.55  2029.61  2005.55  2025.90\n",
              "4 2015-01-08  2030.61  2064.08  2030.61  2062.14"
            ]
          },
          "metadata": {},
          "execution_count": 8
        }
      ],
      "source": [
        "data.head()"
      ]
    },
    {
      "cell_type": "code",
      "execution_count": null,
      "metadata": {
        "id": "Oe8kHepGipt4"
      },
      "outputs": [],
      "source": [
        "data = data.astype({'Open':float,'High':float,'Low':float,'Close':float})"
      ]
    },
    {
      "cell_type": "code",
      "execution_count": null,
      "metadata": {
        "colab": {
          "base_uri": "https://localhost:8080/"
        },
        "id": "_379xGjKismm",
        "outputId": "9360da6d-933d-46b7-d428-9c688fdeca2f"
      },
      "outputs": [
        {
          "output_type": "execute_result",
          "data": {
            "text/plain": [
              "Date     datetime64[ns]\n",
              "Open            float64\n",
              "High            float64\n",
              "Low             float64\n",
              "Close           float64\n",
              "dtype: object"
            ]
          },
          "metadata": {},
          "execution_count": 10
        }
      ],
      "source": [
        "data.dtypes"
      ]
    },
    {
      "cell_type": "code",
      "execution_count": null,
      "metadata": {
        "colab": {
          "base_uri": "https://localhost:8080/",
          "height": 206
        },
        "id": "7ywkVRNYivFD",
        "outputId": "aa9aa230-c18b-4fa6-de6c-8e3261ec6ecb"
      },
      "outputs": [
        {
          "output_type": "execute_result",
          "data": {
            "text/html": [
              "\n",
              "  <div id=\"df-6b5d429b-a5a6-4c5c-a923-a26eaad06ed6\">\n",
              "    <div class=\"colab-df-container\">\n",
              "      <div>\n",
              "<style scoped>\n",
              "    .dataframe tbody tr th:only-of-type {\n",
              "        vertical-align: middle;\n",
              "    }\n",
              "\n",
              "    .dataframe tbody tr th {\n",
              "        vertical-align: top;\n",
              "    }\n",
              "\n",
              "    .dataframe thead th {\n",
              "        text-align: right;\n",
              "    }\n",
              "</style>\n",
              "<table border=\"1\" class=\"dataframe\">\n",
              "  <thead>\n",
              "    <tr style=\"text-align: right;\">\n",
              "      <th></th>\n",
              "      <th>Date</th>\n",
              "      <th>Open</th>\n",
              "      <th>High</th>\n",
              "      <th>Low</th>\n",
              "      <th>Close</th>\n",
              "    </tr>\n",
              "  </thead>\n",
              "  <tbody>\n",
              "    <tr>\n",
              "      <th>0</th>\n",
              "      <td>2015-01-02</td>\n",
              "      <td>2058.90</td>\n",
              "      <td>2072.36</td>\n",
              "      <td>2046.04</td>\n",
              "      <td>2058.20</td>\n",
              "    </tr>\n",
              "    <tr>\n",
              "      <th>1</th>\n",
              "      <td>2015-01-05</td>\n",
              "      <td>2054.44</td>\n",
              "      <td>2054.44</td>\n",
              "      <td>2017.34</td>\n",
              "      <td>2020.58</td>\n",
              "    </tr>\n",
              "    <tr>\n",
              "      <th>2</th>\n",
              "      <td>2015-01-06</td>\n",
              "      <td>2022.15</td>\n",
              "      <td>2030.25</td>\n",
              "      <td>1992.44</td>\n",
              "      <td>2002.61</td>\n",
              "    </tr>\n",
              "    <tr>\n",
              "      <th>3</th>\n",
              "      <td>2015-01-07</td>\n",
              "      <td>2005.55</td>\n",
              "      <td>2029.61</td>\n",
              "      <td>2005.55</td>\n",
              "      <td>2025.90</td>\n",
              "    </tr>\n",
              "    <tr>\n",
              "      <th>4</th>\n",
              "      <td>2015-01-08</td>\n",
              "      <td>2030.61</td>\n",
              "      <td>2064.08</td>\n",
              "      <td>2030.61</td>\n",
              "      <td>2062.14</td>\n",
              "    </tr>\n",
              "  </tbody>\n",
              "</table>\n",
              "</div>\n",
              "      <button class=\"colab-df-convert\" onclick=\"convertToInteractive('df-6b5d429b-a5a6-4c5c-a923-a26eaad06ed6')\"\n",
              "              title=\"Convert this dataframe to an interactive table.\"\n",
              "              style=\"display:none;\">\n",
              "        \n",
              "  <svg xmlns=\"http://www.w3.org/2000/svg\" height=\"24px\"viewBox=\"0 0 24 24\"\n",
              "       width=\"24px\">\n",
              "    <path d=\"M0 0h24v24H0V0z\" fill=\"none\"/>\n",
              "    <path d=\"M18.56 5.44l.94 2.06.94-2.06 2.06-.94-2.06-.94-.94-2.06-.94 2.06-2.06.94zm-11 1L8.5 8.5l.94-2.06 2.06-.94-2.06-.94L8.5 2.5l-.94 2.06-2.06.94zm10 10l.94 2.06.94-2.06 2.06-.94-2.06-.94-.94-2.06-.94 2.06-2.06.94z\"/><path d=\"M17.41 7.96l-1.37-1.37c-.4-.4-.92-.59-1.43-.59-.52 0-1.04.2-1.43.59L10.3 9.45l-7.72 7.72c-.78.78-.78 2.05 0 2.83L4 21.41c.39.39.9.59 1.41.59.51 0 1.02-.2 1.41-.59l7.78-7.78 2.81-2.81c.8-.78.8-2.07 0-2.86zM5.41 20L4 18.59l7.72-7.72 1.47 1.35L5.41 20z\"/>\n",
              "  </svg>\n",
              "      </button>\n",
              "      \n",
              "  <style>\n",
              "    .colab-df-container {\n",
              "      display:flex;\n",
              "      flex-wrap:wrap;\n",
              "      gap: 12px;\n",
              "    }\n",
              "\n",
              "    .colab-df-convert {\n",
              "      background-color: #E8F0FE;\n",
              "      border: none;\n",
              "      border-radius: 50%;\n",
              "      cursor: pointer;\n",
              "      display: none;\n",
              "      fill: #1967D2;\n",
              "      height: 32px;\n",
              "      padding: 0 0 0 0;\n",
              "      width: 32px;\n",
              "    }\n",
              "\n",
              "    .colab-df-convert:hover {\n",
              "      background-color: #E2EBFA;\n",
              "      box-shadow: 0px 1px 2px rgba(60, 64, 67, 0.3), 0px 1px 3px 1px rgba(60, 64, 67, 0.15);\n",
              "      fill: #174EA6;\n",
              "    }\n",
              "\n",
              "    [theme=dark] .colab-df-convert {\n",
              "      background-color: #3B4455;\n",
              "      fill: #D2E3FC;\n",
              "    }\n",
              "\n",
              "    [theme=dark] .colab-df-convert:hover {\n",
              "      background-color: #434B5C;\n",
              "      box-shadow: 0px 1px 3px 1px rgba(0, 0, 0, 0.15);\n",
              "      filter: drop-shadow(0px 1px 2px rgba(0, 0, 0, 0.3));\n",
              "      fill: #FFFFFF;\n",
              "    }\n",
              "  </style>\n",
              "\n",
              "      <script>\n",
              "        const buttonEl =\n",
              "          document.querySelector('#df-6b5d429b-a5a6-4c5c-a923-a26eaad06ed6 button.colab-df-convert');\n",
              "        buttonEl.style.display =\n",
              "          google.colab.kernel.accessAllowed ? 'block' : 'none';\n",
              "\n",
              "        async function convertToInteractive(key) {\n",
              "          const element = document.querySelector('#df-6b5d429b-a5a6-4c5c-a923-a26eaad06ed6');\n",
              "          const dataTable =\n",
              "            await google.colab.kernel.invokeFunction('convertToInteractive',\n",
              "                                                     [key], {});\n",
              "          if (!dataTable) return;\n",
              "\n",
              "          const docLinkHtml = 'Like what you see? Visit the ' +\n",
              "            '<a target=\"_blank\" href=https://colab.research.google.com/notebooks/data_table.ipynb>data table notebook</a>'\n",
              "            + ' to learn more about interactive tables.';\n",
              "          element.innerHTML = '';\n",
              "          dataTable['output_type'] = 'display_data';\n",
              "          await google.colab.output.renderOutput(dataTable, element);\n",
              "          const docLink = document.createElement('div');\n",
              "          docLink.innerHTML = docLinkHtml;\n",
              "          element.appendChild(docLink);\n",
              "        }\n",
              "      </script>\n",
              "    </div>\n",
              "  </div>\n",
              "  "
            ],
            "text/plain": [
              "        Date     Open     High      Low    Close\n",
              "0 2015-01-02  2058.90  2072.36  2046.04  2058.20\n",
              "1 2015-01-05  2054.44  2054.44  2017.34  2020.58\n",
              "2 2015-01-06  2022.15  2030.25  1992.44  2002.61\n",
              "3 2015-01-07  2005.55  2029.61  2005.55  2025.90\n",
              "4 2015-01-08  2030.61  2064.08  2030.61  2062.14"
            ]
          },
          "metadata": {},
          "execution_count": 11
        }
      ],
      "source": [
        "data.head()"
      ]
    },
    {
      "cell_type": "code",
      "execution_count": null,
      "metadata": {
        "id": "ws3ijSuZ06_W",
        "colab": {
          "base_uri": "https://localhost:8080/",
          "height": 631
        },
        "outputId": "46405842-c253-4fd2-b40b-a9175aead2a8"
      },
      "outputs": [
        {
          "output_type": "display_data",
          "data": {
            "image/png": "[encoded data removed]",
            "text/plain": [
              "<Figure size 1296x648 with 1 Axes>"
            ]
          },
          "metadata": {
            "needs_background": "light"
          }
        }
      ],
      "source": [
        "import matplotlib.pyplot as plt\n",
        "\n",
        "plt.figure(figsize = (18,9))\n",
        "plt.plot(range(data.shape[0]),(data['Low']+data['High'])/2.0)\n",
        "plt.xticks(range(0,data.shape[0],150),data['Date'].loc[::150],rotation=45)\n",
        "plt.xlabel('Date',fontsize=18)\n",
        "plt.ylabel('Mid Price',fontsize=18)\n",
        "plt.show()"
      ]
    },
    {
      "cell_type": "code",
      "execution_count": null,
      "metadata": {
        "id": "Tog9_Z6Eix32"
      },
      "outputs": [],
      "source": [
        "data[\"returns\"] = data['Close'].pct_change()"
      ]
    },
    {
      "cell_type": "code",
      "execution_count": null,
      "metadata": {
        "colab": {
          "base_uri": "https://localhost:8080/",
          "height": 206
        },
        "id": "BI_tWk_bi0w9",
        "outputId": "594dda43-57b7-4645-d714-40a8a39a7fc7"
      },
      "outputs": [
        {
          "output_type": "execute_result",
          "data": {
            "text/html": [
              "\n",
              "  <div id=\"df-71610836-2b89-403c-b173-9ceb6a462e63\">\n",
              "    <div class=\"colab-df-container\">\n",
              "      <div>\n",
              "<style scoped>\n",
              "    .dataframe tbody tr th:only-of-type {\n",
              "        vertical-align: middle;\n",
              "    }\n",
              "\n",
              "    .dataframe tbody tr th {\n",
              "        vertical-align: top;\n",
              "    }\n",
              "\n",
              "    .dataframe thead th {\n",
              "        text-align: right;\n",
              "    }\n",
              "</style>\n",
              "<table border=\"1\" class=\"dataframe\">\n",
              "  <thead>\n",
              "    <tr style=\"text-align: right;\">\n",
              "      <th></th>\n",
              "      <th>Date</th>\n",
              "      <th>Open</th>\n",
              "      <th>High</th>\n",
              "      <th>Low</th>\n",
              "      <th>Close</th>\n",
              "      <th>returns</th>\n",
              "    </tr>\n",
              "  </thead>\n",
              "  <tbody>\n",
              "    <tr>\n",
              "      <th>1748</th>\n",
              "      <td>2021-12-10</td>\n",
              "      <td>4687.64</td>\n",
              "      <td>4713.57</td>\n",
              "      <td>4670.24</td>\n",
              "      <td>4712.02</td>\n",
              "      <td>0.009549</td>\n",
              "    </tr>\n",
              "    <tr>\n",
              "      <th>1749</th>\n",
              "      <td>2021-12-13</td>\n",
              "      <td>4710.30</td>\n",
              "      <td>4710.30</td>\n",
              "      <td>4667.60</td>\n",
              "      <td>4668.97</td>\n",
              "      <td>-0.009136</td>\n",
              "    </tr>\n",
              "    <tr>\n",
              "      <th>1750</th>\n",
              "      <td>2021-12-14</td>\n",
              "      <td>4642.99</td>\n",
              "      <td>4660.47</td>\n",
              "      <td>4606.52</td>\n",
              "      <td>4634.09</td>\n",
              "      <td>-0.007471</td>\n",
              "    </tr>\n",
              "    <tr>\n",
              "      <th>1751</th>\n",
              "      <td>2021-12-15</td>\n",
              "      <td>4636.46</td>\n",
              "      <td>4712.60</td>\n",
              "      <td>4611.22</td>\n",
              "      <td>4709.85</td>\n",
              "      <td>0.016348</td>\n",
              "    </tr>\n",
              "    <tr>\n",
              "      <th>1752</th>\n",
              "      <td>2021-12-16</td>\n",
              "      <td>4719.13</td>\n",
              "      <td>4731.99</td>\n",
              "      <td>4651.89</td>\n",
              "      <td>4669.67</td>\n",
              "      <td>-0.008531</td>\n",
              "    </tr>\n",
              "  </tbody>\n",
              "</table>\n",
              "</div>\n",
              "      <button class=\"colab-df-convert\" onclick=\"convertToInteractive('df-71610836-2b89-403c-b173-9ceb6a462e63')\"\n",
              "              title=\"Convert this dataframe to an interactive table.\"\n",
              "              style=\"display:none;\">\n",
              "        \n",
              "  <svg xmlns=\"http://www.w3.org/2000/svg\" height=\"24px\"viewBox=\"0 0 24 24\"\n",
              "       width=\"24px\">\n",
              "    <path d=\"M0 0h24v24H0V0z\" fill=\"none\"/>\n",
              "    <path d=\"M18.56 5.44l.94 2.06.94-2.06 2.06-.94-2.06-.94-.94-2.06-.94 2.06-2.06.94zm-11 1L8.5 8.5l.94-2.06 2.06-.94-2.06-.94L8.5 2.5l-.94 2.06-2.06.94zm10 10l.94 2.06.94-2.06 2.06-.94-2.06-.94-.94-2.06-.94 2.06-2.06.94z\"/><path d=\"M17.41 7.96l-1.37-1.37c-.4-.4-.92-.59-1.43-.59-.52 0-1.04.2-1.43.59L10.3 9.45l-7.72 7.72c-.78.78-.78 2.05 0 2.83L4 21.41c.39.39.9.59 1.41.59.51 0 1.02-.2 1.41-.59l7.78-7.78 2.81-2.81c.8-.78.8-2.07 0-2.86zM5.41 20L4 18.59l7.72-7.72 1.47 1.35L5.41 20z\"/>\n",
              "  </svg>\n",
              "      </button>\n",
              "      \n",
              "  <style>\n",
              "    .colab-df-container {\n",
              "      display:flex;\n",
              "      flex-wrap:wrap;\n",
              "      gap: 12px;\n",
              "    }\n",
              "\n",
              "    .colab-df-convert {\n",
              "      background-color: #E8F0FE;\n",
              "      border: none;\n",
              "      border-radius: 50%;\n",
              "      cursor: pointer;\n",
              "      display: none;\n",
              "      fill: #1967D2;\n",
              "      height: 32px;\n",
              "      padding: 0 0 0 0;\n",
              "      width: 32px;\n",
              "    }\n",
              "\n",
              "    .colab-df-convert:hover {\n",
              "      background-color: #E2EBFA;\n",
              "      box-shadow: 0px 1px 2px rgba(60, 64, 67, 0.3), 0px 1px 3px 1px rgba(60, 64, 67, 0.15);\n",
              "      fill: #174EA6;\n",
              "    }\n",
              "\n",
              "    [theme=dark] .colab-df-convert {\n",
              "      background-color: #3B4455;\n",
              "      fill: #D2E3FC;\n",
              "    }\n",
              "\n",
              "    [theme=dark] .colab-df-convert:hover {\n",
              "      background-color: #434B5C;\n",
              "      box-shadow: 0px 1px 3px 1px rgba(0, 0, 0, 0.15);\n",
              "      filter: drop-shadow(0px 1px 2px rgba(0, 0, 0, 0.3));\n",
              "      fill: #FFFFFF;\n",
              "    }\n",
              "  </style>\n",
              "\n",
              "      <script>\n",
              "        const buttonEl =\n",
              "          document.querySelector('#df-71610836-2b89-403c-b173-9ceb6a462e63 button.colab-df-convert');\n",
              "        buttonEl.style.display =\n",
              "          google.colab.kernel.accessAllowed ? 'block' : 'none';\n",
              "\n",
              "        async function convertToInteractive(key) {\n",
              "          const element = document.querySelector('#df-71610836-2b89-403c-b173-9ceb6a462e63');\n",
              "          const dataTable =\n",
              "            await google.colab.kernel.invokeFunction('convertToInteractive',\n",
              "                                                     [key], {});\n",
              "          if (!dataTable) return;\n",
              "\n",
              "          const docLinkHtml = 'Like what you see? Visit the ' +\n",
              "            '<a target=\"_blank\" href=https://colab.research.google.com/notebooks/data_table.ipynb>data table notebook</a>'\n",
              "            + ' to learn more about interactive tables.';\n",
              "          element.innerHTML = '';\n",
              "          dataTable['output_type'] = 'display_data';\n",
              "          await google.colab.output.renderOutput(dataTable, element);\n",
              "          const docLink = document.createElement('div');\n",
              "          docLink.innerHTML = docLinkHtml;\n",
              "          element.appendChild(docLink);\n",
              "        }\n",
              "      </script>\n",
              "    </div>\n",
              "  </div>\n",
              "  "
            ],
            "text/plain": [
              "           Date     Open     High      Low    Close   returns\n",
              "1748 2021-12-10  4687.64  4713.57  4670.24  4712.02  0.009549\n",
              "1749 2021-12-13  4710.30  4710.30  4667.60  4668.97 -0.009136\n",
              "1750 2021-12-14  4642.99  4660.47  4606.52  4634.09 -0.007471\n",
              "1751 2021-12-15  4636.46  4712.60  4611.22  4709.85  0.016348\n",
              "1752 2021-12-16  4719.13  4731.99  4651.89  4669.67 -0.008531"
            ]
          },
          "metadata": {},
          "execution_count": 14
        }
      ],
      "source": [
        "data.tail()"
      ]
    },
    {
      "cell_type": "code",
      "execution_count": null,
      "metadata": {
        "colab": {
          "base_uri": "https://localhost:8080/"
        },
        "id": "kKsN_NBwi3XR",
        "outputId": "90466a15-7edc-4cbd-899b-fc65a7333b4d"
      },
      "outputs": [
        {
          "output_type": "execute_result",
          "data": {
            "text/plain": [
              "1753"
            ]
          },
          "metadata": {},
          "execution_count": 15
        }
      ],
      "source": [
        "len(data['returns'])"
      ]
    },
    {
      "cell_type": "code",
      "execution_count": null,
      "metadata": {
        "colab": {
          "base_uri": "https://localhost:8080/"
        },
        "id": "kSWgb8hhi-Y8",
        "outputId": "90fd345a-cdb5-428c-99c7-12a220937d4a"
      },
      "outputs": [
        {
          "output_type": "execute_result",
          "data": {
            "text/plain": [
              "Date       0\n",
              "Open       0\n",
              "High       0\n",
              "Low        0\n",
              "Close      0\n",
              "returns    1\n",
              "dtype: int64"
            ]
          },
          "metadata": {},
          "execution_count": 16
        }
      ],
      "source": [
        "data.isnull().sum()"
      ]
    },
    {
      "cell_type": "code",
      "execution_count": null,
      "metadata": {
        "colab": {
          "base_uri": "https://localhost:8080/"
        },
        "id": "qGyUuT-7jAjL",
        "outputId": "aa85f220-6889-4197-d916-c6372dbc0aae"
      },
      "outputs": [
        {
          "output_type": "execute_result",
          "data": {
            "text/plain": [
              "(1753, 6)"
            ]
          },
          "metadata": {},
          "execution_count": 17
        }
      ],
      "source": [
        "data.shape"
      ]
    },
    {
      "cell_type": "code",
      "execution_count": null,
      "metadata": {
        "colab": {
          "base_uri": "https://localhost:8080/",
          "height": 206
        },
        "id": "uYlp1spljC1E",
        "outputId": "97f9b45a-bf3a-4871-99de-95667e0495a3"
      },
      "outputs": [
        {
          "output_type": "execute_result",
          "data": {
            "text/html": [
              "\n",
              "  <div id=\"df-7db8b041-d34b-4f9a-8f53-d3b4c5c84cde\">\n",
              "    <div class=\"colab-df-container\">\n",
              "      <div>\n",
              "<style scoped>\n",
              "    .dataframe tbody tr th:only-of-type {\n",
              "        vertical-align: middle;\n",
              "    }\n",
              "\n",
              "    .dataframe tbody tr th {\n",
              "        vertical-align: top;\n",
              "    }\n",
              "\n",
              "    .dataframe thead th {\n",
              "        text-align: right;\n",
              "    }\n",
              "</style>\n",
              "<table border=\"1\" class=\"dataframe\">\n",
              "  <thead>\n",
              "    <tr style=\"text-align: right;\">\n",
              "      <th></th>\n",
              "      <th>Date</th>\n",
              "      <th>Open</th>\n",
              "      <th>High</th>\n",
              "      <th>Low</th>\n",
              "      <th>Close</th>\n",
              "      <th>returns</th>\n",
              "    </tr>\n",
              "  </thead>\n",
              "  <tbody>\n",
              "    <tr>\n",
              "      <th>0</th>\n",
              "      <td>2015-01-02</td>\n",
              "      <td>2058.90</td>\n",
              "      <td>2072.36</td>\n",
              "      <td>2046.04</td>\n",
              "      <td>2058.20</td>\n",
              "      <td>0.000000</td>\n",
              "    </tr>\n",
              "    <tr>\n",
              "      <th>1</th>\n",
              "      <td>2015-01-05</td>\n",
              "      <td>2054.44</td>\n",
              "      <td>2054.44</td>\n",
              "      <td>2017.34</td>\n",
              "      <td>2020.58</td>\n",
              "      <td>-0.018278</td>\n",
              "    </tr>\n",
              "    <tr>\n",
              "      <th>2</th>\n",
              "      <td>2015-01-06</td>\n",
              "      <td>2022.15</td>\n",
              "      <td>2030.25</td>\n",
              "      <td>1992.44</td>\n",
              "      <td>2002.61</td>\n",
              "      <td>-0.008893</td>\n",
              "    </tr>\n",
              "    <tr>\n",
              "      <th>3</th>\n",
              "      <td>2015-01-07</td>\n",
              "      <td>2005.55</td>\n",
              "      <td>2029.61</td>\n",
              "      <td>2005.55</td>\n",
              "      <td>2025.90</td>\n",
              "      <td>0.011630</td>\n",
              "    </tr>\n",
              "    <tr>\n",
              "      <th>4</th>\n",
              "      <td>2015-01-08</td>\n",
              "      <td>2030.61</td>\n",
              "      <td>2064.08</td>\n",
              "      <td>2030.61</td>\n",
              "      <td>2062.14</td>\n",
              "      <td>0.017888</td>\n",
              "    </tr>\n",
              "  </tbody>\n",
              "</table>\n",
              "</div>\n",
              "      <button class=\"colab-df-convert\" onclick=\"convertToInteractive('df-7db8b041-d34b-4f9a-8f53-d3b4c5c84cde')\"\n",
              "              title=\"Convert this dataframe to an interactive table.\"\n",
              "              style=\"display:none;\">\n",
              "        \n",
              "  <svg xmlns=\"http://www.w3.org/2000/svg\" height=\"24px\"viewBox=\"0 0 24 24\"\n",
              "       width=\"24px\">\n",
              "    <path d=\"M0 0h24v24H0V0z\" fill=\"none\"/>\n",
              "    <path d=\"M18.56 5.44l.94 2.06.94-2.06 2.06-.94-2.06-.94-.94-2.06-.94 2.06-2.06.94zm-11 1L8.5 8.5l.94-2.06 2.06-.94-2.06-.94L8.5 2.5l-.94 2.06-2.06.94zm10 10l.94 2.06.94-2.06 2.06-.94-2.06-.94-.94-2.06-.94 2.06-2.06.94z\"/><path d=\"M17.41 7.96l-1.37-1.37c-.4-.4-.92-.59-1.43-.59-.52 0-1.04.2-1.43.59L10.3 9.45l-7.72 7.72c-.78.78-.78 2.05 0 2.83L4 21.41c.39.39.9.59 1.41.59.51 0 1.02-.2 1.41-.59l7.78-7.78 2.81-2.81c.8-.78.8-2.07 0-2.86zM5.41 20L4 18.59l7.72-7.72 1.47 1.35L5.41 20z\"/>\n",
              "  </svg>\n",
              "      </button>\n",
              "      \n",
              "  <style>\n",
              "    .colab-df-container {\n",
              "      display:flex;\n",
              "      flex-wrap:wrap;\n",
              "      gap: 12px;\n",
              "    }\n",
              "\n",
              "    .colab-df-convert {\n",
              "      background-color: #E8F0FE;\n",
              "      border: none;\n",
              "      border-radius: 50%;\n",
              "      cursor: pointer;\n",
              "      display: none;\n",
              "      fill: #1967D2;\n",
              "      height: 32px;\n",
              "      padding: 0 0 0 0;\n",
              "      width: 32px;\n",
              "    }\n",
              "\n",
              "    .colab-df-convert:hover {\n",
              "      background-color: #E2EBFA;\n",
              "      box-shadow: 0px 1px 2px rgba(60, 64, 67, 0.3), 0px 1px 3px 1px rgba(60, 64, 67, 0.15);\n",
              "      fill: #174EA6;\n",
              "    }\n",
              "\n",
              "    [theme=dark] .colab-df-convert {\n",
              "      background-color: #3B4455;\n",
              "      fill: #D2E3FC;\n",
              "    }\n",
              "\n",
              "    [theme=dark] .colab-df-convert:hover {\n",
              "      background-color: #434B5C;\n",
              "      box-shadow: 0px 1px 3px 1px rgba(0, 0, 0, 0.15);\n",
              "      filter: drop-shadow(0px 1px 2px rgba(0, 0, 0, 0.3));\n",
              "      fill: #FFFFFF;\n",
              "    }\n",
              "  </style>\n",
              "\n",
              "      <script>\n",
              "        const buttonEl =\n",
              "          document.querySelector('#df-7db8b041-d34b-4f9a-8f53-d3b4c5c84cde button.colab-df-convert');\n",
              "        buttonEl.style.display =\n",
              "          google.colab.kernel.accessAllowed ? 'block' : 'none';\n",
              "\n",
              "        async function convertToInteractive(key) {\n",
              "          const element = document.querySelector('#df-7db8b041-d34b-4f9a-8f53-d3b4c5c84cde');\n",
              "          const dataTable =\n",
              "            await google.colab.kernel.invokeFunction('convertToInteractive',\n",
              "                                                     [key], {});\n",
              "          if (!dataTable) return;\n",
              "\n",
              "          const docLinkHtml = 'Like what you see? Visit the ' +\n",
              "            '<a target=\"_blank\" href=https://colab.research.google.com/notebooks/data_table.ipynb>data table notebook</a>'\n",
              "            + ' to learn more about interactive tables.';\n",
              "          element.innerHTML = '';\n",
              "          dataTable['output_type'] = 'display_data';\n",
              "          await google.colab.output.renderOutput(dataTable, element);\n",
              "          const docLink = document.createElement('div');\n",
              "          docLink.innerHTML = docLinkHtml;\n",
              "          element.appendChild(docLink);\n",
              "        }\n",
              "      </script>\n",
              "    </div>\n",
              "  </div>\n",
              "  "
            ],
            "text/plain": [
              "        Date     Open     High      Low    Close   returns\n",
              "0 2015-01-02  2058.90  2072.36  2046.04  2058.20  0.000000\n",
              "1 2015-01-05  2054.44  2054.44  2017.34  2020.58 -0.018278\n",
              "2 2015-01-06  2022.15  2030.25  1992.44  2002.61 -0.008893\n",
              "3 2015-01-07  2005.55  2029.61  2005.55  2025.90  0.011630\n",
              "4 2015-01-08  2030.61  2064.08  2030.61  2062.14  0.017888"
            ]
          },
          "metadata": {},
          "execution_count": 18
        }
      ],
      "source": [
        "data.isnull().sum()\n",
        "data['returns'].fillna(int(data['returns'].mean()), inplace=True)\n",
        "data.head()"
      ]
    },
    {
      "cell_type": "code",
      "execution_count": null,
      "metadata": {
        "colab": {
          "base_uri": "https://localhost:8080/",
          "height": 206
        },
        "id": "yeTJmAr2jFUh",
        "outputId": "471d11e5-7532-4ed9-c504-d78c0490df24"
      },
      "outputs": [
        {
          "output_type": "execute_result",
          "data": {
            "text/html": [
              "\n",
              "  <div id=\"df-f9992e2b-e39a-40ac-ae6f-4852f6206c22\">\n",
              "    <div class=\"colab-df-container\">\n",
              "      <div>\n",
              "<style scoped>\n",
              "    .dataframe tbody tr th:only-of-type {\n",
              "        vertical-align: middle;\n",
              "    }\n",
              "\n",
              "    .dataframe tbody tr th {\n",
              "        vertical-align: top;\n",
              "    }\n",
              "\n",
              "    .dataframe thead th {\n",
              "        text-align: right;\n",
              "    }\n",
              "</style>\n",
              "<table border=\"1\" class=\"dataframe\">\n",
              "  <thead>\n",
              "    <tr style=\"text-align: right;\">\n",
              "      <th></th>\n",
              "      <th>Date</th>\n",
              "      <th>Open</th>\n",
              "      <th>High</th>\n",
              "      <th>Low</th>\n",
              "      <th>Close</th>\n",
              "      <th>returns</th>\n",
              "    </tr>\n",
              "  </thead>\n",
              "  <tbody>\n",
              "    <tr>\n",
              "      <th>1511</th>\n",
              "      <td>2021-01-04</td>\n",
              "      <td>3764.61</td>\n",
              "      <td>3769.99</td>\n",
              "      <td>3662.71</td>\n",
              "      <td>3700.65</td>\n",
              "      <td>-0.014755</td>\n",
              "    </tr>\n",
              "    <tr>\n",
              "      <th>1512</th>\n",
              "      <td>2021-01-05</td>\n",
              "      <td>3698.02</td>\n",
              "      <td>3737.83</td>\n",
              "      <td>3695.07</td>\n",
              "      <td>3726.86</td>\n",
              "      <td>0.007083</td>\n",
              "    </tr>\n",
              "    <tr>\n",
              "      <th>1513</th>\n",
              "      <td>2021-01-06</td>\n",
              "      <td>3712.20</td>\n",
              "      <td>3783.04</td>\n",
              "      <td>3705.34</td>\n",
              "      <td>3748.14</td>\n",
              "      <td>0.005710</td>\n",
              "    </tr>\n",
              "    <tr>\n",
              "      <th>1514</th>\n",
              "      <td>2021-01-07</td>\n",
              "      <td>3764.71</td>\n",
              "      <td>3811.55</td>\n",
              "      <td>3764.71</td>\n",
              "      <td>3803.79</td>\n",
              "      <td>0.014847</td>\n",
              "    </tr>\n",
              "    <tr>\n",
              "      <th>1515</th>\n",
              "      <td>2021-01-08</td>\n",
              "      <td>3815.05</td>\n",
              "      <td>3826.69</td>\n",
              "      <td>3783.60</td>\n",
              "      <td>3824.68</td>\n",
              "      <td>0.005492</td>\n",
              "    </tr>\n",
              "  </tbody>\n",
              "</table>\n",
              "</div>\n",
              "      <button class=\"colab-df-convert\" onclick=\"convertToInteractive('df-f9992e2b-e39a-40ac-ae6f-4852f6206c22')\"\n",
              "              title=\"Convert this dataframe to an interactive table.\"\n",
              "              style=\"display:none;\">\n",
              "        \n",
              "  <svg xmlns=\"http://www.w3.org/2000/svg\" height=\"24px\"viewBox=\"0 0 24 24\"\n",
              "       width=\"24px\">\n",
              "    <path d=\"M0 0h24v24H0V0z\" fill=\"none\"/>\n",
              "    <path d=\"M18.56 5.44l.94 2.06.94-2.06 2.06-.94-2.06-.94-.94-2.06-.94 2.06-2.06.94zm-11 1L8.5 8.5l.94-2.06 2.06-.94-2.06-.94L8.5 2.5l-.94 2.06-2.06.94zm10 10l.94 2.06.94-2.06 2.06-.94-2.06-.94-.94-2.06-.94 2.06-2.06.94z\"/><path d=\"M17.41 7.96l-1.37-1.37c-.4-.4-.92-.59-1.43-.59-.52 0-1.04.2-1.43.59L10.3 9.45l-7.72 7.72c-.78.78-.78 2.05 0 2.83L4 21.41c.39.39.9.59 1.41.59.51 0 1.02-.2 1.41-.59l7.78-7.78 2.81-2.81c.8-.78.8-2.07 0-2.86zM5.41 20L4 18.59l7.72-7.72 1.47 1.35L5.41 20z\"/>\n",
              "  </svg>\n",
              "      </button>\n",
              "      \n",
              "  <style>\n",
              "    .colab-df-container {\n",
              "      display:flex;\n",
              "      flex-wrap:wrap;\n",
              "      gap: 12px;\n",
              "    }\n",
              "\n",
              "    .colab-df-convert {\n",
              "      background-color: #E8F0FE;\n",
              "      border: none;\n",
              "      border-radius: 50%;\n",
              "      cursor: pointer;\n",
              "      display: none;\n",
              "      fill: #1967D2;\n",
              "      height: 32px;\n",
              "      padding: 0 0 0 0;\n",
              "      width: 32px;\n",
              "    }\n",
              "\n",
              "    .colab-df-convert:hover {\n",
              "      background-color: #E2EBFA;\n",
              "      box-shadow: 0px 1px 2px rgba(60, 64, 67, 0.3), 0px 1px 3px 1px rgba(60, 64, 67, 0.15);\n",
              "      fill: #174EA6;\n",
              "    }\n",
              "\n",
              "    [theme=dark] .colab-df-convert {\n",
              "      background-color: #3B4455;\n",
              "      fill: #D2E3FC;\n",
              "    }\n",
              "\n",
              "    [theme=dark] .colab-df-convert:hover {\n",
              "      background-color: #434B5C;\n",
              "      box-shadow: 0px 1px 3px 1px rgba(0, 0, 0, 0.15);\n",
              "      filter: drop-shadow(0px 1px 2px rgba(0, 0, 0, 0.3));\n",
              "      fill: #FFFFFF;\n",
              "    }\n",
              "  </style>\n",
              "\n",
              "      <script>\n",
              "        const buttonEl =\n",
              "          document.querySelector('#df-f9992e2b-e39a-40ac-ae6f-4852f6206c22 button.colab-df-convert');\n",
              "        buttonEl.style.display =\n",
              "          google.colab.kernel.accessAllowed ? 'block' : 'none';\n",
              "\n",
              "        async function convertToInteractive(key) {\n",
              "          const element = document.querySelector('#df-f9992e2b-e39a-40ac-ae6f-4852f6206c22');\n",
              "          const dataTable =\n",
              "            await google.colab.kernel.invokeFunction('convertToInteractive',\n",
              "                                                     [key], {});\n",
              "          if (!dataTable) return;\n",
              "\n",
              "          const docLinkHtml = 'Like what you see? Visit the ' +\n",
              "            '<a target=\"_blank\" href=https://colab.research.google.com/notebooks/data_table.ipynb>data table notebook</a>'\n",
              "            + ' to learn more about interactive tables.';\n",
              "          element.innerHTML = '';\n",
              "          dataTable['output_type'] = 'display_data';\n",
              "          await google.colab.output.renderOutput(dataTable, element);\n",
              "          const docLink = document.createElement('div');\n",
              "          docLink.innerHTML = docLinkHtml;\n",
              "          element.appendChild(docLink);\n",
              "        }\n",
              "      </script>\n",
              "    </div>\n",
              "  </div>\n",
              "  "
            ],
            "text/plain": [
              "           Date     Open     High      Low    Close   returns\n",
              "1511 2021-01-04  3764.61  3769.99  3662.71  3700.65 -0.014755\n",
              "1512 2021-01-05  3698.02  3737.83  3695.07  3726.86  0.007083\n",
              "1513 2021-01-06  3712.20  3783.04  3705.34  3748.14  0.005710\n",
              "1514 2021-01-07  3764.71  3811.55  3764.71  3803.79  0.014847\n",
              "1515 2021-01-08  3815.05  3826.69  3783.60  3824.68  0.005492"
            ]
          },
          "metadata": {},
          "execution_count": 19
        }
      ],
      "source": [
        "import datetime as dt\n",
        "stop= \"31/12/2020\"\n",
        "train = data[(pd.to_datetime(data[\"Date\"]) <= stop)]\n",
        "test = data[(pd.to_datetime(data[\"Date\"]) > stop)]\n",
        "test.head()"
      ]
    },
    {
      "cell_type": "code",
      "execution_count": null,
      "metadata": {
        "colab": {
          "base_uri": "https://localhost:8080/"
        },
        "id": "KjoG2N5WjIjy",
        "outputId": "36fe00a5-c3ec-4376-bbd3-2fbed044156d"
      },
      "outputs": [
        {
          "output_type": "execute_result",
          "data": {
            "text/plain": [
              "((242, 6), (1511, 6))"
            ]
          },
          "metadata": {},
          "execution_count": 20
        }
      ],
      "source": [
        "test.shape,train.shape"
      ]
    },
    {
      "cell_type": "code",
      "execution_count": null,
      "metadata": {
        "colab": {
          "base_uri": "https://localhost:8080/",
          "height": 206
        },
        "id": "xoVyhXFNjLxS",
        "outputId": "61e068ce-7db0-47af-f0ee-39ab9b476587"
      },
      "outputs": [
        {
          "output_type": "execute_result",
          "data": {
            "text/html": [
              "\n",
              "  <div id=\"df-ead3c23a-f2a7-4e85-97be-754c59c714b4\">\n",
              "    <div class=\"colab-df-container\">\n",
              "      <div>\n",
              "<style scoped>\n",
              "    .dataframe tbody tr th:only-of-type {\n",
              "        vertical-align: middle;\n",
              "    }\n",
              "\n",
              "    .dataframe tbody tr th {\n",
              "        vertical-align: top;\n",
              "    }\n",
              "\n",
              "    .dataframe thead th {\n",
              "        text-align: right;\n",
              "    }\n",
              "</style>\n",
              "<table border=\"1\" class=\"dataframe\">\n",
              "  <thead>\n",
              "    <tr style=\"text-align: right;\">\n",
              "      <th></th>\n",
              "      <th>Open</th>\n",
              "      <th>High</th>\n",
              "      <th>Low</th>\n",
              "      <th>Close</th>\n",
              "      <th>returns</th>\n",
              "    </tr>\n",
              "  </thead>\n",
              "  <tbody>\n",
              "    <tr>\n",
              "      <th>0</th>\n",
              "      <td>2058.90</td>\n",
              "      <td>2072.36</td>\n",
              "      <td>2046.04</td>\n",
              "      <td>2058.20</td>\n",
              "      <td>0.000000</td>\n",
              "    </tr>\n",
              "    <tr>\n",
              "      <th>1</th>\n",
              "      <td>2054.44</td>\n",
              "      <td>2054.44</td>\n",
              "      <td>2017.34</td>\n",
              "      <td>2020.58</td>\n",
              "      <td>-0.018278</td>\n",
              "    </tr>\n",
              "    <tr>\n",
              "      <th>2</th>\n",
              "      <td>2022.15</td>\n",
              "      <td>2030.25</td>\n",
              "      <td>1992.44</td>\n",
              "      <td>2002.61</td>\n",
              "      <td>-0.008893</td>\n",
              "    </tr>\n",
              "    <tr>\n",
              "      <th>3</th>\n",
              "      <td>2005.55</td>\n",
              "      <td>2029.61</td>\n",
              "      <td>2005.55</td>\n",
              "      <td>2025.90</td>\n",
              "      <td>0.011630</td>\n",
              "    </tr>\n",
              "    <tr>\n",
              "      <th>4</th>\n",
              "      <td>2030.61</td>\n",
              "      <td>2064.08</td>\n",
              "      <td>2030.61</td>\n",
              "      <td>2062.14</td>\n",
              "      <td>0.017888</td>\n",
              "    </tr>\n",
              "  </tbody>\n",
              "</table>\n",
              "</div>\n",
              "      <button class=\"colab-df-convert\" onclick=\"convertToInteractive('df-ead3c23a-f2a7-4e85-97be-754c59c714b4')\"\n",
              "              title=\"Convert this dataframe to an interactive table.\"\n",
              "              style=\"display:none;\">\n",
              "        \n",
              "  <svg xmlns=\"http://www.w3.org/2000/svg\" height=\"24px\"viewBox=\"0 0 24 24\"\n",
              "       width=\"24px\">\n",
              "    <path d=\"M0 0h24v24H0V0z\" fill=\"none\"/>\n",
              "    <path d=\"M18.56 5.44l.94 2.06.94-2.06 2.06-.94-2.06-.94-.94-2.06-.94 2.06-2.06.94zm-11 1L8.5 8.5l.94-2.06 2.06-.94-2.06-.94L8.5 2.5l-.94 2.06-2.06.94zm10 10l.94 2.06.94-2.06 2.06-.94-2.06-.94-.94-2.06-.94 2.06-2.06.94z\"/><path d=\"M17.41 7.96l-1.37-1.37c-.4-.4-.92-.59-1.43-.59-.52 0-1.04.2-1.43.59L10.3 9.45l-7.72 7.72c-.78.78-.78 2.05 0 2.83L4 21.41c.39.39.9.59 1.41.59.51 0 1.02-.2 1.41-.59l7.78-7.78 2.81-2.81c.8-.78.8-2.07 0-2.86zM5.41 20L4 18.59l7.72-7.72 1.47 1.35L5.41 20z\"/>\n",
              "  </svg>\n",
              "      </button>\n",
              "      \n",
              "  <style>\n",
              "    .colab-df-container {\n",
              "      display:flex;\n",
              "      flex-wrap:wrap;\n",
              "      gap: 12px;\n",
              "    }\n",
              "\n",
              "    .colab-df-convert {\n",
              "      background-color: #E8F0FE;\n",
              "      border: none;\n",
              "      border-radius: 50%;\n",
              "      cursor: pointer;\n",
              "      display: none;\n",
              "      fill: #1967D2;\n",
              "      height: 32px;\n",
              "      padding: 0 0 0 0;\n",
              "      width: 32px;\n",
              "    }\n",
              "\n",
              "    .colab-df-convert:hover {\n",
              "      background-color: #E2EBFA;\n",
              "      box-shadow: 0px 1px 2px rgba(60, 64, 67, 0.3), 0px 1px 3px 1px rgba(60, 64, 67, 0.15);\n",
              "      fill: #174EA6;\n",
              "    }\n",
              "\n",
              "    [theme=dark] .colab-df-convert {\n",
              "      background-color: #3B4455;\n",
              "      fill: #D2E3FC;\n",
              "    }\n",
              "\n",
              "    [theme=dark] .colab-df-convert:hover {\n",
              "      background-color: #434B5C;\n",
              "      box-shadow: 0px 1px 3px 1px rgba(0, 0, 0, 0.15);\n",
              "      filter: drop-shadow(0px 1px 2px rgba(0, 0, 0, 0.3));\n",
              "      fill: #FFFFFF;\n",
              "    }\n",
              "  </style>\n",
              "\n",
              "      <script>\n",
              "        const buttonEl =\n",
              "          document.querySelector('#df-ead3c23a-f2a7-4e85-97be-754c59c714b4 button.colab-df-convert');\n",
              "        buttonEl.style.display =\n",
              "          google.colab.kernel.accessAllowed ? 'block' : 'none';\n",
              "\n",
              "        async function convertToInteractive(key) {\n",
              "          const element = document.querySelector('#df-ead3c23a-f2a7-4e85-97be-754c59c714b4');\n",
              "          const dataTable =\n",
              "            await google.colab.kernel.invokeFunction('convertToInteractive',\n",
              "                                                     [key], {});\n",
              "          if (!dataTable) return;\n",
              "\n",
              "          const docLinkHtml = 'Like what you see? Visit the ' +\n",
              "            '<a target=\"_blank\" href=https://colab.research.google.com/notebooks/data_table.ipynb>data table notebook</a>'\n",
              "            + ' to learn more about interactive tables.';\n",
              "          element.innerHTML = '';\n",
              "          dataTable['output_type'] = 'display_data';\n",
              "          await google.colab.output.renderOutput(dataTable, element);\n",
              "          const docLink = document.createElement('div');\n",
              "          docLink.innerHTML = docLinkHtml;\n",
              "          element.appendChild(docLink);\n",
              "        }\n",
              "      </script>\n",
              "    </div>\n",
              "  </div>\n",
              "  "
            ],
            "text/plain": [
              "      Open     High      Low    Close   returns\n",
              "0  2058.90  2072.36  2046.04  2058.20  0.000000\n",
              "1  2054.44  2054.44  2017.34  2020.58 -0.018278\n",
              "2  2022.15  2030.25  1992.44  2002.61 -0.008893\n",
              "3  2005.55  2029.61  2005.55  2025.90  0.011630\n",
              "4  2030.61  2064.08  2030.61  2062.14  0.017888"
            ]
          },
          "metadata": {},
          "execution_count": 21
        }
      ],
      "source": [
        "training_data = train.drop(['Date'],axis = 1)\n",
        "training_data.head()"
      ]
    },
    {
      "cell_type": "code",
      "execution_count": null,
      "metadata": {
        "colab": {
          "base_uri": "https://localhost:8080/"
        },
        "id": "kPaHedJ5jOXE",
        "outputId": "4e4c66d7-6a13-4a06-be64-861143fdbbed"
      },
      "outputs": [
        {
          "output_type": "execute_result",
          "data": {
            "text/plain": [
              "<bound method NDFrame.tail of          Open     High      Low    Close   returns\n",
              "0     2058.90  2072.36  2046.04  2058.20  0.000000\n",
              "1     2054.44  2054.44  2017.34  2020.58 -0.018278\n",
              "2     2022.15  2030.25  1992.44  2002.61 -0.008893\n",
              "3     2005.55  2029.61  2005.55  2025.90  0.011630\n",
              "4     2030.61  2064.08  2030.61  2062.14  0.017888\n",
              "...       ...      ...      ...      ...       ...\n",
              "1506  3694.03  3703.82  3689.32  3703.06  0.003537\n",
              "1507  3723.03  3740.51  3723.03  3735.36  0.008723\n",
              "1508  3750.01  3756.12  3723.31  3727.04 -0.002227\n",
              "1509  3736.19  3744.63  3730.21  3732.04  0.001342\n",
              "1510  3733.27  3760.20  3726.88  3756.07  0.006439\n",
              "\n",
              "[1511 rows x 5 columns]>"
            ]
          },
          "metadata": {},
          "execution_count": 22
        }
      ],
      "source": [
        "training_data.tail"
      ]
    },
    {
      "cell_type": "code",
      "execution_count": null,
      "metadata": {
        "colab": {
          "base_uri": "https://localhost:8080/"
        },
        "id": "mn7JQOvdjRF0",
        "outputId": "a760bc55-f099-4c45-8b4c-d7e8ab0d3838"
      },
      "outputs": [
        {
          "output_type": "execute_result",
          "data": {
            "text/plain": [
              "array([[0.11765565, 0.11779218, 0.12287838, 0.11890046, 0.56087207],\n",
              "       [0.11532863, 0.10842567, 0.10793132, 0.09937779, 0.4753277 ],\n",
              "       [0.09848117, 0.09578194, 0.09496331, 0.09005236, 0.51924918],\n",
              "       ...,\n",
              "       [1.        , 0.99786745, 0.99640646, 0.98493505, 0.55044767],\n",
              "       [0.99278935, 0.9918618 , 1.        , 0.98752977, 0.56715072],\n",
              "       [0.99126583, 1.        , 0.99826572, 1.        , 0.59100682]])"
            ]
          },
          "metadata": {},
          "execution_count": 23
        }
      ],
      "source": [
        "scaler = MinMaxScaler()\n",
        "training_data = scaler.fit_transform(training_data)\n",
        "training_data"
      ]
    },
    {
      "cell_type": "code",
      "execution_count": null,
      "metadata": {
        "id": "QGIZSxJAjUOf"
      },
      "outputs": [],
      "source": [
        "X_train = []\n",
        "Y_train = []"
      ]
    },
    {
      "cell_type": "code",
      "execution_count": null,
      "metadata": {
        "id": "g5fH6YSGjXvm"
      },
      "outputs": [],
      "source": [
        "for i in range(166, training_data.shape[0]):\n",
        "  X_train.append(training_data[i-166:i])\n",
        "  Y_train.append(training_data[i,4])"
      ]
    },
    {
      "cell_type": "code",
      "execution_count": null,
      "metadata": {
        "id": "4fVRkkfAjapf"
      },
      "outputs": [],
      "source": [
        "X_train,Y_train = np.array(X_train), np.array(Y_train)"
      ]
    },
    {
      "cell_type": "code",
      "execution_count": null,
      "metadata": {
        "colab": {
          "base_uri": "https://localhost:8080/"
        },
        "id": "oDUmCTqjjeFx",
        "outputId": "7d4b01e5-d17f-43ae-9846-90c8798024a5"
      },
      "outputs": [
        {
          "output_type": "execute_result",
          "data": {
            "text/plain": [
              "((1345, 166, 5), (1345,))"
            ]
          },
          "metadata": {},
          "execution_count": 27
        }
      ],
      "source": [
        "X_train.shape,Y_train.shape"
      ]
    },
    {
      "cell_type": "markdown",
      "source": [
        "SimpleRNN"
      ],
      "metadata": {
        "id": "hym4j0Vc58GT"
      }
    },
    {
      "cell_type": "code",
      "source": [
        "from keras.models import Sequential\n",
        "from keras.layers import Dense\n",
        "from keras.layers import SimpleRNN, Dropout"
      ],
      "metadata": {
        "id": "uw6f9mBT57Tc"
      },
      "execution_count": null,
      "outputs": []
    },
    {
      "cell_type": "code",
      "source": [
        "Sregressor = Sequential()\n",
        "Sregressor.add(SimpleRNN(units = 60, activation='tanh',return_sequences=True,input_shape = (X_train.shape[1],5)))\n",
        "Sregressor.add(Dropout(0.2))\n",
        "\n",
        "Sregressor.add(SimpleRNN(units = 60, activation='tanh',return_sequences=True))\n",
        "Sregressor.add(Dropout(0.3))\n",
        "\n",
        "Sregressor.add(SimpleRNN(units = 80, activation='tanh',return_sequences=True))\n",
        "Sregressor.add(Dropout(0.4))\n",
        "\n",
        "\n",
        "Sregressor.add(SimpleRNN(units = 120, activation='tanh'))\n",
        "Sregressor.add(Dropout(0.5))\n",
        "\n",
        "Sregressor.add(Dense(units = 1))"
      ],
      "metadata": {
        "id": "ys9v4az46IOD"
      },
      "execution_count": null,
      "outputs": []
    },
    {
      "cell_type": "code",
      "source": [
        "Sregressor.compile(optimizer=tf.keras.optimizers.Adam(learning_rate=0.0001),loss='mean_squared_error',metrics=[tf.keras.metrics.RootMeanSquaredError()])"
      ],
      "metadata": {
        "id": "VlZVAm316eWw"
      },
      "execution_count": null,
      "outputs": []
    },
    {
      "cell_type": "code",
      "source": [
        "Sregressor.fit(X_train,Y_train,epochs=10,batch_size=30)"
      ],
      "metadata": {
        "colab": {
          "base_uri": "https://localhost:8080/"
        },
        "id": "Z4XpeAfK6mYC",
        "outputId": "d302252e-055f-4d33-cf0e-b8ef5dc2efea"
      },
      "execution_count": null,
      "outputs": [
        {
          "output_type": "stream",
          "name": "stdout",
          "text": [
            "Epoch 1/10\n",
            "45/45 [==============================] - 13s 220ms/step - loss: 1.0953 - root_mean_squared_error: 1.0466\n",
            "Epoch 2/10\n",
            "45/45 [==============================] - 15s 341ms/step - loss: 1.0242 - root_mean_squared_error: 1.0120\n",
            "Epoch 3/10\n",
            "45/45 [==============================] - 14s 307ms/step - loss: 0.9464 - root_mean_squared_error: 0.9728\n",
            "Epoch 4/10\n",
            "45/45 [==============================] - 12s 278ms/step - loss: 0.9294 - root_mean_squared_error: 0.9641\n",
            "Epoch 5/10\n",
            "45/45 [==============================] - 10s 227ms/step - loss: 0.8616 - root_mean_squared_error: 0.9282\n",
            "Epoch 6/10\n",
            "45/45 [==============================] - 11s 238ms/step - loss: 0.7539 - root_mean_squared_error: 0.8683\n",
            "Epoch 7/10\n",
            "45/45 [==============================] - 9s 203ms/step - loss: 0.7355 - root_mean_squared_error: 0.8576\n",
            "Epoch 8/10\n",
            "45/45 [==============================] - 8s 183ms/step - loss: 0.6951 - root_mean_squared_error: 0.8338\n",
            "Epoch 9/10\n",
            "45/45 [==============================] - 8s 183ms/step - loss: 0.6537 - root_mean_squared_error: 0.8085\n",
            "Epoch 10/10\n",
            "45/45 [==============================] - 8s 181ms/step - loss: 0.6190 - root_mean_squared_error: 0.7868\n"
          ]
        },
        {
          "output_type": "execute_result",
          "data": {
            "text/plain": [
              "<keras.callbacks.History at 0x7fce3346b890>"
            ]
          },
          "metadata": {},
          "execution_count": 32
        }
      ]
    },
    {
      "cell_type": "code",
      "source": [
        "past_60_days = train.tail(166)\n",
        "past_60_days.head()"
      ],
      "metadata": {
        "colab": {
          "base_uri": "https://localhost:8080/",
          "height": 206
        },
        "id": "YRWvH3DK6uxf",
        "outputId": "073d5d8e-7762-4164-b8a7-1b40bebabc8b"
      },
      "execution_count": null,
      "outputs": [
        {
          "output_type": "execute_result",
          "data": {
            "text/html": [
              "\n",
              "  <div id=\"df-7f0bc3ea-6d81-400d-b53a-2ffc337545e6\">\n",
              "    <div class=\"colab-df-container\">\n",
              "      <div>\n",
              "<style scoped>\n",
              "    .dataframe tbody tr th:only-of-type {\n",
              "        vertical-align: middle;\n",
              "    }\n",
              "\n",
              "    .dataframe tbody tr th {\n",
              "        vertical-align: top;\n",
              "    }\n",
              "\n",
              "    .dataframe thead th {\n",
              "        text-align: right;\n",
              "    }\n",
              "</style>\n",
              "<table border=\"1\" class=\"dataframe\">\n",
              "  <thead>\n",
              "    <tr style=\"text-align: right;\">\n",
              "      <th></th>\n",
              "      <th>Date</th>\n",
              "      <th>Open</th>\n",
              "      <th>High</th>\n",
              "      <th>Low</th>\n",
              "      <th>Close</th>\n",
              "      <th>returns</th>\n",
              "    </tr>\n",
              "  </thead>\n",
              "  <tbody>\n",
              "    <tr>\n",
              "      <th>1345</th>\n",
              "      <td>2020-05-07</td>\n",
              "      <td>2878.26</td>\n",
              "      <td>2901.92</td>\n",
              "      <td>2876.48</td>\n",
              "      <td>2881.19</td>\n",
              "      <td>0.011505</td>\n",
              "    </tr>\n",
              "    <tr>\n",
              "      <th>1346</th>\n",
              "      <td>2020-05-08</td>\n",
              "      <td>2908.83</td>\n",
              "      <td>2932.16</td>\n",
              "      <td>2902.88</td>\n",
              "      <td>2929.80</td>\n",
              "      <td>0.016872</td>\n",
              "    </tr>\n",
              "    <tr>\n",
              "      <th>1347</th>\n",
              "      <td>2020-05-11</td>\n",
              "      <td>2915.46</td>\n",
              "      <td>2944.25</td>\n",
              "      <td>2903.44</td>\n",
              "      <td>2930.32</td>\n",
              "      <td>0.000177</td>\n",
              "    </tr>\n",
              "    <tr>\n",
              "      <th>1348</th>\n",
              "      <td>2020-05-12</td>\n",
              "      <td>2939.50</td>\n",
              "      <td>2945.82</td>\n",
              "      <td>2869.59</td>\n",
              "      <td>2870.12</td>\n",
              "      <td>-0.020544</td>\n",
              "    </tr>\n",
              "    <tr>\n",
              "      <th>1349</th>\n",
              "      <td>2020-05-13</td>\n",
              "      <td>2865.86</td>\n",
              "      <td>2874.14</td>\n",
              "      <td>2793.15</td>\n",
              "      <td>2820.00</td>\n",
              "      <td>-0.017463</td>\n",
              "    </tr>\n",
              "  </tbody>\n",
              "</table>\n",
              "</div>\n",
              "      <button class=\"colab-df-convert\" onclick=\"convertToInteractive('df-7f0bc3ea-6d81-400d-b53a-2ffc337545e6')\"\n",
              "              title=\"Convert this dataframe to an interactive table.\"\n",
              "              style=\"display:none;\">\n",
              "        \n",
              "  <svg xmlns=\"http://www.w3.org/2000/svg\" height=\"24px\"viewBox=\"0 0 24 24\"\n",
              "       width=\"24px\">\n",
              "    <path d=\"M0 0h24v24H0V0z\" fill=\"none\"/>\n",
              "    <path d=\"M18.56 5.44l.94 2.06.94-2.06 2.06-.94-2.06-.94-.94-2.06-.94 2.06-2.06.94zm-11 1L8.5 8.5l.94-2.06 2.06-.94-2.06-.94L8.5 2.5l-.94 2.06-2.06.94zm10 10l.94 2.06.94-2.06 2.06-.94-2.06-.94-.94-2.06-.94 2.06-2.06.94z\"/><path d=\"M17.41 7.96l-1.37-1.37c-.4-.4-.92-.59-1.43-.59-.52 0-1.04.2-1.43.59L10.3 9.45l-7.72 7.72c-.78.78-.78 2.05 0 2.83L4 21.41c.39.39.9.59 1.41.59.51 0 1.02-.2 1.41-.59l7.78-7.78 2.81-2.81c.8-.78.8-2.07 0-2.86zM5.41 20L4 18.59l7.72-7.72 1.47 1.35L5.41 20z\"/>\n",
              "  </svg>\n",
              "      </button>\n",
              "      \n",
              "  <style>\n",
              "    .colab-df-container {\n",
              "      display:flex;\n",
              "      flex-wrap:wrap;\n",
              "      gap: 12px;\n",
              "    }\n",
              "\n",
              "    .colab-df-convert {\n",
              "      background-color: #E8F0FE;\n",
              "      border: none;\n",
              "      border-radius: 50%;\n",
              "      cursor: pointer;\n",
              "      display: none;\n",
              "      fill: #1967D2;\n",
              "      height: 32px;\n",
              "      padding: 0 0 0 0;\n",
              "      width: 32px;\n",
              "    }\n",
              "\n",
              "    .colab-df-convert:hover {\n",
              "      background-color: #E2EBFA;\n",
              "      box-shadow: 0px 1px 2px rgba(60, 64, 67, 0.3), 0px 1px 3px 1px rgba(60, 64, 67, 0.15);\n",
              "      fill: #174EA6;\n",
              "    }\n",
              "\n",
              "    [theme=dark] .colab-df-convert {\n",
              "      background-color: #3B4455;\n",
              "      fill: #D2E3FC;\n",
              "    }\n",
              "\n",
              "    [theme=dark] .colab-df-convert:hover {\n",
              "      background-color: #434B5C;\n",
              "      box-shadow: 0px 1px 3px 1px rgba(0, 0, 0, 0.15);\n",
              "      filter: drop-shadow(0px 1px 2px rgba(0, 0, 0, 0.3));\n",
              "      fill: #FFFFFF;\n",
              "    }\n",
              "  </style>\n",
              "\n",
              "      <script>\n",
              "        const buttonEl =\n",
              "          document.querySelector('#df-7f0bc3ea-6d81-400d-b53a-2ffc337545e6 button.colab-df-convert');\n",
              "        buttonEl.style.display =\n",
              "          google.colab.kernel.accessAllowed ? 'block' : 'none';\n",
              "\n",
              "        async function convertToInteractive(key) {\n",
              "          const element = document.querySelector('#df-7f0bc3ea-6d81-400d-b53a-2ffc337545e6');\n",
              "          const dataTable =\n",
              "            await google.colab.kernel.invokeFunction('convertToInteractive',\n",
              "                                                     [key], {});\n",
              "          if (!dataTable) return;\n",
              "\n",
              "          const docLinkHtml = 'Like what you see? Visit the ' +\n",
              "            '<a target=\"_blank\" href=https://colab.research.google.com/notebooks/data_table.ipynb>data table notebook</a>'\n",
              "            + ' to learn more about interactive tables.';\n",
              "          element.innerHTML = '';\n",
              "          dataTable['output_type'] = 'display_data';\n",
              "          await google.colab.output.renderOutput(dataTable, element);\n",
              "          const docLink = document.createElement('div');\n",
              "          docLink.innerHTML = docLinkHtml;\n",
              "          element.appendChild(docLink);\n",
              "        }\n",
              "      </script>\n",
              "    </div>\n",
              "  </div>\n",
              "  "
            ],
            "text/plain": [
              "           Date     Open     High      Low    Close   returns\n",
              "1345 2020-05-07  2878.26  2901.92  2876.48  2881.19  0.011505\n",
              "1346 2020-05-08  2908.83  2932.16  2902.88  2929.80  0.016872\n",
              "1347 2020-05-11  2915.46  2944.25  2903.44  2930.32  0.000177\n",
              "1348 2020-05-12  2939.50  2945.82  2869.59  2870.12 -0.020544\n",
              "1349 2020-05-13  2865.86  2874.14  2793.15  2820.00 -0.017463"
            ]
          },
          "metadata": {},
          "execution_count": 33
        }
      ]
    },
    {
      "cell_type": "code",
      "source": [
        "df = past_60_days.append(test,ignore_index=True)\n",
        "df.head()\n",
        "df.drop(['Date'],axis = 1, inplace=True)"
      ],
      "metadata": {
        "id": "Par-ox5360TX"
      },
      "execution_count": null,
      "outputs": []
    },
    {
      "cell_type": "code",
      "source": [
        "inputs = scaler.transform(df)\n",
        "inputs.shape"
      ],
      "metadata": {
        "colab": {
          "base_uri": "https://localhost:8080/"
        },
        "id": "CqTyjU-V65EP",
        "outputId": "c59ef5b1-0df3-4bb2-bf0b-c508a9f85d66"
      },
      "execution_count": null,
      "outputs": [
        {
          "output_type": "execute_result",
          "data": {
            "text/plain": [
              "(408, 5)"
            ]
          },
          "metadata": {},
          "execution_count": 35
        }
      ]
    },
    {
      "cell_type": "code",
      "source": [
        "X_test = []\n",
        "Y_test = []\n",
        "for i in range(166,inputs.shape[0]):\n",
        "  X_test.append(inputs[i-166:i])\n",
        "  Y_test.append(inputs[i,4])"
      ],
      "metadata": {
        "id": "jl3fv4uL6-1z"
      },
      "execution_count": null,
      "outputs": []
    },
    {
      "cell_type": "code",
      "source": [
        "X_test,Y_test = np.array(X_test), np.array(Y_test)\n",
        "X_test.shape,Y_test.shape"
      ],
      "metadata": {
        "colab": {
          "base_uri": "https://localhost:8080/"
        },
        "id": "yPe2RoGp7p1C",
        "outputId": "ecd182d1-9456-462a-8d69-934d5b6bf207"
      },
      "execution_count": null,
      "outputs": [
        {
          "output_type": "execute_result",
          "data": {
            "text/plain": [
              "((242, 166, 5), (242,))"
            ]
          },
          "metadata": {},
          "execution_count": 37
        }
      ]
    },
    {
      "cell_type": "code",
      "source": [
        "y_pred = Sregressor.predict(X_test)"
      ],
      "metadata": {
        "id": "7JcRBvlH7vhb"
      },
      "execution_count": null,
      "outputs": []
    },
    {
      "cell_type": "code",
      "source": [
        "scaler.scale_"
      ],
      "metadata": {
        "colab": {
          "base_uri": "https://localhost:8080/"
        },
        "id": "CMlh1eVK7y7I",
        "outputId": "dd2ecda3-cf52-4f44-ce56-2d097c766ea4"
      },
      "execution_count": null,
      "outputs": [
        {
          "output_type": "execute_result",
          "data": {
            "text/plain": [
              "array([5.21754556e-04, 5.22684508e-04, 5.20803496e-04, 5.18944053e-04,\n",
              "       4.68015450e+00])"
            ]
          },
          "metadata": {},
          "execution_count": 41
        }
      ]
    },
    {
      "cell_type": "code",
      "source": [
        "scale = 1/4.68015450e+00\n",
        "scale"
      ],
      "metadata": {
        "colab": {
          "base_uri": "https://localhost:8080/"
        },
        "id": "H6dvxjV99YF5",
        "outputId": "d479c192-1650-4855-f839-acc869062e63"
      },
      "execution_count": null,
      "outputs": [
        {
          "output_type": "execute_result",
          "data": {
            "text/plain": [
              "0.213668159886602"
            ]
          },
          "metadata": {},
          "execution_count": 44
        }
      ]
    },
    {
      "cell_type": "code",
      "source": [
        "y_pred = y_pred*scale\n",
        "Y_test = Y_test*scale"
      ],
      "metadata": {
        "id": "GTG5zK6w75N7"
      },
      "execution_count": null,
      "outputs": []
    },
    {
      "cell_type": "code",
      "source": [
        "rmse = np.sqrt(np.mean(((y_pred-Y_test)**2)))\n",
        "rmse"
      ],
      "metadata": {
        "colab": {
          "base_uri": "https://localhost:8080/"
        },
        "id": "5kfnv0v683mK",
        "outputId": "1795dbf8-e831-4932-fa45-461d3d871f72"
      },
      "execution_count": null,
      "outputs": [
        {
          "output_type": "execute_result",
          "data": {
            "text/plain": [
              "0.0452275967371444"
            ]
          },
          "metadata": {},
          "execution_count": 46
        }
      ]
    },
    {
      "cell_type": "code",
      "source": [
        "# Visualising the results\n",
        "import matplotlib.pyplot as plt\n",
        "training_data_len = len(train)\n",
        "trains = data[:training_data_len]\n",
        "valid = data[training_data_len:]\n",
        "valid['Predictions'] = y_pred\n",
        "#Visualize the data\n",
        "plt.figure(figsize=(16,8))\n",
        "plt.title('Model')\n",
        "plt.xlabel('Date', fontsize=18)\n",
        "plt.ylabel(' returns ', fontsize=18)\n",
        "plt.plot(trains['returns'])\n",
        "plt.plot(valid[['returns', 'Predictions']])\n",
        "plt.legend(['Train', 'Val', 'Predictions'], loc='lower right')\n",
        "plt.show()"
      ],
      "metadata": {
        "colab": {
          "base_uri": "https://localhost:8080/",
          "height": 627
        },
        "id": "6GNI3rlZ84mG",
        "outputId": "ea1ac373-9294-4897-b705-21ea63ee52fe"
      },
      "execution_count": null,
      "outputs": [
        {
          "output_type": "stream",
          "name": "stderr",
          "text": [
            "/usr/local/lib/python3.7/dist-packages/ipykernel_launcher.py:6: SettingWithCopyWarning: \n",
            "A value is trying to be set on a copy of a slice from a DataFrame.\n",
            "Try using .loc[row_indexer,col_indexer] = value instead\n",
            "\n",
            "See the caveats in the documentation: https://pandas.pydata.org/pandas-docs/stable/user_guide/indexing.html#returning-a-view-versus-a-copy\n",
            "  \n"
          ]
        },
        {
          "output_type": "display_data",
          "data": {
            "image/png": "[encoded data removed]",
            "text/plain": [
              "<Figure size 1152x576 with 1 Axes>"
            ]
          },
          "metadata": {
            "needs_background": "light"
          }
        }
      ]
    },
    {
      "cell_type": "markdown",
      "metadata": {
        "id": "w-kCLiyGjmBL"
      },
      "source": [
        "LSTM"
      ]
    },
    {
      "cell_type": "code",
      "execution_count": null,
      "metadata": {
        "id": "JAK6__y8jhS2"
      },
      "outputs": [],
      "source": [
        "from keras.models import Sequential\n",
        "from keras.layers import Dense\n",
        "from keras.layers import LSTM, Dropout"
      ]
    },
    {
      "cell_type": "code",
      "execution_count": null,
      "metadata": {
        "id": "Q0LDNPvDjq1W"
      },
      "outputs": [],
      "source": [
        "regressor = Sequential()\n",
        "regressor.add(LSTM(units = 60, activation='tanh',return_sequences=True,input_shape = (X_train.shape[1],5)))\n",
        "regressor.add(Dropout(0.2))\n",
        "\n",
        "regressor.add(LSTM(units = 60, activation='tanh',return_sequences=True))\n",
        "regressor.add(Dropout(0.3))\n",
        "\n",
        "regressor.add(LSTM(units = 80, activation='tanh',return_sequences=True))\n",
        "regressor.add(Dropout(0.4))\n",
        "\n",
        "\n",
        "regressor.add(LSTM(units = 120, activation='tanh'))\n",
        "regressor.add(Dropout(0.5))\n",
        "\n",
        "regressor.add(Dense(units = 1))"
      ]
    },
    {
      "cell_type": "code",
      "execution_count": null,
      "metadata": {
        "colab": {
          "base_uri": "https://localhost:8080/"
        },
        "id": "e8eWNEp5jt6B",
        "outputId": "b69ccdab-b9c3-4f2d-abe7-63672bd0502e"
      },
      "outputs": [
        {
          "output_type": "stream",
          "name": "stdout",
          "text": [
            "Model: \"sequential\"\n",
            "_________________________________________________________________\n",
            " Layer (type)                Output Shape              Param #   \n",
            "=================================================================\n",
            " lstm (LSTM)                 (None, 166, 60)           15840     \n",
            "                                                                 \n",
            " dropout (Dropout)           (None, 166, 60)           0         \n",
            "                                                                 \n",
            " lstm_1 (LSTM)               (None, 166, 60)           29040     \n",
            "                                                                 \n",
            " dropout_1 (Dropout)         (None, 166, 60)           0         \n",
            "                                                                 \n",
            " lstm_2 (LSTM)               (None, 166, 80)           45120     \n",
            "                                                                 \n",
            " dropout_2 (Dropout)         (None, 166, 80)           0         \n",
            "                                                                 \n",
            " lstm_3 (LSTM)               (None, 120)               96480     \n",
            "                                                                 \n",
            " dropout_3 (Dropout)         (None, 120)               0         \n",
            "                                                                 \n",
            " dense (Dense)               (None, 1)                 121       \n",
            "                                                                 \n",
            "=================================================================\n",
            "Total params: 186,601\n",
            "Trainable params: 186,601\n",
            "Non-trainable params: 0\n",
            "_________________________________________________________________\n"
          ]
        }
      ],
      "source": [
        "regressor.summary()"
      ]
    },
    {
      "cell_type": "code",
      "execution_count": null,
      "metadata": {
        "id": "wmVTdaRkjw3z"
      },
      "outputs": [],
      "source": [
        "regressor.compile(optimizer=tf.keras.optimizers.Adam(learning_rate=0.000001),loss='mean_squared_error',metrics=[tf.keras.metrics.RootMeanSquaredError()])"
      ]
    },
    {
      "cell_type": "code",
      "execution_count": null,
      "metadata": {
        "colab": {
          "base_uri": "https://localhost:8080/"
        },
        "id": "JynXEiFRj7My",
        "outputId": "0c80babe-d4db-4103-9a32-563d781bf3c0"
      },
      "outputs": [
        {
          "output_type": "stream",
          "name": "stdout",
          "text": [
            "Epoch 1/10\n",
            "45/45 [==============================] - 28s 454ms/step - loss: 0.2863 - root_mean_squared_error: 0.5351\n",
            "Epoch 2/10\n",
            "45/45 [==============================] - 20s 452ms/step - loss: 0.2807 - root_mean_squared_error: 0.5298\n",
            "Epoch 3/10\n",
            "45/45 [==============================] - 20s 452ms/step - loss: 0.2719 - root_mean_squared_error: 0.5215\n",
            "Epoch 4/10\n",
            "45/45 [==============================] - 20s 453ms/step - loss: 0.2659 - root_mean_squared_error: 0.5157\n",
            "Epoch 5/10\n",
            "45/45 [==============================] - 20s 450ms/step - loss: 0.2606 - root_mean_squared_error: 0.5105\n",
            "Epoch 6/10\n",
            "45/45 [==============================] - 20s 448ms/step - loss: 0.2564 - root_mean_squared_error: 0.5064\n",
            "Epoch 7/10\n",
            "45/45 [==============================] - 20s 451ms/step - loss: 0.2484 - root_mean_squared_error: 0.4984\n",
            "Epoch 8/10\n",
            "45/45 [==============================] - 20s 451ms/step - loss: 0.2418 - root_mean_squared_error: 0.4917\n",
            "Epoch 9/10\n",
            "45/45 [==============================] - 20s 452ms/step - loss: 0.2344 - root_mean_squared_error: 0.4841\n",
            "Epoch 10/10\n",
            "45/45 [==============================] - 20s 449ms/step - loss: 0.2296 - root_mean_squared_error: 0.4791\n"
          ]
        },
        {
          "output_type": "execute_result",
          "data": {
            "text/plain": [
              "<keras.callbacks.History at 0x7f95967282d0>"
            ]
          },
          "metadata": {},
          "execution_count": 34
        }
      ],
      "source": [
        "regressor.fit(X_train,Y_train,epochs=10,batch_size=30)"
      ]
    },
    {
      "cell_type": "code",
      "execution_count": null,
      "metadata": {
        "colab": {
          "base_uri": "https://localhost:8080/"
        },
        "id": "3f47aorXkFQt",
        "outputId": "f73387bd-3b7b-4dd7-91a9-3777de069ebb"
      },
      "outputs": [
        {
          "output_type": "execute_result",
          "data": {
            "text/plain": [
              "(166, 5)"
            ]
          },
          "metadata": {},
          "execution_count": 35
        }
      ],
      "source": [
        "(X_train.shape[1],5)"
      ]
    },
    {
      "cell_type": "code",
      "execution_count": null,
      "metadata": {
        "colab": {
          "base_uri": "https://localhost:8080/",
          "height": 206
        },
        "id": "LW-Zwynbkr4l",
        "outputId": "4a9bb4e3-1030-4c6f-a779-c30a8583bdc1"
      },
      "outputs": [
        {
          "output_type": "execute_result",
          "data": {
            "text/html": [
              "\n",
              "  <div id=\"df-e084a315-5253-4268-84fe-30a4bddc166a\">\n",
              "    <div class=\"colab-df-container\">\n",
              "      <div>\n",
              "<style scoped>\n",
              "    .dataframe tbody tr th:only-of-type {\n",
              "        vertical-align: middle;\n",
              "    }\n",
              "\n",
              "    .dataframe tbody tr th {\n",
              "        vertical-align: top;\n",
              "    }\n",
              "\n",
              "    .dataframe thead th {\n",
              "        text-align: right;\n",
              "    }\n",
              "</style>\n",
              "<table border=\"1\" class=\"dataframe\">\n",
              "  <thead>\n",
              "    <tr style=\"text-align: right;\">\n",
              "      <th></th>\n",
              "      <th>Date</th>\n",
              "      <th>Open</th>\n",
              "      <th>High</th>\n",
              "      <th>Low</th>\n",
              "      <th>Close</th>\n",
              "      <th>returns</th>\n",
              "    </tr>\n",
              "  </thead>\n",
              "  <tbody>\n",
              "    <tr>\n",
              "      <th>1345</th>\n",
              "      <td>2020-05-07</td>\n",
              "      <td>2878.26</td>\n",
              "      <td>2901.92</td>\n",
              "      <td>2876.48</td>\n",
              "      <td>2881.19</td>\n",
              "      <td>0.011505</td>\n",
              "    </tr>\n",
              "    <tr>\n",
              "      <th>1346</th>\n",
              "      <td>2020-05-08</td>\n",
              "      <td>2908.83</td>\n",
              "      <td>2932.16</td>\n",
              "      <td>2902.88</td>\n",
              "      <td>2929.80</td>\n",
              "      <td>0.016872</td>\n",
              "    </tr>\n",
              "    <tr>\n",
              "      <th>1347</th>\n",
              "      <td>2020-05-11</td>\n",
              "      <td>2915.46</td>\n",
              "      <td>2944.25</td>\n",
              "      <td>2903.44</td>\n",
              "      <td>2930.32</td>\n",
              "      <td>0.000177</td>\n",
              "    </tr>\n",
              "    <tr>\n",
              "      <th>1348</th>\n",
              "      <td>2020-05-12</td>\n",
              "      <td>2939.50</td>\n",
              "      <td>2945.82</td>\n",
              "      <td>2869.59</td>\n",
              "      <td>2870.12</td>\n",
              "      <td>-0.020544</td>\n",
              "    </tr>\n",
              "    <tr>\n",
              "      <th>1349</th>\n",
              "      <td>2020-05-13</td>\n",
              "      <td>2865.86</td>\n",
              "      <td>2874.14</td>\n",
              "      <td>2793.15</td>\n",
              "      <td>2820.00</td>\n",
              "      <td>-0.017463</td>\n",
              "    </tr>\n",
              "  </tbody>\n",
              "</table>\n",
              "</div>\n",
              "      <button class=\"colab-df-convert\" onclick=\"convertToInteractive('df-e084a315-5253-4268-84fe-30a4bddc166a')\"\n",
              "              title=\"Convert this dataframe to an interactive table.\"\n",
              "              style=\"display:none;\">\n",
              "        \n",
              "  <svg xmlns=\"http://www.w3.org/2000/svg\" height=\"24px\"viewBox=\"0 0 24 24\"\n",
              "       width=\"24px\">\n",
              "    <path d=\"M0 0h24v24H0V0z\" fill=\"none\"/>\n",
              "    <path d=\"M18.56 5.44l.94 2.06.94-2.06 2.06-.94-2.06-.94-.94-2.06-.94 2.06-2.06.94zm-11 1L8.5 8.5l.94-2.06 2.06-.94-2.06-.94L8.5 2.5l-.94 2.06-2.06.94zm10 10l.94 2.06.94-2.06 2.06-.94-2.06-.94-.94-2.06-.94 2.06-2.06.94z\"/><path d=\"M17.41 7.96l-1.37-1.37c-.4-.4-.92-.59-1.43-.59-.52 0-1.04.2-1.43.59L10.3 9.45l-7.72 7.72c-.78.78-.78 2.05 0 2.83L4 21.41c.39.39.9.59 1.41.59.51 0 1.02-.2 1.41-.59l7.78-7.78 2.81-2.81c.8-.78.8-2.07 0-2.86zM5.41 20L4 18.59l7.72-7.72 1.47 1.35L5.41 20z\"/>\n",
              "  </svg>\n",
              "      </button>\n",
              "      \n",
              "  <style>\n",
              "    .colab-df-container {\n",
              "      display:flex;\n",
              "      flex-wrap:wrap;\n",
              "      gap: 12px;\n",
              "    }\n",
              "\n",
              "    .colab-df-convert {\n",
              "      background-color: #E8F0FE;\n",
              "      border: none;\n",
              "      border-radius: 50%;\n",
              "      cursor: pointer;\n",
              "      display: none;\n",
              "      fill: #1967D2;\n",
              "      height: 32px;\n",
              "      padding: 0 0 0 0;\n",
              "      width: 32px;\n",
              "    }\n",
              "\n",
              "    .colab-df-convert:hover {\n",
              "      background-color: #E2EBFA;\n",
              "      box-shadow: 0px 1px 2px rgba(60, 64, 67, 0.3), 0px 1px 3px 1px rgba(60, 64, 67, 0.15);\n",
              "      fill: #174EA6;\n",
              "    }\n",
              "\n",
              "    [theme=dark] .colab-df-convert {\n",
              "      background-color: #3B4455;\n",
              "      fill: #D2E3FC;\n",
              "    }\n",
              "\n",
              "    [theme=dark] .colab-df-convert:hover {\n",
              "      background-color: #434B5C;\n",
              "      box-shadow: 0px 1px 3px 1px rgba(0, 0, 0, 0.15);\n",
              "      filter: drop-shadow(0px 1px 2px rgba(0, 0, 0, 0.3));\n",
              "      fill: #FFFFFF;\n",
              "    }\n",
              "  </style>\n",
              "\n",
              "      <script>\n",
              "        const buttonEl =\n",
              "          document.querySelector('#df-e084a315-5253-4268-84fe-30a4bddc166a button.colab-df-convert');\n",
              "        buttonEl.style.display =\n",
              "          google.colab.kernel.accessAllowed ? 'block' : 'none';\n",
              "\n",
              "        async function convertToInteractive(key) {\n",
              "          const element = document.querySelector('#df-e084a315-5253-4268-84fe-30a4bddc166a');\n",
              "          const dataTable =\n",
              "            await google.colab.kernel.invokeFunction('convertToInteractive',\n",
              "                                                     [key], {});\n",
              "          if (!dataTable) return;\n",
              "\n",
              "          const docLinkHtml = 'Like what you see? Visit the ' +\n",
              "            '<a target=\"_blank\" href=https://colab.research.google.com/notebooks/data_table.ipynb>data table notebook</a>'\n",
              "            + ' to learn more about interactive tables.';\n",
              "          element.innerHTML = '';\n",
              "          dataTable['output_type'] = 'display_data';\n",
              "          await google.colab.output.renderOutput(dataTable, element);\n",
              "          const docLink = document.createElement('div');\n",
              "          docLink.innerHTML = docLinkHtml;\n",
              "          element.appendChild(docLink);\n",
              "        }\n",
              "      </script>\n",
              "    </div>\n",
              "  </div>\n",
              "  "
            ],
            "text/plain": [
              "           Date     Open     High      Low    Close   returns\n",
              "1345 2020-05-07  2878.26  2901.92  2876.48  2881.19  0.011505\n",
              "1346 2020-05-08  2908.83  2932.16  2902.88  2929.80  0.016872\n",
              "1347 2020-05-11  2915.46  2944.25  2903.44  2930.32  0.000177\n",
              "1348 2020-05-12  2939.50  2945.82  2869.59  2870.12 -0.020544\n",
              "1349 2020-05-13  2865.86  2874.14  2793.15  2820.00 -0.017463"
            ]
          },
          "metadata": {},
          "execution_count": 36
        }
      ],
      "source": [
        "past_60_days = train.tail(166)\n",
        "past_60_days.head()"
      ]
    },
    {
      "cell_type": "code",
      "execution_count": null,
      "metadata": {
        "id": "urQ5soQ5kuqE"
      },
      "outputs": [],
      "source": [
        "df = past_60_days.append(test,ignore_index=True)\n",
        "df.head()\n",
        "df.drop(['Date'],axis = 1, inplace=True)"
      ]
    },
    {
      "cell_type": "code",
      "execution_count": null,
      "metadata": {
        "colab": {
          "base_uri": "https://localhost:8080/",
          "height": 206
        },
        "id": "Ys_4LVnWkxXb",
        "outputId": "9413b632-250a-48a8-c30d-b6f99f144ed6"
      },
      "outputs": [
        {
          "output_type": "execute_result",
          "data": {
            "text/html": [
              "\n",
              "  <div id=\"df-a34cff2e-bbe1-4d50-abd4-bc8290a8f251\">\n",
              "    <div class=\"colab-df-container\">\n",
              "      <div>\n",
              "<style scoped>\n",
              "    .dataframe tbody tr th:only-of-type {\n",
              "        vertical-align: middle;\n",
              "    }\n",
              "\n",
              "    .dataframe tbody tr th {\n",
              "        vertical-align: top;\n",
              "    }\n",
              "\n",
              "    .dataframe thead th {\n",
              "        text-align: right;\n",
              "    }\n",
              "</style>\n",
              "<table border=\"1\" class=\"dataframe\">\n",
              "  <thead>\n",
              "    <tr style=\"text-align: right;\">\n",
              "      <th></th>\n",
              "      <th>Open</th>\n",
              "      <th>High</th>\n",
              "      <th>Low</th>\n",
              "      <th>Close</th>\n",
              "      <th>returns</th>\n",
              "    </tr>\n",
              "  </thead>\n",
              "  <tbody>\n",
              "    <tr>\n",
              "      <th>0</th>\n",
              "      <td>2878.26</td>\n",
              "      <td>2901.92</td>\n",
              "      <td>2876.48</td>\n",
              "      <td>2881.19</td>\n",
              "      <td>0.011505</td>\n",
              "    </tr>\n",
              "    <tr>\n",
              "      <th>1</th>\n",
              "      <td>2908.83</td>\n",
              "      <td>2932.16</td>\n",
              "      <td>2902.88</td>\n",
              "      <td>2929.80</td>\n",
              "      <td>0.016872</td>\n",
              "    </tr>\n",
              "    <tr>\n",
              "      <th>2</th>\n",
              "      <td>2915.46</td>\n",
              "      <td>2944.25</td>\n",
              "      <td>2903.44</td>\n",
              "      <td>2930.32</td>\n",
              "      <td>0.000177</td>\n",
              "    </tr>\n",
              "    <tr>\n",
              "      <th>3</th>\n",
              "      <td>2939.50</td>\n",
              "      <td>2945.82</td>\n",
              "      <td>2869.59</td>\n",
              "      <td>2870.12</td>\n",
              "      <td>-0.020544</td>\n",
              "    </tr>\n",
              "    <tr>\n",
              "      <th>4</th>\n",
              "      <td>2865.86</td>\n",
              "      <td>2874.14</td>\n",
              "      <td>2793.15</td>\n",
              "      <td>2820.00</td>\n",
              "      <td>-0.017463</td>\n",
              "    </tr>\n",
              "  </tbody>\n",
              "</table>\n",
              "</div>\n",
              "      <button class=\"colab-df-convert\" onclick=\"convertToInteractive('df-a34cff2e-bbe1-4d50-abd4-bc8290a8f251')\"\n",
              "              title=\"Convert this dataframe to an interactive table.\"\n",
              "              style=\"display:none;\">\n",
              "        \n",
              "  <svg xmlns=\"http://www.w3.org/2000/svg\" height=\"24px\"viewBox=\"0 0 24 24\"\n",
              "       width=\"24px\">\n",
              "    <path d=\"M0 0h24v24H0V0z\" fill=\"none\"/>\n",
              "    <path d=\"M18.56 5.44l.94 2.06.94-2.06 2.06-.94-2.06-.94-.94-2.06-.94 2.06-2.06.94zm-11 1L8.5 8.5l.94-2.06 2.06-.94-2.06-.94L8.5 2.5l-.94 2.06-2.06.94zm10 10l.94 2.06.94-2.06 2.06-.94-2.06-.94-.94-2.06-.94 2.06-2.06.94z\"/><path d=\"M17.41 7.96l-1.37-1.37c-.4-.4-.92-.59-1.43-.59-.52 0-1.04.2-1.43.59L10.3 9.45l-7.72 7.72c-.78.78-.78 2.05 0 2.83L4 21.41c.39.39.9.59 1.41.59.51 0 1.02-.2 1.41-.59l7.78-7.78 2.81-2.81c.8-.78.8-2.07 0-2.86zM5.41 20L4 18.59l7.72-7.72 1.47 1.35L5.41 20z\"/>\n",
              "  </svg>\n",
              "      </button>\n",
              "      \n",
              "  <style>\n",
              "    .colab-df-container {\n",
              "      display:flex;\n",
              "      flex-wrap:wrap;\n",
              "      gap: 12px;\n",
              "    }\n",
              "\n",
              "    .colab-df-convert {\n",
              "      background-color: #E8F0FE;\n",
              "      border: none;\n",
              "      border-radius: 50%;\n",
              "      cursor: pointer;\n",
              "      display: none;\n",
              "      fill: #1967D2;\n",
              "      height: 32px;\n",
              "      padding: 0 0 0 0;\n",
              "      width: 32px;\n",
              "    }\n",
              "\n",
              "    .colab-df-convert:hover {\n",
              "      background-color: #E2EBFA;\n",
              "      box-shadow: 0px 1px 2px rgba(60, 64, 67, 0.3), 0px 1px 3px 1px rgba(60, 64, 67, 0.15);\n",
              "      fill: #174EA6;\n",
              "    }\n",
              "\n",
              "    [theme=dark] .colab-df-convert {\n",
              "      background-color: #3B4455;\n",
              "      fill: #D2E3FC;\n",
              "    }\n",
              "\n",
              "    [theme=dark] .colab-df-convert:hover {\n",
              "      background-color: #434B5C;\n",
              "      box-shadow: 0px 1px 3px 1px rgba(0, 0, 0, 0.15);\n",
              "      filter: drop-shadow(0px 1px 2px rgba(0, 0, 0, 0.3));\n",
              "      fill: #FFFFFF;\n",
              "    }\n",
              "  </style>\n",
              "\n",
              "      <script>\n",
              "        const buttonEl =\n",
              "          document.querySelector('#df-a34cff2e-bbe1-4d50-abd4-bc8290a8f251 button.colab-df-convert');\n",
              "        buttonEl.style.display =\n",
              "          google.colab.kernel.accessAllowed ? 'block' : 'none';\n",
              "\n",
              "        async function convertToInteractive(key) {\n",
              "          const element = document.querySelector('#df-a34cff2e-bbe1-4d50-abd4-bc8290a8f251');\n",
              "          const dataTable =\n",
              "            await google.colab.kernel.invokeFunction('convertToInteractive',\n",
              "                                                     [key], {});\n",
              "          if (!dataTable) return;\n",
              "\n",
              "          const docLinkHtml = 'Like what you see? Visit the ' +\n",
              "            '<a target=\"_blank\" href=https://colab.research.google.com/notebooks/data_table.ipynb>data table notebook</a>'\n",
              "            + ' to learn more about interactive tables.';\n",
              "          element.innerHTML = '';\n",
              "          dataTable['output_type'] = 'display_data';\n",
              "          await google.colab.output.renderOutput(dataTable, element);\n",
              "          const docLink = document.createElement('div');\n",
              "          docLink.innerHTML = docLinkHtml;\n",
              "          element.appendChild(docLink);\n",
              "        }\n",
              "      </script>\n",
              "    </div>\n",
              "  </div>\n",
              "  "
            ],
            "text/plain": [
              "      Open     High      Low    Close   returns\n",
              "0  2878.26  2901.92  2876.48  2881.19  0.011505\n",
              "1  2908.83  2932.16  2902.88  2929.80  0.016872\n",
              "2  2915.46  2944.25  2903.44  2930.32  0.000177\n",
              "3  2939.50  2945.82  2869.59  2870.12 -0.020544\n",
              "4  2865.86  2874.14  2793.15  2820.00 -0.017463"
            ]
          },
          "metadata": {},
          "execution_count": 38
        }
      ],
      "source": [
        "df.head()"
      ]
    },
    {
      "cell_type": "code",
      "execution_count": null,
      "metadata": {
        "colab": {
          "base_uri": "https://localhost:8080/"
        },
        "id": "LvViSy7Wk1Ki",
        "outputId": "9d22831a-b57e-4b96-fa52-68a7f789aff1"
      },
      "outputs": [
        {
          "output_type": "execute_result",
          "data": {
            "text/plain": [
              "(408, 5)"
            ]
          },
          "metadata": {},
          "execution_count": 39
        }
      ],
      "source": [
        "df.shape"
      ]
    },
    {
      "cell_type": "code",
      "execution_count": null,
      "metadata": {
        "colab": {
          "base_uri": "https://localhost:8080/"
        },
        "id": "oP5BoWiRk4Ir",
        "outputId": "12206c7f-5edd-4f38-902b-a69c5051a5c1"
      },
      "outputs": [
        {
          "output_type": "execute_result",
          "data": {
            "text/plain": [
              "(408, 5)"
            ]
          },
          "metadata": {},
          "execution_count": 40
        }
      ],
      "source": [
        "inputs = scaler.transform(df)\n",
        "inputs.shape"
      ]
    },
    {
      "cell_type": "code",
      "execution_count": null,
      "metadata": {
        "colab": {
          "base_uri": "https://localhost:8080/"
        },
        "id": "l4OGqnajk6g3",
        "outputId": "34ba71db-61f9-4d11-e316-931ff7f6cdd3"
      },
      "outputs": [
        {
          "output_type": "execute_result",
          "data": {
            "text/plain": [
              "array([[0.54516047, 0.55139034, 0.55537443, 0.54598623, 0.61471548],\n",
              "       [0.5611105 , 0.56719632, 0.56912364, 0.5712121 , 0.6398333 ],\n",
              "       [0.56456974, 0.57351558, 0.56941529, 0.57148195, 0.56170273],\n",
              "       ...,\n",
              "       [1.46591638, 1.47055718, 1.45638531, 1.45564326, 0.52590851],\n",
              "       [1.46250933, 1.49780473, 1.45883309, 1.49495846, 0.63738515],\n",
              "       [1.50564278, 1.50793958, 1.48001417, 1.47410729, 0.5209454 ]])"
            ]
          },
          "metadata": {},
          "execution_count": 41
        }
      ],
      "source": [
        "inputs"
      ]
    },
    {
      "cell_type": "code",
      "execution_count": null,
      "metadata": {
        "colab": {
          "base_uri": "https://localhost:8080/"
        },
        "id": "iwlkFKo-k9_X",
        "outputId": "f08d0be0-433c-4797-a696-7bdd7d19ecf4"
      },
      "outputs": [
        {
          "output_type": "execute_result",
          "data": {
            "text/plain": [
              "0.4918174016965879"
            ]
          },
          "metadata": {},
          "execution_count": 42
        }
      ],
      "source": [
        "inputs[166,4]"
      ]
    },
    {
      "cell_type": "code",
      "execution_count": null,
      "metadata": {
        "id": "0h3yuIm7lBNP"
      },
      "outputs": [],
      "source": [
        "X_test = []\n",
        "Y_test = []\n",
        "for i in range(166,inputs.shape[0]):\n",
        "  X_test.append(inputs[i-166:i])\n",
        "  Y_test.append(inputs[i,4])"
      ]
    },
    {
      "cell_type": "code",
      "execution_count": null,
      "metadata": {
        "colab": {
          "base_uri": "https://localhost:8080/"
        },
        "id": "8n3CfkF8lEOe",
        "outputId": "aa75517d-1106-4471-96be-258e0c2f124d"
      },
      "outputs": [
        {
          "output_type": "execute_result",
          "data": {
            "text/plain": [
              "((242, 166, 5), (242,))"
            ]
          },
          "metadata": {},
          "execution_count": 44
        }
      ],
      "source": [
        "X_test,Y_test = np.array(X_test), np.array(Y_test)\n",
        "X_test.shape,Y_test.shape"
      ]
    },
    {
      "cell_type": "code",
      "execution_count": null,
      "metadata": {
        "id": "uZKrBboBlHL6"
      },
      "outputs": [],
      "source": [
        "y_pred = regressor.predict(X_test)"
      ]
    },
    {
      "cell_type": "code",
      "execution_count": null,
      "metadata": {
        "colab": {
          "base_uri": "https://localhost:8080/"
        },
        "id": "pQelhoerlKhe",
        "outputId": "4db7301d-b675-4366-99e5-90e0e3661d68"
      },
      "outputs": [
        {
          "output_type": "execute_result",
          "data": {
            "text/plain": [
              "array([[0.16943884],\n",
              "       [0.1697217 ],\n",
              "       [0.16999395],\n",
              "       [0.1702561 ],\n",
              "       [0.17051564],\n",
              "       [0.17077957],\n",
              "       [0.17104799],\n",
              "       [0.17132118],\n",
              "       [0.1716003 ],\n",
              "       [0.1718849 ],\n",
              "       [0.17217031],\n",
              "       [0.17245609],\n",
              "       [0.17274617],\n",
              "       [0.17304286],\n",
              "       [0.1733438 ],\n",
              "       [0.1736477 ],\n",
              "       [0.17395417],\n",
              "       [0.17425212],\n",
              "       [0.17453676],\n",
              "       [0.17480025],\n",
              "       [0.17504059],\n",
              "       [0.17526348],\n",
              "       [0.17547294],\n",
              "       [0.17567344],\n",
              "       [0.17587069],\n",
              "       [0.17607032],\n",
              "       [0.17627591],\n",
              "       [0.17648937],\n",
              "       [0.17671269],\n",
              "       [0.17694727],\n",
              "       [0.17719391],\n",
              "       [0.17745054],\n",
              "       [0.17771308],\n",
              "       [0.17797881],\n",
              "       [0.17824203],\n",
              "       [0.17849617],\n",
              "       [0.17874086],\n",
              "       [0.17896938],\n",
              "       [0.17917587],\n",
              "       [0.1793657 ],\n",
              "       [0.17954141],\n",
              "       [0.17969736],\n",
              "       [0.17982504],\n",
              "       [0.17992547],\n",
              "       [0.18000099],\n",
              "       [0.1800578 ],\n",
              "       [0.1801042 ],\n",
              "       [0.1801484 ],\n",
              "       [0.18019558],\n",
              "       [0.18025035],\n",
              "       [0.18031713],\n",
              "       [0.18039781],\n",
              "       [0.18048927],\n",
              "       [0.180589  ],\n",
              "       [0.18069781],\n",
              "       [0.18081355],\n",
              "       [0.18093234],\n",
              "       [0.18105084],\n",
              "       [0.18117166],\n",
              "       [0.18129638],\n",
              "       [0.18142349],\n",
              "       [0.18155392],\n",
              "       [0.18169308],\n",
              "       [0.18184781],\n",
              "       [0.18202227],\n",
              "       [0.18221782],\n",
              "       [0.18243657],\n",
              "       [0.1826801 ],\n",
              "       [0.18294868],\n",
              "       [0.18324146],\n",
              "       [0.18355608],\n",
              "       [0.18389235],\n",
              "       [0.18425055],\n",
              "       [0.18462642],\n",
              "       [0.18501337],\n",
              "       [0.18540713],\n",
              "       [0.18580292],\n",
              "       [0.18619773],\n",
              "       [0.18659183],\n",
              "       [0.1869829 ],\n",
              "       [0.18736845],\n",
              "       [0.18774864],\n",
              "       [0.18812072],\n",
              "       [0.18848258],\n",
              "       [0.18883047],\n",
              "       [0.18916222],\n",
              "       [0.18947753],\n",
              "       [0.18977875],\n",
              "       [0.19006474],\n",
              "       [0.19033022],\n",
              "       [0.19056734],\n",
              "       [0.19077528],\n",
              "       [0.19096008],\n",
              "       [0.19112471],\n",
              "       [0.191268  ],\n",
              "       [0.19138703],\n",
              "       [0.1914843 ],\n",
              "       [0.19156465],\n",
              "       [0.19163331],\n",
              "       [0.19169548],\n",
              "       [0.19175425],\n",
              "       [0.19181283],\n",
              "       [0.19187382],\n",
              "       [0.19193864],\n",
              "       [0.19200857],\n",
              "       [0.19208145],\n",
              "       [0.19215833],\n",
              "       [0.19224018],\n",
              "       [0.19232652],\n",
              "       [0.19241682],\n",
              "       [0.19251141],\n",
              "       [0.19261119],\n",
              "       [0.19271591],\n",
              "       [0.19282484],\n",
              "       [0.19293535],\n",
              "       [0.19304535],\n",
              "       [0.19315004],\n",
              "       [0.19324829],\n",
              "       [0.19334258],\n",
              "       [0.19343394],\n",
              "       [0.19352436],\n",
              "       [0.19361663],\n",
              "       [0.1937125 ],\n",
              "       [0.193813  ],\n",
              "       [0.19391868],\n",
              "       [0.19403082],\n",
              "       [0.19415173],\n",
              "       [0.19428232],\n",
              "       [0.19442299],\n",
              "       [0.19457021],\n",
              "       [0.19472387],\n",
              "       [0.19488658],\n",
              "       [0.19505769],\n",
              "       [0.19523707],\n",
              "       [0.1954235 ],\n",
              "       [0.19561356],\n",
              "       [0.19579974],\n",
              "       [0.19597855],\n",
              "       [0.19615254],\n",
              "       [0.1963217 ],\n",
              "       [0.19648707],\n",
              "       [0.19665101],\n",
              "       [0.19681269],\n",
              "       [0.19697227],\n",
              "       [0.1971314 ],\n",
              "       [0.19728963],\n",
              "       [0.19744644],\n",
              "       [0.19760299],\n",
              "       [0.19775952],\n",
              "       [0.19791557],\n",
              "       [0.19807181],\n",
              "       [0.19822764],\n",
              "       [0.19838262],\n",
              "       [0.19853707],\n",
              "       [0.1986908 ],\n",
              "       [0.19884443],\n",
              "       [0.19899721],\n",
              "       [0.19914714],\n",
              "       [0.19929059],\n",
              "       [0.1994254 ],\n",
              "       [0.19955298],\n",
              "       [0.19967607],\n",
              "       [0.19979717],\n",
              "       [0.19991738],\n",
              "       [0.20003664],\n",
              "       [0.20015562],\n",
              "       [0.20027712],\n",
              "       [0.2004022 ],\n",
              "       [0.2005311 ],\n",
              "       [0.20066456],\n",
              "       [0.2008025 ],\n",
              "       [0.20094356],\n",
              "       [0.20108588],\n",
              "       [0.20122707],\n",
              "       [0.20136443],\n",
              "       [0.20149677],\n",
              "       [0.20162213],\n",
              "       [0.20173883],\n",
              "       [0.20184574],\n",
              "       [0.20193933],\n",
              "       [0.20201254],\n",
              "       [0.2020627 ],\n",
              "       [0.20209168],\n",
              "       [0.20210317],\n",
              "       [0.2021001 ],\n",
              "       [0.20208344],\n",
              "       [0.2020504 ],\n",
              "       [0.20200163],\n",
              "       [0.2019377 ],\n",
              "       [0.20185974],\n",
              "       [0.20176771],\n",
              "       [0.20166153],\n",
              "       [0.20154259],\n",
              "       [0.201415  ],\n",
              "       [0.20128348],\n",
              "       [0.20114878],\n",
              "       [0.20101354],\n",
              "       [0.20088002],\n",
              "       [0.2007534 ],\n",
              "       [0.2006396 ],\n",
              "       [0.20054075],\n",
              "       [0.20046051],\n",
              "       [0.2004027 ],\n",
              "       [0.20036972],\n",
              "       [0.20036262],\n",
              "       [0.20038274],\n",
              "       [0.20043136],\n",
              "       [0.20050746],\n",
              "       [0.20061013],\n",
              "       [0.2007371 ],\n",
              "       [0.20088623],\n",
              "       [0.20105514],\n",
              "       [0.2012419 ],\n",
              "       [0.20144558],\n",
              "       [0.20166528],\n",
              "       [0.2019    ],\n",
              "       [0.20214745],\n",
              "       [0.20240304],\n",
              "       [0.2026646 ],\n",
              "       [0.20293006],\n",
              "       [0.20319784],\n",
              "       [0.2034646 ],\n",
              "       [0.20372845],\n",
              "       [0.20398724],\n",
              "       [0.20423976],\n",
              "       [0.20448376],\n",
              "       [0.20471874],\n",
              "       [0.2049433 ],\n",
              "       [0.20515256],\n",
              "       [0.20534588],\n",
              "       [0.20552212],\n",
              "       [0.2056765 ],\n",
              "       [0.2058096 ],\n",
              "       [0.20592132],\n",
              "       [0.20601127],\n",
              "       [0.20608458],\n",
              "       [0.20614561],\n",
              "       [0.20619464],\n",
              "       [0.2062347 ],\n",
              "       [0.2062693 ],\n",
              "       [0.20629805],\n",
              "       [0.20632294]], dtype=float32)"
            ]
          },
          "metadata": {},
          "execution_count": 46
        }
      ],
      "source": [
        "y_pred"
      ]
    },
    {
      "cell_type": "code",
      "execution_count": null,
      "metadata": {
        "colab": {
          "base_uri": "https://localhost:8080/"
        },
        "id": "Qxf-ikmqlNG8",
        "outputId": "52426112-d81c-4965-b377-c83737d0df8e"
      },
      "outputs": [
        {
          "output_type": "execute_result",
          "data": {
            "text/plain": [
              "array([5.21754556e-04, 5.22684508e-04, 5.20803496e-04, 5.18944053e-04,\n",
              "       4.68015450e+00])"
            ]
          },
          "metadata": {},
          "execution_count": 47
        }
      ],
      "source": [
        "scaler.scale_"
      ]
    },
    {
      "cell_type": "code",
      "execution_count": null,
      "metadata": {
        "colab": {
          "base_uri": "https://localhost:8080/"
        },
        "id": "ktQ1OfE1lR5N",
        "outputId": "02cd05c2-d976-4fc6-c1e4-8ea05772d3a3"
      },
      "outputs": [
        {
          "output_type": "execute_result",
          "data": {
            "text/plain": [
              "0.213668159886602"
            ]
          },
          "metadata": {},
          "execution_count": 48
        }
      ],
      "source": [
        "scale = 1/4.68015450e+00\n",
        "scale"
      ]
    },
    {
      "cell_type": "code",
      "execution_count": null,
      "metadata": {
        "id": "NleCyxqllUe6"
      },
      "outputs": [],
      "source": [
        "y_pred = y_pred*scale\n",
        "Y_test = Y_test*scale"
      ]
    },
    {
      "cell_type": "code",
      "execution_count": null,
      "metadata": {
        "colab": {
          "base_uri": "https://localhost:8080/"
        },
        "id": "wfZZ1ySLlWy7",
        "outputId": "44790a80-330c-47ae-e362-dc5831122641"
      },
      "outputs": [
        {
          "output_type": "execute_result",
          "data": {
            "text/plain": [
              "array([0.10508572, 0.12692304, 0.1255504 , 0.13468787, 0.12533239,\n",
              "       0.11328571, 0.12025633, 0.12211611, 0.11608706, 0.11265049,\n",
              "       0.12797691, 0.13377608, 0.12015723, 0.11682992, 0.12345631,\n",
              "       0.11835167, 0.09416264, 0.12960117, 0.100529  , 0.13589224,\n",
              "       0.13373874, 0.12084931, 0.13069381, 0.12373798, 0.12723985,\n",
              "       0.11872701, 0.11949534, 0.12150296, 0.12455149, 0.11927123,\n",
              "       0.1195201 , 0.11542469, 0.11798561, 0.11210765, 0.12109679,\n",
              "       0.13119216, 0.09536166, 0.11509034, 0.14363122, 0.11175966,\n",
              "       0.1067743 , 0.10642329, 0.13933648, 0.11448123, 0.13399519,\n",
              "       0.12587079, 0.13023598, 0.1208559 , 0.12633246, 0.11827081,\n",
              "       0.12271985, 0.10508   , 0.11923776, 0.12686562, 0.11220967,\n",
              "       0.1143732 , 0.12508074, 0.1364717 , 0.11897248, 0.11668268,\n",
              "       0.12346304, 0.13166565, 0.13427878, 0.11886696, 0.12131573,\n",
              "       0.12406114, 0.12756047, 0.11964432, 0.12313508, 0.1157527 ,\n",
              "       0.13093475, 0.12344925, 0.11453405, 0.11303814, 0.12914656,\n",
              "       0.11062983, 0.13076921, 0.12162273, 0.11962558, 0.11899497,\n",
              "       0.1266033 , 0.11264587, 0.12258854, 0.11316216, 0.12054404,\n",
              "       0.12800589, 0.12721385, 0.10940484, 0.11116661, 0.09839112,\n",
              "       0.13201365, 0.13475844, 0.11731046, 0.1113232 , 0.11689707,\n",
              "       0.13039526, 0.11905668, 0.12975181, 0.1177152 , 0.12171724,\n",
              "       0.1210059 , 0.12060939, 0.11934813, 0.12128742, 0.1162118 ,\n",
              "       0.12867459, 0.11904379, 0.12001559, 0.11801663, 0.12449266,\n",
              "       0.12178899, 0.12165571, 0.11782882, 0.1144503 , 0.11940487,\n",
              "       0.10671596, 0.13384283, 0.12496502, 0.11875724, 0.12565166,\n",
              "       0.12317111, 0.12215554, 0.12011785, 0.12116862, 0.12506214,\n",
              "       0.12734061, 0.1178186 , 0.12319951, 0.11127949, 0.13111845,\n",
              "       0.12329166, 0.11632367, 0.12100547, 0.11657827, 0.11230156,\n",
              "       0.10397097, 0.13500315, 0.12808235, 0.12185716, 0.12998594,\n",
              "       0.12222276, 0.11512802, 0.1196542 , 0.12404671, 0.11443449,\n",
              "       0.11799761, 0.12804399, 0.11520806, 0.12584596, 0.12151579,\n",
              "       0.11890058, 0.1208332 , 0.12230853, 0.12279259, 0.12144783,\n",
              "       0.12246136, 0.11277978, 0.10909205, 0.12109724, 0.12798204,\n",
              "       0.12836432, 0.1213362 , 0.12206063, 0.11401557, 0.12864811,\n",
              "       0.12414709, 0.11849136, 0.12015226, 0.12268306, 0.11950548,\n",
              "       0.11644501, 0.11852193, 0.1152349 , 0.11211786, 0.12211701,\n",
              "       0.1140939 , 0.12831441, 0.11828941, 0.11072958, 0.10286325,\n",
              "       0.11902815, 0.12936007, 0.13197525, 0.12130151, 0.11706415,\n",
              "       0.09947639, 0.12140967, 0.10793077, 0.13133198, 0.10685462,\n",
              "       0.13036496, 0.12394339, 0.12813879, 0.11792676, 0.11297472,\n",
              "       0.11742373, 0.12286304, 0.13690361, 0.12730063, 0.12321531,\n",
              "       0.12723386, 0.12350452, 0.12283641, 0.11876792, 0.12458868,\n",
              "       0.12166029, 0.1147889 , 0.12966984, 0.12178985, 0.12164057,\n",
              "       0.12352087, 0.1263018 , 0.12402239, 0.12357336, 0.1207282 ,\n",
              "       0.11634177, 0.11161469, 0.12039143, 0.12706314, 0.11982983,\n",
              "       0.12370571, 0.11723887, 0.12322526, 0.11844185, 0.11664337,\n",
              "       0.12149758, 0.1221344 , 0.09711565, 0.13304072, 0.1008792 ,\n",
              "       0.10802531, 0.13403493, 0.11139192, 0.13157143, 0.14054757,\n",
              "       0.1229258 , 0.11265937, 0.12938961, 0.11070429, 0.1123699 ,\n",
              "       0.13618891, 0.11130945])"
            ]
          },
          "metadata": {},
          "execution_count": 50
        }
      ],
      "source": [
        "Y_test"
      ]
    },
    {
      "cell_type": "code",
      "execution_count": null,
      "metadata": {
        "colab": {
          "base_uri": "https://localhost:8080/"
        },
        "id": "av7KFgQ9lY9x",
        "outputId": "6ba228f6-b26b-4641-d625-bd3f8f48c456"
      },
      "outputs": [
        {
          "output_type": "execute_result",
          "data": {
            "text/plain": [
              "array([[0.03620368],\n",
              "       [0.03626412],\n",
              "       [0.03632229],\n",
              "       [0.03637831],\n",
              "       [0.03643376],\n",
              "       [0.03649016],\n",
              "       [0.03654751],\n",
              "       [0.03660588],\n",
              "       [0.03666552],\n",
              "       [0.03672633],\n",
              "       [0.03678731],\n",
              "       [0.03684837],\n",
              "       [0.03691036],\n",
              "       [0.03697375],\n",
              "       [0.03703805],\n",
              "       [0.03710298],\n",
              "       [0.03716847],\n",
              "       [0.03723213],\n",
              "       [0.03729295],\n",
              "       [0.03734925],\n",
              "       [0.0374006 ],\n",
              "       [0.03744822],\n",
              "       [0.03749298],\n",
              "       [0.03753582],\n",
              "       [0.03757796],\n",
              "       [0.03762062],\n",
              "       [0.03766455],\n",
              "       [0.03771016],\n",
              "       [0.03775787],\n",
              "       [0.03780799],\n",
              "       [0.0378607 ],\n",
              "       [0.03791553],\n",
              "       [0.03797163],\n",
              "       [0.0380284 ],\n",
              "       [0.03808464],\n",
              "       [0.03813894],\n",
              "       [0.03819123],\n",
              "       [0.03824006],\n",
              "       [0.03828418],\n",
              "       [0.03832474],\n",
              "       [0.03836228],\n",
              "       [0.0383956 ],\n",
              "       [0.03842288],\n",
              "       [0.03844434],\n",
              "       [0.03846048],\n",
              "       [0.03847262],\n",
              "       [0.03848253],\n",
              "       [0.03849198],\n",
              "       [0.03850206],\n",
              "       [0.03851376],\n",
              "       [0.03852803],\n",
              "       [0.03854527],\n",
              "       [0.03856481],\n",
              "       [0.03858612],\n",
              "       [0.03860937],\n",
              "       [0.0386341 ],\n",
              "       [0.03865948],\n",
              "       [0.0386848 ],\n",
              "       [0.03871061],\n",
              "       [0.03873726],\n",
              "       [0.03876442],\n",
              "       [0.03879229],\n",
              "       [0.03882203],\n",
              "       [0.03885509],\n",
              "       [0.03889236],\n",
              "       [0.03893415],\n",
              "       [0.03898089],\n",
              "       [0.03903292],\n",
              "       [0.03909031],\n",
              "       [0.03915286],\n",
              "       [0.03922009],\n",
              "       [0.03929194],\n",
              "       [0.03936847],\n",
              "       [0.03944879],\n",
              "       [0.03953147],\n",
              "       [0.0396156 ],\n",
              "       [0.03970017],\n",
              "       [0.03978452],\n",
              "       [0.03986873],\n",
              "       [0.03995229],\n",
              "       [0.04003467],\n",
              "       [0.0401159 ],\n",
              "       [0.04019541],\n",
              "       [0.04027272],\n",
              "       [0.04034706],\n",
              "       [0.04041794],\n",
              "       [0.04048532],\n",
              "       [0.04054967],\n",
              "       [0.04061078],\n",
              "       [0.04066751],\n",
              "       [0.04071817],\n",
              "       [0.0407626 ],\n",
              "       [0.04080209],\n",
              "       [0.04083726],\n",
              "       [0.04086788],\n",
              "       [0.04089331],\n",
              "       [0.0409141 ],\n",
              "       [0.04093127],\n",
              "       [0.04094594],\n",
              "       [0.04095922],\n",
              "       [0.04097178],\n",
              "       [0.04098429],\n",
              "       [0.04099732],\n",
              "       [0.04101117],\n",
              "       [0.04102612],\n",
              "       [0.04104169],\n",
              "       [0.04105812],\n",
              "       [0.0410756 ],\n",
              "       [0.04109405],\n",
              "       [0.04111335],\n",
              "       [0.04113356],\n",
              "       [0.04115488],\n",
              "       [0.04117725],\n",
              "       [0.04120053],\n",
              "       [0.04122414],\n",
              "       [0.04124764],\n",
              "       [0.04127001],\n",
              "       [0.04129101],\n",
              "       [0.04131115],\n",
              "       [0.04133067],\n",
              "       [0.04134999],\n",
              "       [0.04136971],\n",
              "       [0.04139019],\n",
              "       [0.04141166],\n",
              "       [0.04143424],\n",
              "       [0.04145821],\n",
              "       [0.04148404],\n",
              "       [0.04151195],\n",
              "       [0.041542  ],\n",
              "       [0.04157346],\n",
              "       [0.04160629],\n",
              "       [0.04164106],\n",
              "       [0.04167762],\n",
              "       [0.04171594],\n",
              "       [0.04175578],\n",
              "       [0.04179639],\n",
              "       [0.04183617],\n",
              "       [0.04187438],\n",
              "       [0.04191155],\n",
              "       [0.04194769],\n",
              "       [0.04198303],\n",
              "       [0.04201806],\n",
              "       [0.0420526 ],\n",
              "       [0.0420867 ],\n",
              "       [0.0421207 ],\n",
              "       [0.04215451],\n",
              "       [0.04218801],\n",
              "       [0.04222146],\n",
              "       [0.04225491],\n",
              "       [0.04228825],\n",
              "       [0.04232164],\n",
              "       [0.04235493],\n",
              "       [0.04238805],\n",
              "       [0.04242105],\n",
              "       [0.0424539 ],\n",
              "       [0.04248672],\n",
              "       [0.04251937],\n",
              "       [0.0425514 ],\n",
              "       [0.04258205],\n",
              "       [0.04261086],\n",
              "       [0.04263812],\n",
              "       [0.04266442],\n",
              "       [0.04269029],\n",
              "       [0.04271598],\n",
              "       [0.04274146],\n",
              "       [0.04276688],\n",
              "       [0.04279284],\n",
              "       [0.04281957],\n",
              "       [0.04284711],\n",
              "       [0.04287563],\n",
              "       [0.0429051 ],\n",
              "       [0.04293524],\n",
              "       [0.04296565],\n",
              "       [0.04299581],\n",
              "       [0.04302517],\n",
              "       [0.04305344],\n",
              "       [0.04308023],\n",
              "       [0.04310516],\n",
              "       [0.04312801],\n",
              "       [0.043148  ],\n",
              "       [0.04316365],\n",
              "       [0.04317436],\n",
              "       [0.04318056],\n",
              "       [0.04318301],\n",
              "       [0.04318235],\n",
              "       [0.0431788 ],\n",
              "       [0.04317174],\n",
              "       [0.04316131],\n",
              "       [0.04314766],\n",
              "       [0.043131  ],\n",
              "       [0.04311134],\n",
              "       [0.04308864],\n",
              "       [0.04306323],\n",
              "       [0.04303597],\n",
              "       [0.04300787],\n",
              "       [0.04297909],\n",
              "       [0.04295019],\n",
              "       [0.04292166],\n",
              "       [0.04289461],\n",
              "       [0.04287029],\n",
              "       [0.04284917],\n",
              "       [0.04283203],\n",
              "       [0.04281968],\n",
              "       [0.04281263],\n",
              "       [0.04281111],\n",
              "       [0.04281541],\n",
              "       [0.0428258 ],\n",
              "       [0.04284206],\n",
              "       [0.04286399],\n",
              "       [0.04289113],\n",
              "       [0.04292299],\n",
              "       [0.04295908],\n",
              "       [0.04299898],\n",
              "       [0.0430425 ],\n",
              "       [0.04308945],\n",
              "       [0.0431396 ],\n",
              "       [0.04319247],\n",
              "       [0.04324709],\n",
              "       [0.04330297],\n",
              "       [0.04335969],\n",
              "       [0.04341691],\n",
              "       [0.0434739 ],\n",
              "       [0.04353028],\n",
              "       [0.04358558],\n",
              "       [0.04363953],\n",
              "       [0.04369167],\n",
              "       [0.04374187],\n",
              "       [0.04378986],\n",
              "       [0.04383457],\n",
              "       [0.04387588],\n",
              "       [0.04391353],\n",
              "       [0.04394652],\n",
              "       [0.04397495],\n",
              "       [0.04399883],\n",
              "       [0.04401805],\n",
              "       [0.04403371],\n",
              "       [0.04404675],\n",
              "       [0.04405723],\n",
              "       [0.04406578],\n",
              "       [0.04407318],\n",
              "       [0.04407932],\n",
              "       [0.04408464]], dtype=float32)"
            ]
          },
          "metadata": {},
          "execution_count": 51
        }
      ],
      "source": [
        "y_pred"
      ]
    },
    {
      "cell_type": "code",
      "execution_count": null,
      "metadata": {
        "colab": {
          "base_uri": "https://localhost:8080/"
        },
        "id": "NL_Bh0OYlcKA",
        "outputId": "bf55aa92-6d57-41d5-c364-7ec02e4591ce"
      },
      "outputs": [
        {
          "output_type": "execute_result",
          "data": {
            "text/plain": [
              "0.08029115443833747"
            ]
          },
          "metadata": {},
          "execution_count": 52
        }
      ],
      "source": [
        "rmse = np.sqrt(np.mean(((y_pred-Y_test)**2)))\n",
        "rmse"
      ]
    },
    {
      "cell_type": "code",
      "execution_count": null,
      "metadata": {
        "colab": {
          "base_uri": "https://localhost:8080/",
          "height": 627
        },
        "id": "pS6MYW4blikx",
        "outputId": "18cf1961-2850-4e26-8056-0d0749238e97"
      },
      "outputs": [
        {
          "output_type": "stream",
          "name": "stderr",
          "text": [
            "/usr/local/lib/python3.7/dist-packages/ipykernel_launcher.py:6: SettingWithCopyWarning: \n",
            "A value is trying to be set on a copy of a slice from a DataFrame.\n",
            "Try using .loc[row_indexer,col_indexer] = value instead\n",
            "\n",
            "See the caveats in the documentation: https://pandas.pydata.org/pandas-docs/stable/user_guide/indexing.html#returning-a-view-versus-a-copy\n",
            "  \n"
          ]
        },
        {
          "output_type": "display_data",
          "data": {
            "image/png": "[encoded data removed]",
            "text/plain": [
              "<Figure size 1152x576 with 1 Axes>"
            ]
          },
          "metadata": {
            "needs_background": "light"
          }
        }
      ],
      "source": [
        "# Visualising the results\n",
        "import matplotlib.pyplot as plt\n",
        "training_data_len = len(train)\n",
        "trains = data[:training_data_len]\n",
        "valid = data[training_data_len:]\n",
        "valid['Predictions'] = y_pred\n",
        "#Visualize the data\n",
        "plt.figure(figsize=(16,8))\n",
        "plt.title('Model')\n",
        "plt.xlabel('Date', fontsize=18)\n",
        "plt.ylabel(' returns ', fontsize=18)\n",
        "plt.plot(trains['returns'])\n",
        "plt.plot(valid[['returns', 'Predictions']])\n",
        "plt.legend(['Train', 'Val', 'Predictions'], loc='lower right')\n",
        "plt.show()"
      ]
    },
    {
      "cell_type": "markdown",
      "metadata": {
        "id": "-1qTlMPvlll7"
      },
      "source": [
        "GRU"
      ]
    },
    {
      "cell_type": "code",
      "execution_count": null,
      "metadata": {
        "id": "a4Zp-3R0YjAn"
      },
      "outputs": [],
      "source": [
        "from keras.models import Sequential\n",
        "from keras.layers import Dense\n",
        "from keras.layers import GRU, Dropout"
      ]
    },
    {
      "cell_type": "code",
      "execution_count": null,
      "metadata": {
        "id": "3mGD4Rgdby5O"
      },
      "outputs": [],
      "source": [
        "GRUregressor = Sequential()\n",
        "GRUregressor.add(GRU(units = 3, activation='tanh',return_sequences=True,input_shape = (X_train.shape[1],5)))\n",
        "GRUregressor.add(Dropout(0.2))\n",
        "\n",
        "GRUregressor.add(GRU(units = 3, activation='relu',return_sequences=True))\n",
        "GRUregressor.add(Dropout(0.3))\n",
        "\n",
        "#GRUregressor.add(GRU(units = 4, activation='tanh',return_sequences=True))\n",
        "#GRUregressor.add(Dropout(0.3))\n",
        "\n",
        "\n",
        "GRUregressor.add(GRU(units = 4, activation='relu',return_sequences=True))\n",
        "GRUregressor.add(Dropout(0.3))\n",
        "GRUregressor.add(GRU(units = 3, activation='tanh',return_sequences=True))\n",
        "GRUregressor.add(Dropout(0.5))\n",
        "GRUregressor.add(GRU(units = 3, activation='relu',return_sequences=False))\n",
        "GRUregressor.add(Dropout(0.5))\n",
        "\n",
        "# GRUregressor.add(GRU(units = 60, activation='tanh',return_sequences=True))\n",
        "# GRUregressor.add(Dropout(0.4))\n",
        "\n",
        "\n",
        "# GRUregressor.add(LSTM(units = 60, activation='tanh'))\n",
        "# GRUregressor.add(Dropout(0.5))\n",
        "#GRUregressor.add(Dense(units = 3))\n",
        "#GRUregressor.add(Dense(units = 3))\n",
        "GRUregressor.add(Dense(units = 1))"
      ]
    },
    {
      "cell_type": "code",
      "execution_count": null,
      "metadata": {
        "colab": {
          "base_uri": "https://localhost:8080/"
        },
        "id": "Gad6pmfwcBRx",
        "outputId": "da676086-9683-4b23-943c-79a899a739f6"
      },
      "outputs": [
        {
          "output_type": "stream",
          "name": "stdout",
          "text": [
            "Model: \"sequential_1\"\n",
            "_________________________________________________________________\n",
            " Layer (type)                Output Shape              Param #   \n",
            "=================================================================\n",
            " gru (GRU)                   (None, 166, 3)            90        \n",
            "                                                                 \n",
            " dropout_4 (Dropout)         (None, 166, 3)            0         \n",
            "                                                                 \n",
            " gru_1 (GRU)                 (None, 166, 3)            72        \n",
            "                                                                 \n",
            " dropout_5 (Dropout)         (None, 166, 3)            0         \n",
            "                                                                 \n",
            " gru_2 (GRU)                 (None, 166, 4)            108       \n",
            "                                                                 \n",
            " dropout_6 (Dropout)         (None, 166, 4)            0         \n",
            "                                                                 \n",
            " gru_3 (GRU)                 (None, 166, 3)            81        \n",
            "                                                                 \n",
            " dropout_7 (Dropout)         (None, 166, 3)            0         \n",
            "                                                                 \n",
            " gru_4 (GRU)                 (None, 3)                 72        \n",
            "                                                                 \n",
            " dropout_8 (Dropout)         (None, 3)                 0         \n",
            "                                                                 \n",
            " dense_1 (Dense)             (None, 1)                 4         \n",
            "                                                                 \n",
            "=================================================================\n",
            "Total params: 427\n",
            "Trainable params: 427\n",
            "Non-trainable params: 0\n",
            "_________________________________________________________________\n"
          ]
        }
      ],
      "source": [
        "GRUregressor.summary()"
      ]
    },
    {
      "cell_type": "code",
      "execution_count": null,
      "metadata": {
        "id": "lM_9iC6Mnrr1"
      },
      "outputs": [],
      "source": [
        "GRUregressor.compile(optimizer=tf.keras.optimizers.Adam(learning_rate=0.000001),loss='mean_squared_error',metrics=[[tf.keras.metrics.RootMeanSquaredError()],'accuracy'])"
      ]
    },
    {
      "cell_type": "code",
      "execution_count": null,
      "metadata": {
        "colab": {
          "base_uri": "https://localhost:8080/"
        },
        "id": "83i2Jfj8nxwY",
        "outputId": "dacdb7e2-9c0d-4c13-c397-a1ac3b515225"
      },
      "outputs": [
        {
          "output_type": "stream",
          "name": "stdout",
          "text": [
            "Epoch 1/100\n",
            "57/57 [==============================] - 25s 303ms/step - loss: 0.3086 - root_mean_squared_error: 0.5555 - accuracy: 7.4349e-04\n",
            "Epoch 2/100\n",
            "57/57 [==============================] - 17s 304ms/step - loss: 0.3079 - root_mean_squared_error: 0.5549 - accuracy: 7.4349e-04\n",
            "Epoch 3/100\n",
            "57/57 [==============================] - 17s 302ms/step - loss: 0.3081 - root_mean_squared_error: 0.5551 - accuracy: 7.4349e-04\n",
            "Epoch 4/100\n",
            "57/57 [==============================] - 17s 298ms/step - loss: 0.3075 - root_mean_squared_error: 0.5546 - accuracy: 7.4349e-04\n",
            "Epoch 5/100\n",
            "57/57 [==============================] - 17s 301ms/step - loss: 0.3073 - root_mean_squared_error: 0.5543 - accuracy: 7.4349e-04\n",
            "Epoch 6/100\n",
            "57/57 [==============================] - 17s 301ms/step - loss: 0.3080 - root_mean_squared_error: 0.5549 - accuracy: 7.4349e-04\n",
            "Epoch 7/100\n",
            "57/57 [==============================] - 17s 302ms/step - loss: 0.3082 - root_mean_squared_error: 0.5551 - accuracy: 7.4349e-04\n",
            "Epoch 8/100\n",
            "57/57 [==============================] - 17s 298ms/step - loss: 0.3069 - root_mean_squared_error: 0.5539 - accuracy: 7.4349e-04\n",
            "Epoch 9/100\n",
            "57/57 [==============================] - 17s 304ms/step - loss: 0.3058 - root_mean_squared_error: 0.5530 - accuracy: 7.4349e-04\n",
            "Epoch 10/100\n",
            "57/57 [==============================] - 17s 302ms/step - loss: 0.3074 - root_mean_squared_error: 0.5544 - accuracy: 7.4349e-04\n",
            "Epoch 11/100\n",
            "57/57 [==============================] - 18s 307ms/step - loss: 0.3067 - root_mean_squared_error: 0.5538 - accuracy: 7.4349e-04\n",
            "Epoch 12/100\n",
            "57/57 [==============================] - 17s 297ms/step - loss: 0.3070 - root_mean_squared_error: 0.5541 - accuracy: 7.4349e-04\n",
            "Epoch 13/100\n",
            "57/57 [==============================] - 17s 301ms/step - loss: 0.3060 - root_mean_squared_error: 0.5531 - accuracy: 7.4349e-04\n",
            "Epoch 14/100\n",
            "57/57 [==============================] - 17s 302ms/step - loss: 0.3051 - root_mean_squared_error: 0.5523 - accuracy: 7.4349e-04\n",
            "Epoch 15/100\n",
            "57/57 [==============================] - 17s 302ms/step - loss: 0.3061 - root_mean_squared_error: 0.5533 - accuracy: 7.4349e-04\n",
            "Epoch 16/100\n",
            "57/57 [==============================] - 17s 302ms/step - loss: 0.3058 - root_mean_squared_error: 0.5530 - accuracy: 7.4349e-04\n",
            "Epoch 17/100\n",
            "57/57 [==============================] - 17s 304ms/step - loss: 0.3057 - root_mean_squared_error: 0.5529 - accuracy: 7.4349e-04\n",
            "Epoch 18/100\n",
            "57/57 [==============================] - 17s 302ms/step - loss: 0.3049 - root_mean_squared_error: 0.5522 - accuracy: 7.4349e-04\n",
            "Epoch 19/100\n",
            "57/57 [==============================] - 17s 299ms/step - loss: 0.3052 - root_mean_squared_error: 0.5525 - accuracy: 7.4349e-04\n",
            "Epoch 20/100\n",
            "57/57 [==============================] - 17s 299ms/step - loss: 0.3048 - root_mean_squared_error: 0.5521 - accuracy: 7.4349e-04\n",
            "Epoch 21/100\n",
            "57/57 [==============================] - 17s 304ms/step - loss: 0.3047 - root_mean_squared_error: 0.5520 - accuracy: 7.4349e-04\n",
            "Epoch 22/100\n",
            "57/57 [==============================] - 17s 301ms/step - loss: 0.3045 - root_mean_squared_error: 0.5518 - accuracy: 7.4349e-04\n",
            "Epoch 23/100\n",
            "57/57 [==============================] - 17s 302ms/step - loss: 0.3040 - root_mean_squared_error: 0.5514 - accuracy: 7.4349e-04\n",
            "Epoch 24/100\n",
            "57/57 [==============================] - 17s 303ms/step - loss: 0.3040 - root_mean_squared_error: 0.5514 - accuracy: 7.4349e-04\n",
            "Epoch 25/100\n",
            "57/57 [==============================] - 17s 302ms/step - loss: 0.3032 - root_mean_squared_error: 0.5507 - accuracy: 7.4349e-04\n",
            "Epoch 26/100\n",
            "57/57 [==============================] - 17s 301ms/step - loss: 0.3042 - root_mean_squared_error: 0.5516 - accuracy: 7.4349e-04\n",
            "Epoch 27/100\n",
            "57/57 [==============================] - 17s 299ms/step - loss: 0.3037 - root_mean_squared_error: 0.5511 - accuracy: 7.4349e-04\n",
            "Epoch 28/100\n",
            "57/57 [==============================] - 17s 306ms/step - loss: 0.3035 - root_mean_squared_error: 0.5509 - accuracy: 7.4349e-04\n",
            "Epoch 29/100\n",
            "57/57 [==============================] - 17s 302ms/step - loss: 0.3035 - root_mean_squared_error: 0.5509 - accuracy: 7.4349e-04\n",
            "Epoch 30/100\n",
            "57/57 [==============================] - 17s 305ms/step - loss: 0.3033 - root_mean_squared_error: 0.5507 - accuracy: 7.4349e-04\n",
            "Epoch 31/100\n",
            "57/57 [==============================] - 19s 334ms/step - loss: 0.3031 - root_mean_squared_error: 0.5506 - accuracy: 7.4349e-04\n",
            "Epoch 32/100\n",
            "57/57 [==============================] - 17s 299ms/step - loss: 0.3032 - root_mean_squared_error: 0.5507 - accuracy: 7.4349e-04\n",
            "Epoch 33/100\n",
            "57/57 [==============================] - 17s 298ms/step - loss: 0.3025 - root_mean_squared_error: 0.5500 - accuracy: 7.4349e-04\n",
            "Epoch 34/100\n",
            "57/57 [==============================] - 17s 297ms/step - loss: 0.3025 - root_mean_squared_error: 0.5500 - accuracy: 7.4349e-04\n",
            "Epoch 35/100\n",
            "57/57 [==============================] - 17s 301ms/step - loss: 0.3018 - root_mean_squared_error: 0.5494 - accuracy: 7.4349e-04\n",
            "Epoch 36/100\n",
            "57/57 [==============================] - 17s 302ms/step - loss: 0.3010 - root_mean_squared_error: 0.5486 - accuracy: 7.4349e-04\n",
            "Epoch 37/100\n",
            "57/57 [==============================] - 17s 301ms/step - loss: 0.3020 - root_mean_squared_error: 0.5496 - accuracy: 7.4349e-04\n",
            "Epoch 38/100\n",
            "57/57 [==============================] - 17s 304ms/step - loss: 0.3016 - root_mean_squared_error: 0.5492 - accuracy: 7.4349e-04\n",
            "Epoch 39/100\n",
            "57/57 [==============================] - 17s 302ms/step - loss: 0.3021 - root_mean_squared_error: 0.5497 - accuracy: 7.4349e-04\n",
            "Epoch 40/100\n",
            "57/57 [==============================] - 17s 301ms/step - loss: 0.3003 - root_mean_squared_error: 0.5480 - accuracy: 7.4349e-04\n",
            "Epoch 41/100\n",
            "57/57 [==============================] - 17s 300ms/step - loss: 0.3018 - root_mean_squared_error: 0.5493 - accuracy: 7.4349e-04\n",
            "Epoch 42/100\n",
            "57/57 [==============================] - 17s 303ms/step - loss: 0.3009 - root_mean_squared_error: 0.5485 - accuracy: 7.4349e-04\n",
            "Epoch 43/100\n",
            "57/57 [==============================] - 17s 299ms/step - loss: 0.3016 - root_mean_squared_error: 0.5492 - accuracy: 7.4349e-04\n",
            "Epoch 44/100\n",
            "57/57 [==============================] - 17s 299ms/step - loss: 0.2998 - root_mean_squared_error: 0.5476 - accuracy: 7.4349e-04\n",
            "Epoch 45/100\n",
            "57/57 [==============================] - 17s 305ms/step - loss: 0.3007 - root_mean_squared_error: 0.5484 - accuracy: 7.4349e-04\n",
            "Epoch 46/100\n",
            "57/57 [==============================] - 18s 308ms/step - loss: 0.2999 - root_mean_squared_error: 0.5476 - accuracy: 7.4349e-04\n",
            "Epoch 47/100\n",
            "57/57 [==============================] - 17s 304ms/step - loss: 0.3000 - root_mean_squared_error: 0.5477 - accuracy: 7.4349e-04\n",
            "Epoch 48/100\n",
            "57/57 [==============================] - 17s 301ms/step - loss: 0.2984 - root_mean_squared_error: 0.5463 - accuracy: 7.4349e-04\n",
            "Epoch 49/100\n",
            "57/57 [==============================] - 17s 302ms/step - loss: 0.2990 - root_mean_squared_error: 0.5468 - accuracy: 7.4349e-04\n",
            "Epoch 50/100\n",
            "57/57 [==============================] - 17s 299ms/step - loss: 0.2996 - root_mean_squared_error: 0.5474 - accuracy: 7.4349e-04\n",
            "Epoch 51/100\n",
            "57/57 [==============================] - 17s 301ms/step - loss: 0.2992 - root_mean_squared_error: 0.5470 - accuracy: 7.4349e-04\n",
            "Epoch 52/100\n",
            "57/57 [==============================] - 17s 302ms/step - loss: 0.2990 - root_mean_squared_error: 0.5468 - accuracy: 7.4349e-04\n",
            "Epoch 53/100\n",
            "57/57 [==============================] - 17s 300ms/step - loss: 0.2986 - root_mean_squared_error: 0.5464 - accuracy: 7.4349e-04\n",
            "Epoch 54/100\n",
            "57/57 [==============================] - 17s 299ms/step - loss: 0.2986 - root_mean_squared_error: 0.5464 - accuracy: 7.4349e-04\n",
            "Epoch 55/100\n",
            "57/57 [==============================] - 17s 298ms/step - loss: 0.2985 - root_mean_squared_error: 0.5463 - accuracy: 7.4349e-04\n",
            "Epoch 56/100\n",
            "57/57 [==============================] - 17s 297ms/step - loss: 0.2987 - root_mean_squared_error: 0.5466 - accuracy: 7.4349e-04\n",
            "Epoch 57/100\n",
            "57/57 [==============================] - 17s 301ms/step - loss: 0.2979 - root_mean_squared_error: 0.5458 - accuracy: 7.4349e-04\n",
            "Epoch 58/100\n",
            "57/57 [==============================] - 17s 303ms/step - loss: 0.2978 - root_mean_squared_error: 0.5457 - accuracy: 7.4349e-04\n",
            "Epoch 59/100\n",
            "57/57 [==============================] - 17s 301ms/step - loss: 0.2976 - root_mean_squared_error: 0.5455 - accuracy: 7.4349e-04\n",
            "Epoch 60/100\n",
            "57/57 [==============================] - 17s 297ms/step - loss: 0.2973 - root_mean_squared_error: 0.5453 - accuracy: 7.4349e-04\n",
            "Epoch 61/100\n",
            "57/57 [==============================] - 17s 302ms/step - loss: 0.2967 - root_mean_squared_error: 0.5447 - accuracy: 7.4349e-04\n",
            "Epoch 62/100\n",
            "57/57 [==============================] - 17s 298ms/step - loss: 0.2972 - root_mean_squared_error: 0.5451 - accuracy: 7.4349e-04\n",
            "Epoch 63/100\n",
            "57/57 [==============================] - 18s 308ms/step - loss: 0.2975 - root_mean_squared_error: 0.5454 - accuracy: 7.4349e-04\n",
            "Epoch 64/100\n",
            "57/57 [==============================] - 17s 299ms/step - loss: 0.2967 - root_mean_squared_error: 0.5447 - accuracy: 7.4349e-04\n",
            "Epoch 65/100\n",
            "57/57 [==============================] - 17s 305ms/step - loss: 0.2966 - root_mean_squared_error: 0.5446 - accuracy: 7.4349e-04\n",
            "Epoch 66/100\n",
            "57/57 [==============================] - 17s 301ms/step - loss: 0.2955 - root_mean_squared_error: 0.5436 - accuracy: 7.4349e-04\n",
            "Epoch 67/100\n",
            "57/57 [==============================] - 19s 333ms/step - loss: 0.2953 - root_mean_squared_error: 0.5434 - accuracy: 7.4349e-04\n",
            "Epoch 68/100\n",
            "57/57 [==============================] - 17s 298ms/step - loss: 0.2962 - root_mean_squared_error: 0.5442 - accuracy: 7.4349e-04\n",
            "Epoch 69/100\n",
            "57/57 [==============================] - 17s 299ms/step - loss: 0.2956 - root_mean_squared_error: 0.5437 - accuracy: 7.4349e-04\n",
            "Epoch 70/100\n",
            "57/57 [==============================] - 17s 299ms/step - loss: 0.2956 - root_mean_squared_error: 0.5437 - accuracy: 7.4349e-04\n",
            "Epoch 71/100\n",
            "57/57 [==============================] - 17s 298ms/step - loss: 0.2955 - root_mean_squared_error: 0.5436 - accuracy: 7.4349e-04\n",
            "Epoch 72/100\n",
            "57/57 [==============================] - 17s 297ms/step - loss: 0.2958 - root_mean_squared_error: 0.5439 - accuracy: 7.4349e-04\n",
            "Epoch 73/100\n",
            "57/57 [==============================] - 17s 300ms/step - loss: 0.2938 - root_mean_squared_error: 0.5421 - accuracy: 7.4349e-04\n",
            "Epoch 74/100\n",
            "57/57 [==============================] - 17s 299ms/step - loss: 0.2939 - root_mean_squared_error: 0.5421 - accuracy: 7.4349e-04\n",
            "Epoch 75/100\n",
            "57/57 [==============================] - 17s 299ms/step - loss: 0.2946 - root_mean_squared_error: 0.5428 - accuracy: 7.4349e-04\n",
            "Epoch 76/100\n",
            "57/57 [==============================] - 17s 302ms/step - loss: 0.2941 - root_mean_squared_error: 0.5423 - accuracy: 7.4349e-04\n",
            "Epoch 77/100\n",
            "57/57 [==============================] - 17s 299ms/step - loss: 0.2940 - root_mean_squared_error: 0.5423 - accuracy: 7.4349e-04\n",
            "Epoch 78/100\n",
            "57/57 [==============================] - 17s 301ms/step - loss: 0.2943 - root_mean_squared_error: 0.5425 - accuracy: 7.4349e-04\n",
            "Epoch 79/100\n",
            "57/57 [==============================] - 17s 299ms/step - loss: 0.2930 - root_mean_squared_error: 0.5413 - accuracy: 7.4349e-04\n",
            "Epoch 80/100\n",
            "57/57 [==============================] - 17s 304ms/step - loss: 0.2935 - root_mean_squared_error: 0.5417 - accuracy: 7.4349e-04\n",
            "Epoch 81/100\n",
            "57/57 [==============================] - 17s 301ms/step - loss: 0.2930 - root_mean_squared_error: 0.5413 - accuracy: 7.4349e-04\n",
            "Epoch 82/100\n",
            "57/57 [==============================] - 17s 304ms/step - loss: 0.2924 - root_mean_squared_error: 0.5408 - accuracy: 7.4349e-04\n",
            "Epoch 83/100\n",
            "57/57 [==============================] - 17s 301ms/step - loss: 0.2942 - root_mean_squared_error: 0.5424 - accuracy: 7.4349e-04\n",
            "Epoch 84/100\n",
            "57/57 [==============================] - 17s 302ms/step - loss: 0.2926 - root_mean_squared_error: 0.5410 - accuracy: 7.4349e-04\n",
            "Epoch 85/100\n",
            "57/57 [==============================] - 17s 299ms/step - loss: 0.2919 - root_mean_squared_error: 0.5403 - accuracy: 7.4349e-04\n",
            "Epoch 86/100\n",
            "57/57 [==============================] - 17s 302ms/step - loss: 0.2934 - root_mean_squared_error: 0.5416 - accuracy: 7.4349e-04\n",
            "Epoch 87/100\n",
            "57/57 [==============================] - 17s 302ms/step - loss: 0.2923 - root_mean_squared_error: 0.5406 - accuracy: 7.4349e-04\n",
            "Epoch 88/100\n",
            "57/57 [==============================] - 17s 302ms/step - loss: 0.2929 - root_mean_squared_error: 0.5412 - accuracy: 7.4349e-04\n",
            "Epoch 89/100\n",
            "57/57 [==============================] - 17s 297ms/step - loss: 0.2912 - root_mean_squared_error: 0.5396 - accuracy: 7.4349e-04\n",
            "Epoch 90/100\n",
            "57/57 [==============================] - 17s 298ms/step - loss: 0.2922 - root_mean_squared_error: 0.5406 - accuracy: 7.4349e-04\n",
            "Epoch 91/100\n",
            "57/57 [==============================] - 17s 298ms/step - loss: 0.2910 - root_mean_squared_error: 0.5394 - accuracy: 7.4349e-04\n",
            "Epoch 92/100\n",
            "57/57 [==============================] - 17s 302ms/step - loss: 0.2902 - root_mean_squared_error: 0.5387 - accuracy: 7.4349e-04\n",
            "Epoch 93/100\n",
            "57/57 [==============================] - 17s 304ms/step - loss: 0.2911 - root_mean_squared_error: 0.5395 - accuracy: 7.4349e-04\n",
            "Epoch 94/100\n",
            "57/57 [==============================] - 17s 305ms/step - loss: 0.2907 - root_mean_squared_error: 0.5392 - accuracy: 7.4349e-04\n",
            "Epoch 95/100\n",
            "57/57 [==============================] - 17s 301ms/step - loss: 0.2905 - root_mean_squared_error: 0.5390 - accuracy: 7.4349e-04\n",
            "Epoch 96/100\n",
            "57/57 [==============================] - 17s 301ms/step - loss: 0.2912 - root_mean_squared_error: 0.5396 - accuracy: 7.4349e-04\n",
            "Epoch 97/100\n",
            "57/57 [==============================] - 17s 299ms/step - loss: 0.2907 - root_mean_squared_error: 0.5392 - accuracy: 7.4349e-04\n",
            "Epoch 98/100\n",
            "57/57 [==============================] - 18s 307ms/step - loss: 0.2901 - root_mean_squared_error: 0.5386 - accuracy: 7.4349e-04\n",
            "Epoch 99/100\n",
            "57/57 [==============================] - 17s 299ms/step - loss: 0.2916 - root_mean_squared_error: 0.5400 - accuracy: 7.4349e-04\n",
            "Epoch 100/100\n",
            "57/57 [==============================] - 17s 305ms/step - loss: 0.2891 - root_mean_squared_error: 0.5377 - accuracy: 7.4349e-04\n"
          ]
        },
        {
          "output_type": "execute_result",
          "data": {
            "text/plain": [
              "<keras.callbacks.History at 0x7f9595e3e990>"
            ]
          },
          "metadata": {},
          "execution_count": 58
        }
      ],
      "source": [
        "GRUregressor.fit(X_train,Y_train,epochs=100,batch_size=24)"
      ]
    },
    {
      "cell_type": "code",
      "execution_count": null,
      "metadata": {
        "id": "tOZBKucCn27B",
        "colab": {
          "base_uri": "https://localhost:8080/"
        },
        "outputId": "40046811-d9cb-4933-c3b4-fd9aeb2a0b0e"
      },
      "outputs": [
        {
          "output_type": "execute_result",
          "data": {
            "text/plain": [
              "(166, 5)"
            ]
          },
          "metadata": {},
          "execution_count": 59
        }
      ],
      "source": [
        "(X_train.shape[1],5)"
      ]
    },
    {
      "cell_type": "code",
      "execution_count": null,
      "metadata": {
        "id": "N3KicCtfn9hO",
        "colab": {
          "base_uri": "https://localhost:8080/",
          "height": 206
        },
        "outputId": "86c87996-1b8e-4591-a12a-5536eead9045"
      },
      "outputs": [
        {
          "output_type": "execute_result",
          "data": {
            "text/html": [
              "\n",
              "  <div id=\"df-ef85b386-f02d-45aa-a824-d20cbdf93b1c\">\n",
              "    <div class=\"colab-df-container\">\n",
              "      <div>\n",
              "<style scoped>\n",
              "    .dataframe tbody tr th:only-of-type {\n",
              "        vertical-align: middle;\n",
              "    }\n",
              "\n",
              "    .dataframe tbody tr th {\n",
              "        vertical-align: top;\n",
              "    }\n",
              "\n",
              "    .dataframe thead th {\n",
              "        text-align: right;\n",
              "    }\n",
              "</style>\n",
              "<table border=\"1\" class=\"dataframe\">\n",
              "  <thead>\n",
              "    <tr style=\"text-align: right;\">\n",
              "      <th></th>\n",
              "      <th>Date</th>\n",
              "      <th>Open</th>\n",
              "      <th>High</th>\n",
              "      <th>Low</th>\n",
              "      <th>Close</th>\n",
              "      <th>returns</th>\n",
              "    </tr>\n",
              "  </thead>\n",
              "  <tbody>\n",
              "    <tr>\n",
              "      <th>1345</th>\n",
              "      <td>2020-05-07</td>\n",
              "      <td>2878.26</td>\n",
              "      <td>2901.92</td>\n",
              "      <td>2876.48</td>\n",
              "      <td>2881.19</td>\n",
              "      <td>0.011505</td>\n",
              "    </tr>\n",
              "    <tr>\n",
              "      <th>1346</th>\n",
              "      <td>2020-05-08</td>\n",
              "      <td>2908.83</td>\n",
              "      <td>2932.16</td>\n",
              "      <td>2902.88</td>\n",
              "      <td>2929.80</td>\n",
              "      <td>0.016872</td>\n",
              "    </tr>\n",
              "    <tr>\n",
              "      <th>1347</th>\n",
              "      <td>2020-05-11</td>\n",
              "      <td>2915.46</td>\n",
              "      <td>2944.25</td>\n",
              "      <td>2903.44</td>\n",
              "      <td>2930.32</td>\n",
              "      <td>0.000177</td>\n",
              "    </tr>\n",
              "    <tr>\n",
              "      <th>1348</th>\n",
              "      <td>2020-05-12</td>\n",
              "      <td>2939.50</td>\n",
              "      <td>2945.82</td>\n",
              "      <td>2869.59</td>\n",
              "      <td>2870.12</td>\n",
              "      <td>-0.020544</td>\n",
              "    </tr>\n",
              "    <tr>\n",
              "      <th>1349</th>\n",
              "      <td>2020-05-13</td>\n",
              "      <td>2865.86</td>\n",
              "      <td>2874.14</td>\n",
              "      <td>2793.15</td>\n",
              "      <td>2820.00</td>\n",
              "      <td>-0.017463</td>\n",
              "    </tr>\n",
              "  </tbody>\n",
              "</table>\n",
              "</div>\n",
              "      <button class=\"colab-df-convert\" onclick=\"convertToInteractive('df-ef85b386-f02d-45aa-a824-d20cbdf93b1c')\"\n",
              "              title=\"Convert this dataframe to an interactive table.\"\n",
              "              style=\"display:none;\">\n",
              "        \n",
              "  <svg xmlns=\"http://www.w3.org/2000/svg\" height=\"24px\"viewBox=\"0 0 24 24\"\n",
              "       width=\"24px\">\n",
              "    <path d=\"M0 0h24v24H0V0z\" fill=\"none\"/>\n",
              "    <path d=\"M18.56 5.44l.94 2.06.94-2.06 2.06-.94-2.06-.94-.94-2.06-.94 2.06-2.06.94zm-11 1L8.5 8.5l.94-2.06 2.06-.94-2.06-.94L8.5 2.5l-.94 2.06-2.06.94zm10 10l.94 2.06.94-2.06 2.06-.94-2.06-.94-.94-2.06-.94 2.06-2.06.94z\"/><path d=\"M17.41 7.96l-1.37-1.37c-.4-.4-.92-.59-1.43-.59-.52 0-1.04.2-1.43.59L10.3 9.45l-7.72 7.72c-.78.78-.78 2.05 0 2.83L4 21.41c.39.39.9.59 1.41.59.51 0 1.02-.2 1.41-.59l7.78-7.78 2.81-2.81c.8-.78.8-2.07 0-2.86zM5.41 20L4 18.59l7.72-7.72 1.47 1.35L5.41 20z\"/>\n",
              "  </svg>\n",
              "      </button>\n",
              "      \n",
              "  <style>\n",
              "    .colab-df-container {\n",
              "      display:flex;\n",
              "      flex-wrap:wrap;\n",
              "      gap: 12px;\n",
              "    }\n",
              "\n",
              "    .colab-df-convert {\n",
              "      background-color: #E8F0FE;\n",
              "      border: none;\n",
              "      border-radius: 50%;\n",
              "      cursor: pointer;\n",
              "      display: none;\n",
              "      fill: #1967D2;\n",
              "      height: 32px;\n",
              "      padding: 0 0 0 0;\n",
              "      width: 32px;\n",
              "    }\n",
              "\n",
              "    .colab-df-convert:hover {\n",
              "      background-color: #E2EBFA;\n",
              "      box-shadow: 0px 1px 2px rgba(60, 64, 67, 0.3), 0px 1px 3px 1px rgba(60, 64, 67, 0.15);\n",
              "      fill: #174EA6;\n",
              "    }\n",
              "\n",
              "    [theme=dark] .colab-df-convert {\n",
              "      background-color: #3B4455;\n",
              "      fill: #D2E3FC;\n",
              "    }\n",
              "\n",
              "    [theme=dark] .colab-df-convert:hover {\n",
              "      background-color: #434B5C;\n",
              "      box-shadow: 0px 1px 3px 1px rgba(0, 0, 0, 0.15);\n",
              "      filter: drop-shadow(0px 1px 2px rgba(0, 0, 0, 0.3));\n",
              "      fill: #FFFFFF;\n",
              "    }\n",
              "  </style>\n",
              "\n",
              "      <script>\n",
              "        const buttonEl =\n",
              "          document.querySelector('#df-ef85b386-f02d-45aa-a824-d20cbdf93b1c button.colab-df-convert');\n",
              "        buttonEl.style.display =\n",
              "          google.colab.kernel.accessAllowed ? 'block' : 'none';\n",
              "\n",
              "        async function convertToInteractive(key) {\n",
              "          const element = document.querySelector('#df-ef85b386-f02d-45aa-a824-d20cbdf93b1c');\n",
              "          const dataTable =\n",
              "            await google.colab.kernel.invokeFunction('convertToInteractive',\n",
              "                                                     [key], {});\n",
              "          if (!dataTable) return;\n",
              "\n",
              "          const docLinkHtml = 'Like what you see? Visit the ' +\n",
              "            '<a target=\"_blank\" href=https://colab.research.google.com/notebooks/data_table.ipynb>data table notebook</a>'\n",
              "            + ' to learn more about interactive tables.';\n",
              "          element.innerHTML = '';\n",
              "          dataTable['output_type'] = 'display_data';\n",
              "          await google.colab.output.renderOutput(dataTable, element);\n",
              "          const docLink = document.createElement('div');\n",
              "          docLink.innerHTML = docLinkHtml;\n",
              "          element.appendChild(docLink);\n",
              "        }\n",
              "      </script>\n",
              "    </div>\n",
              "  </div>\n",
              "  "
            ],
            "text/plain": [
              "           Date     Open     High      Low    Close   returns\n",
              "1345 2020-05-07  2878.26  2901.92  2876.48  2881.19  0.011505\n",
              "1346 2020-05-08  2908.83  2932.16  2902.88  2929.80  0.016872\n",
              "1347 2020-05-11  2915.46  2944.25  2903.44  2930.32  0.000177\n",
              "1348 2020-05-12  2939.50  2945.82  2869.59  2870.12 -0.020544\n",
              "1349 2020-05-13  2865.86  2874.14  2793.15  2820.00 -0.017463"
            ]
          },
          "metadata": {},
          "execution_count": 60
        }
      ],
      "source": [
        "past_60_days = train.tail(166)\n",
        "past_60_days.head()"
      ]
    },
    {
      "cell_type": "code",
      "execution_count": null,
      "metadata": {
        "id": "ZeTCdsnloACG"
      },
      "outputs": [],
      "source": [
        "df = past_60_days.append(test,ignore_index=True)\n",
        "df.head()\n",
        "df.drop(['Date'],axis = 1, inplace=True)"
      ]
    },
    {
      "cell_type": "code",
      "execution_count": null,
      "metadata": {
        "id": "bltZEqRcoIr9",
        "colab": {
          "base_uri": "https://localhost:8080/",
          "height": 206
        },
        "outputId": "da1038cf-2a2a-4c53-ebc4-69a448faeb8d"
      },
      "outputs": [
        {
          "output_type": "execute_result",
          "data": {
            "text/html": [
              "\n",
              "  <div id=\"df-f7db998e-75a1-4c09-8101-157a337af21a\">\n",
              "    <div class=\"colab-df-container\">\n",
              "      <div>\n",
              "<style scoped>\n",
              "    .dataframe tbody tr th:only-of-type {\n",
              "        vertical-align: middle;\n",
              "    }\n",
              "\n",
              "    .dataframe tbody tr th {\n",
              "        vertical-align: top;\n",
              "    }\n",
              "\n",
              "    .dataframe thead th {\n",
              "        text-align: right;\n",
              "    }\n",
              "</style>\n",
              "<table border=\"1\" class=\"dataframe\">\n",
              "  <thead>\n",
              "    <tr style=\"text-align: right;\">\n",
              "      <th></th>\n",
              "      <th>Open</th>\n",
              "      <th>High</th>\n",
              "      <th>Low</th>\n",
              "      <th>Close</th>\n",
              "      <th>returns</th>\n",
              "    </tr>\n",
              "  </thead>\n",
              "  <tbody>\n",
              "    <tr>\n",
              "      <th>0</th>\n",
              "      <td>2878.26</td>\n",
              "      <td>2901.92</td>\n",
              "      <td>2876.48</td>\n",
              "      <td>2881.19</td>\n",
              "      <td>0.011505</td>\n",
              "    </tr>\n",
              "    <tr>\n",
              "      <th>1</th>\n",
              "      <td>2908.83</td>\n",
              "      <td>2932.16</td>\n",
              "      <td>2902.88</td>\n",
              "      <td>2929.80</td>\n",
              "      <td>0.016872</td>\n",
              "    </tr>\n",
              "    <tr>\n",
              "      <th>2</th>\n",
              "      <td>2915.46</td>\n",
              "      <td>2944.25</td>\n",
              "      <td>2903.44</td>\n",
              "      <td>2930.32</td>\n",
              "      <td>0.000177</td>\n",
              "    </tr>\n",
              "    <tr>\n",
              "      <th>3</th>\n",
              "      <td>2939.50</td>\n",
              "      <td>2945.82</td>\n",
              "      <td>2869.59</td>\n",
              "      <td>2870.12</td>\n",
              "      <td>-0.020544</td>\n",
              "    </tr>\n",
              "    <tr>\n",
              "      <th>4</th>\n",
              "      <td>2865.86</td>\n",
              "      <td>2874.14</td>\n",
              "      <td>2793.15</td>\n",
              "      <td>2820.00</td>\n",
              "      <td>-0.017463</td>\n",
              "    </tr>\n",
              "  </tbody>\n",
              "</table>\n",
              "</div>\n",
              "      <button class=\"colab-df-convert\" onclick=\"convertToInteractive('df-f7db998e-75a1-4c09-8101-157a337af21a')\"\n",
              "              title=\"Convert this dataframe to an interactive table.\"\n",
              "              style=\"display:none;\">\n",
              "        \n",
              "  <svg xmlns=\"http://www.w3.org/2000/svg\" height=\"24px\"viewBox=\"0 0 24 24\"\n",
              "       width=\"24px\">\n",
              "    <path d=\"M0 0h24v24H0V0z\" fill=\"none\"/>\n",
              "    <path d=\"M18.56 5.44l.94 2.06.94-2.06 2.06-.94-2.06-.94-.94-2.06-.94 2.06-2.06.94zm-11 1L8.5 8.5l.94-2.06 2.06-.94-2.06-.94L8.5 2.5l-.94 2.06-2.06.94zm10 10l.94 2.06.94-2.06 2.06-.94-2.06-.94-.94-2.06-.94 2.06-2.06.94z\"/><path d=\"M17.41 7.96l-1.37-1.37c-.4-.4-.92-.59-1.43-.59-.52 0-1.04.2-1.43.59L10.3 9.45l-7.72 7.72c-.78.78-.78 2.05 0 2.83L4 21.41c.39.39.9.59 1.41.59.51 0 1.02-.2 1.41-.59l7.78-7.78 2.81-2.81c.8-.78.8-2.07 0-2.86zM5.41 20L4 18.59l7.72-7.72 1.47 1.35L5.41 20z\"/>\n",
              "  </svg>\n",
              "      </button>\n",
              "      \n",
              "  <style>\n",
              "    .colab-df-container {\n",
              "      display:flex;\n",
              "      flex-wrap:wrap;\n",
              "      gap: 12px;\n",
              "    }\n",
              "\n",
              "    .colab-df-convert {\n",
              "      background-color: #E8F0FE;\n",
              "      border: none;\n",
              "      border-radius: 50%;\n",
              "      cursor: pointer;\n",
              "      display: none;\n",
              "      fill: #1967D2;\n",
              "      height: 32px;\n",
              "      padding: 0 0 0 0;\n",
              "      width: 32px;\n",
              "    }\n",
              "\n",
              "    .colab-df-convert:hover {\n",
              "      background-color: #E2EBFA;\n",
              "      box-shadow: 0px 1px 2px rgba(60, 64, 67, 0.3), 0px 1px 3px 1px rgba(60, 64, 67, 0.15);\n",
              "      fill: #174EA6;\n",
              "    }\n",
              "\n",
              "    [theme=dark] .colab-df-convert {\n",
              "      background-color: #3B4455;\n",
              "      fill: #D2E3FC;\n",
              "    }\n",
              "\n",
              "    [theme=dark] .colab-df-convert:hover {\n",
              "      background-color: #434B5C;\n",
              "      box-shadow: 0px 1px 3px 1px rgba(0, 0, 0, 0.15);\n",
              "      filter: drop-shadow(0px 1px 2px rgba(0, 0, 0, 0.3));\n",
              "      fill: #FFFFFF;\n",
              "    }\n",
              "  </style>\n",
              "\n",
              "      <script>\n",
              "        const buttonEl =\n",
              "          document.querySelector('#df-f7db998e-75a1-4c09-8101-157a337af21a button.colab-df-convert');\n",
              "        buttonEl.style.display =\n",
              "          google.colab.kernel.accessAllowed ? 'block' : 'none';\n",
              "\n",
              "        async function convertToInteractive(key) {\n",
              "          const element = document.querySelector('#df-f7db998e-75a1-4c09-8101-157a337af21a');\n",
              "          const dataTable =\n",
              "            await google.colab.kernel.invokeFunction('convertToInteractive',\n",
              "                                                     [key], {});\n",
              "          if (!dataTable) return;\n",
              "\n",
              "          const docLinkHtml = 'Like what you see? Visit the ' +\n",
              "            '<a target=\"_blank\" href=https://colab.research.google.com/notebooks/data_table.ipynb>data table notebook</a>'\n",
              "            + ' to learn more about interactive tables.';\n",
              "          element.innerHTML = '';\n",
              "          dataTable['output_type'] = 'display_data';\n",
              "          await google.colab.output.renderOutput(dataTable, element);\n",
              "          const docLink = document.createElement('div');\n",
              "          docLink.innerHTML = docLinkHtml;\n",
              "          element.appendChild(docLink);\n",
              "        }\n",
              "      </script>\n",
              "    </div>\n",
              "  </div>\n",
              "  "
            ],
            "text/plain": [
              "      Open     High      Low    Close   returns\n",
              "0  2878.26  2901.92  2876.48  2881.19  0.011505\n",
              "1  2908.83  2932.16  2902.88  2929.80  0.016872\n",
              "2  2915.46  2944.25  2903.44  2930.32  0.000177\n",
              "3  2939.50  2945.82  2869.59  2870.12 -0.020544\n",
              "4  2865.86  2874.14  2793.15  2820.00 -0.017463"
            ]
          },
          "metadata": {},
          "execution_count": 62
        }
      ],
      "source": [
        "df.head()"
      ]
    },
    {
      "cell_type": "code",
      "execution_count": null,
      "metadata": {
        "id": "xfigHnLboLOs",
        "colab": {
          "base_uri": "https://localhost:8080/"
        },
        "outputId": "0d24e871-f1af-4a9d-f8df-f64a970841ae"
      },
      "outputs": [
        {
          "output_type": "execute_result",
          "data": {
            "text/plain": [
              "(408, 5)"
            ]
          },
          "metadata": {},
          "execution_count": 63
        }
      ],
      "source": [
        "df.shape"
      ]
    },
    {
      "cell_type": "code",
      "execution_count": null,
      "metadata": {
        "id": "o5fJZliYoRdM",
        "colab": {
          "base_uri": "https://localhost:8080/"
        },
        "outputId": "a5d243f0-0b34-4563-d614-badab2e64a17"
      },
      "outputs": [
        {
          "output_type": "execute_result",
          "data": {
            "text/plain": [
              "(408, 5)"
            ]
          },
          "metadata": {},
          "execution_count": 64
        }
      ],
      "source": [
        "input = scaler.transform(df)\n",
        "input.shape"
      ]
    },
    {
      "cell_type": "code",
      "execution_count": null,
      "metadata": {
        "id": "b0jwl-M8oT1g",
        "colab": {
          "base_uri": "https://localhost:8080/"
        },
        "outputId": "96db4776-86be-4808-eda5-890be3eb5fe6"
      },
      "outputs": [
        {
          "output_type": "execute_result",
          "data": {
            "text/plain": [
              "array([[0.54516047, 0.55139034, 0.55537443, 0.54598623, 0.61471548],\n",
              "       [0.5611105 , 0.56719632, 0.56912364, 0.5712121 , 0.6398333 ],\n",
              "       [0.56456974, 0.57351558, 0.56941529, 0.57148195, 0.56170273],\n",
              "       ...,\n",
              "       [1.46591638, 1.47055718, 1.45638531, 1.45564326, 0.52590851],\n",
              "       [1.46250933, 1.49780473, 1.45883309, 1.49495846, 0.63738515],\n",
              "       [1.50564278, 1.50793958, 1.48001417, 1.47410729, 0.5209454 ]])"
            ]
          },
          "metadata": {},
          "execution_count": 65
        }
      ],
      "source": [
        "input"
      ]
    },
    {
      "cell_type": "code",
      "execution_count": null,
      "metadata": {
        "id": "egLw519RoW2I"
      },
      "outputs": [],
      "source": [
        "A_test = []\n",
        "B_test = []\n",
        "for i in range(166,input.shape[0]):\n",
        "  A_test.append(input[i-166:i])\n",
        "  B_test.append(input[i,4])"
      ]
    },
    {
      "cell_type": "code",
      "execution_count": null,
      "metadata": {
        "id": "_wgULWRFoZKS",
        "colab": {
          "base_uri": "https://localhost:8080/"
        },
        "outputId": "1730cadd-2713-4b8c-f1a9-f9b0a8708b0a"
      },
      "outputs": [
        {
          "output_type": "execute_result",
          "data": {
            "text/plain": [
              "((242, 166, 5), (242,))"
            ]
          },
          "metadata": {},
          "execution_count": 67
        }
      ],
      "source": [
        "A_test,B_test = np.array(A_test), np.array(B_test)\n",
        "A_test.shape,B_test.shape"
      ]
    },
    {
      "cell_type": "code",
      "execution_count": null,
      "metadata": {
        "id": "iw2H9AuNobiq"
      },
      "outputs": [],
      "source": [
        "B_pred = GRUregressor.predict(A_test)"
      ]
    },
    {
      "cell_type": "code",
      "execution_count": null,
      "metadata": {
        "id": "40jVXn4moeCN",
        "colab": {
          "base_uri": "https://localhost:8080/"
        },
        "outputId": "bba73513-7b9a-4cee-fa0b-3ec0db59213f"
      },
      "outputs": [
        {
          "output_type": "execute_result",
          "data": {
            "text/plain": [
              "(242, 1)"
            ]
          },
          "metadata": {},
          "execution_count": 69
        }
      ],
      "source": [
        "B_pred = np.array(B_pred)\n",
        "B_pred.shape"
      ]
    },
    {
      "cell_type": "code",
      "execution_count": null,
      "metadata": {
        "id": "ar3-CqBIogLJ",
        "colab": {
          "base_uri": "https://localhost:8080/"
        },
        "outputId": "d3d14f50-7684-4abf-d960-7ceebc1299ef"
      },
      "outputs": [
        {
          "output_type": "execute_result",
          "data": {
            "text/plain": [
              "0.213668159886602"
            ]
          },
          "metadata": {},
          "execution_count": 70
        }
      ],
      "source": [
        "scaler.scale_\n",
        "scale = 1/4.68015450e+00\n",
        "scale"
      ]
    },
    {
      "cell_type": "code",
      "execution_count": null,
      "metadata": {
        "id": "HHaxC-12oifx"
      },
      "outputs": [],
      "source": [
        "B_pred = B_pred*scale\n",
        "B_test = B_test*scale"
      ]
    },
    {
      "cell_type": "code",
      "execution_count": null,
      "metadata": {
        "id": "Sxu9vrGOokxW",
        "colab": {
          "base_uri": "https://localhost:8080/"
        },
        "outputId": "1d80680c-5fd7-470c-b9f8-e007579d1818"
      },
      "outputs": [
        {
          "output_type": "execute_result",
          "data": {
            "text/plain": [
              "array([0.10508572, 0.12692304, 0.1255504 , 0.13468787, 0.12533239,\n",
              "       0.11328571, 0.12025633, 0.12211611, 0.11608706, 0.11265049,\n",
              "       0.12797691, 0.13377608, 0.12015723, 0.11682992, 0.12345631,\n",
              "       0.11835167, 0.09416264, 0.12960117, 0.100529  , 0.13589224,\n",
              "       0.13373874, 0.12084931, 0.13069381, 0.12373798, 0.12723985,\n",
              "       0.11872701, 0.11949534, 0.12150296, 0.12455149, 0.11927123,\n",
              "       0.1195201 , 0.11542469, 0.11798561, 0.11210765, 0.12109679,\n",
              "       0.13119216, 0.09536166, 0.11509034, 0.14363122, 0.11175966,\n",
              "       0.1067743 , 0.10642329, 0.13933648, 0.11448123, 0.13399519,\n",
              "       0.12587079, 0.13023598, 0.1208559 , 0.12633246, 0.11827081,\n",
              "       0.12271985, 0.10508   , 0.11923776, 0.12686562, 0.11220967,\n",
              "       0.1143732 , 0.12508074, 0.1364717 , 0.11897248, 0.11668268,\n",
              "       0.12346304, 0.13166565, 0.13427878, 0.11886696, 0.12131573,\n",
              "       0.12406114, 0.12756047, 0.11964432, 0.12313508, 0.1157527 ,\n",
              "       0.13093475, 0.12344925, 0.11453405, 0.11303814, 0.12914656,\n",
              "       0.11062983, 0.13076921, 0.12162273, 0.11962558, 0.11899497,\n",
              "       0.1266033 , 0.11264587, 0.12258854, 0.11316216, 0.12054404,\n",
              "       0.12800589, 0.12721385, 0.10940484, 0.11116661, 0.09839112,\n",
              "       0.13201365, 0.13475844, 0.11731046, 0.1113232 , 0.11689707,\n",
              "       0.13039526, 0.11905668, 0.12975181, 0.1177152 , 0.12171724,\n",
              "       0.1210059 , 0.12060939, 0.11934813, 0.12128742, 0.1162118 ,\n",
              "       0.12867459, 0.11904379, 0.12001559, 0.11801663, 0.12449266,\n",
              "       0.12178899, 0.12165571, 0.11782882, 0.1144503 , 0.11940487,\n",
              "       0.10671596, 0.13384283, 0.12496502, 0.11875724, 0.12565166,\n",
              "       0.12317111, 0.12215554, 0.12011785, 0.12116862, 0.12506214,\n",
              "       0.12734061, 0.1178186 , 0.12319951, 0.11127949, 0.13111845,\n",
              "       0.12329166, 0.11632367, 0.12100547, 0.11657827, 0.11230156,\n",
              "       0.10397097, 0.13500315, 0.12808235, 0.12185716, 0.12998594,\n",
              "       0.12222276, 0.11512802, 0.1196542 , 0.12404671, 0.11443449,\n",
              "       0.11799761, 0.12804399, 0.11520806, 0.12584596, 0.12151579,\n",
              "       0.11890058, 0.1208332 , 0.12230853, 0.12279259, 0.12144783,\n",
              "       0.12246136, 0.11277978, 0.10909205, 0.12109724, 0.12798204,\n",
              "       0.12836432, 0.1213362 , 0.12206063, 0.11401557, 0.12864811,\n",
              "       0.12414709, 0.11849136, 0.12015226, 0.12268306, 0.11950548,\n",
              "       0.11644501, 0.11852193, 0.1152349 , 0.11211786, 0.12211701,\n",
              "       0.1140939 , 0.12831441, 0.11828941, 0.11072958, 0.10286325,\n",
              "       0.11902815, 0.12936007, 0.13197525, 0.12130151, 0.11706415,\n",
              "       0.09947639, 0.12140967, 0.10793077, 0.13133198, 0.10685462,\n",
              "       0.13036496, 0.12394339, 0.12813879, 0.11792676, 0.11297472,\n",
              "       0.11742373, 0.12286304, 0.13690361, 0.12730063, 0.12321531,\n",
              "       0.12723386, 0.12350452, 0.12283641, 0.11876792, 0.12458868,\n",
              "       0.12166029, 0.1147889 , 0.12966984, 0.12178985, 0.12164057,\n",
              "       0.12352087, 0.1263018 , 0.12402239, 0.12357336, 0.1207282 ,\n",
              "       0.11634177, 0.11161469, 0.12039143, 0.12706314, 0.11982983,\n",
              "       0.12370571, 0.11723887, 0.12322526, 0.11844185, 0.11664337,\n",
              "       0.12149758, 0.1221344 , 0.09711565, 0.13304072, 0.1008792 ,\n",
              "       0.10802531, 0.13403493, 0.11139192, 0.13157143, 0.14054757,\n",
              "       0.1229258 , 0.11265937, 0.12938961, 0.11070429, 0.1123699 ,\n",
              "       0.13618891, 0.11130945])"
            ]
          },
          "metadata": {},
          "execution_count": 72
        }
      ],
      "source": [
        "B_test"
      ]
    },
    {
      "cell_type": "code",
      "execution_count": null,
      "metadata": {
        "id": "XzVw6k5comw4",
        "colab": {
          "base_uri": "https://localhost:8080/"
        },
        "outputId": "0f9760dd-5723-48e5-eca0-50cb85e22f4f"
      },
      "outputs": [
        {
          "output_type": "execute_result",
          "data": {
            "text/plain": [
              "array([[0.00638503],\n",
              "       [0.00638742],\n",
              "       [0.00638979],\n",
              "       [0.00639155],\n",
              "       [0.00639364],\n",
              "       [0.00639671],\n",
              "       [0.00639993],\n",
              "       [0.00640395],\n",
              "       [0.00640856],\n",
              "       [0.00641245],\n",
              "       [0.00641503],\n",
              "       [0.00641739],\n",
              "       [0.00642033],\n",
              "       [0.00642303],\n",
              "       [0.0064255 ],\n",
              "       [0.006429  ],\n",
              "       [0.00643232],\n",
              "       [0.00643242],\n",
              "       [0.0064318 ],\n",
              "       [0.00642802],\n",
              "       [0.00642431],\n",
              "       [0.00642138],\n",
              "       [0.00641914],\n",
              "       [0.00641965],\n",
              "       [0.00642264],\n",
              "       [0.0064281 ],\n",
              "       [0.00643453],\n",
              "       [0.00644118],\n",
              "       [0.00644774],\n",
              "       [0.00645388],\n",
              "       [0.00645862],\n",
              "       [0.00646223],\n",
              "       [0.00646439],\n",
              "       [0.00646507],\n",
              "       [0.00646398],\n",
              "       [0.00646254],\n",
              "       [0.00646154],\n",
              "       [0.00645739],\n",
              "       [0.00645228],\n",
              "       [0.00645008],\n",
              "       [0.00644814],\n",
              "       [0.00644528],\n",
              "       [0.00644157],\n",
              "       [0.0064405 ],\n",
              "       [0.00643832],\n",
              "       [0.00643685],\n",
              "       [0.00643703],\n",
              "       [0.00643978],\n",
              "       [0.00644443],\n",
              "       [0.00645067],\n",
              "       [0.00645687],\n",
              "       [0.00646295],\n",
              "       [0.00646647],\n",
              "       [0.00646841],\n",
              "       [0.00646971],\n",
              "       [0.00646927],\n",
              "       [0.00646737],\n",
              "       [0.0064661 ],\n",
              "       [0.00646645],\n",
              "       [0.00646706],\n",
              "       [0.00646778],\n",
              "       [0.00646927],\n",
              "       [0.00647266],\n",
              "       [0.00647818],\n",
              "       [0.00648417],\n",
              "       [0.00649036],\n",
              "       [0.00649679],\n",
              "       [0.00650344],\n",
              "       [0.00650932],\n",
              "       [0.00651443],\n",
              "       [0.00651822],\n",
              "       [0.0065221 ],\n",
              "       [0.0065259 ],\n",
              "       [0.00652888],\n",
              "       [0.00653072],\n",
              "       [0.00653262],\n",
              "       [0.006533  ],\n",
              "       [0.00653345],\n",
              "       [0.00653394],\n",
              "       [0.00653462],\n",
              "       [0.00653539],\n",
              "       [0.00653711],\n",
              "       [0.00653856],\n",
              "       [0.00653979],\n",
              "       [0.00654041],\n",
              "       [0.00654044],\n",
              "       [0.00654097],\n",
              "       [0.00654204],\n",
              "       [0.00654221],\n",
              "       [0.00654159],\n",
              "       [0.00653825],\n",
              "       [0.0065347 ],\n",
              "       [0.00653229],\n",
              "       [0.00653046],\n",
              "       [0.00652866],\n",
              "       [0.00652766],\n",
              "       [0.0065277 ],\n",
              "       [0.00652769],\n",
              "       [0.00652877],\n",
              "       [0.00653041],\n",
              "       [0.00653275],\n",
              "       [0.00653538],\n",
              "       [0.00653792],\n",
              "       [0.00654006],\n",
              "       [0.006542  ],\n",
              "       [0.00654332],\n",
              "       [0.00654467],\n",
              "       [0.00654574],\n",
              "       [0.00654674],\n",
              "       [0.00654754],\n",
              "       [0.00654865],\n",
              "       [0.00655002],\n",
              "       [0.00655155],\n",
              "       [0.00655278],\n",
              "       [0.00655334],\n",
              "       [0.00655353],\n",
              "       [0.00655202],\n",
              "       [0.00655087],\n",
              "       [0.00655005],\n",
              "       [0.00654929],\n",
              "       [0.00654953],\n",
              "       [0.00655093],\n",
              "       [0.00655325],\n",
              "       [0.00655585],\n",
              "       [0.0065584 ],\n",
              "       [0.00656101],\n",
              "       [0.00656389],\n",
              "       [0.00656664],\n",
              "       [0.0065695 ],\n",
              "       [0.00657143],\n",
              "       [0.00657323],\n",
              "       [0.00657486],\n",
              "       [0.00657594],\n",
              "       [0.00657691],\n",
              "       [0.00657779],\n",
              "       [0.0065778 ],\n",
              "       [0.00657608],\n",
              "       [0.00657451],\n",
              "       [0.00657337],\n",
              "       [0.0065728 ],\n",
              "       [0.00657372],\n",
              "       [0.00657586],\n",
              "       [0.00657839],\n",
              "       [0.00658083],\n",
              "       [0.00658312],\n",
              "       [0.0065844 ],\n",
              "       [0.00658466],\n",
              "       [0.00658528],\n",
              "       [0.00658561],\n",
              "       [0.00658624],\n",
              "       [0.00658708],\n",
              "       [0.00658799],\n",
              "       [0.00658897],\n",
              "       [0.00659015],\n",
              "       [0.00659158],\n",
              "       [0.00659306],\n",
              "       [0.00659475],\n",
              "       [0.00659582],\n",
              "       [0.0065953 ],\n",
              "       [0.00659402],\n",
              "       [0.00659288],\n",
              "       [0.00659245],\n",
              "       [0.00659274],\n",
              "       [0.0065939 ],\n",
              "       [0.00659514],\n",
              "       [0.006597  ],\n",
              "       [0.00659914],\n",
              "       [0.00660114],\n",
              "       [0.0066029 ],\n",
              "       [0.00660466],\n",
              "       [0.00660625],\n",
              "       [0.00660729],\n",
              "       [0.00660786],\n",
              "       [0.00660753],\n",
              "       [0.00660605],\n",
              "       [0.00660447],\n",
              "       [0.00660259],\n",
              "       [0.00660143],\n",
              "       [0.00660063],\n",
              "       [0.00659927],\n",
              "       [0.00659664],\n",
              "       [0.00659316],\n",
              "       [0.00659011],\n",
              "       [0.00658842],\n",
              "       [0.00658785],\n",
              "       [0.00658784],\n",
              "       [0.00658661],\n",
              "       [0.00658494],\n",
              "       [0.00658214],\n",
              "       [0.00658021],\n",
              "       [0.00657764],\n",
              "       [0.00657565],\n",
              "       [0.00657465],\n",
              "       [0.00657451],\n",
              "       [0.00657503],\n",
              "       [0.00657551],\n",
              "       [0.00657602],\n",
              "       [0.00657693],\n",
              "       [0.0065791 ],\n",
              "       [0.00658212],\n",
              "       [0.00658572],\n",
              "       [0.00658991],\n",
              "       [0.00659434],\n",
              "       [0.00659876],\n",
              "       [0.00660261],\n",
              "       [0.00660609],\n",
              "       [0.00660901],\n",
              "       [0.00661098],\n",
              "       [0.00661301],\n",
              "       [0.00661492],\n",
              "       [0.00661657],\n",
              "       [0.00661818],\n",
              "       [0.00662016],\n",
              "       [0.00662246],\n",
              "       [0.00662503],\n",
              "       [0.00662767],\n",
              "       [0.00662995],\n",
              "       [0.0066311 ],\n",
              "       [0.00663134],\n",
              "       [0.00663149],\n",
              "       [0.00663158],\n",
              "       [0.00663188],\n",
              "       [0.00663216],\n",
              "       [0.00663285],\n",
              "       [0.00663358],\n",
              "       [0.00663386],\n",
              "       [0.00663411],\n",
              "       [0.00663441],\n",
              "       [0.00663282],\n",
              "       [0.00663102],\n",
              "       [0.00662799],\n",
              "       [0.00662354],\n",
              "       [0.00662007],\n",
              "       [0.00661689],\n",
              "       [0.00661508],\n",
              "       [0.00661571],\n",
              "       [0.00661823],\n",
              "       [0.00662119],\n",
              "       [0.00662484],\n",
              "       [0.00662776],\n",
              "       [0.00662929],\n",
              "       [0.0066308 ]], dtype=float32)"
            ]
          },
          "metadata": {},
          "execution_count": 73
        }
      ],
      "source": [
        "B_pred"
      ]
    },
    {
      "cell_type": "code",
      "execution_count": null,
      "metadata": {
        "id": "IO__7Ubtoo7r",
        "colab": {
          "base_uri": "https://localhost:8080/"
        },
        "outputId": "5fc69375-18f4-4f11-bc60-becc5532914a"
      },
      "outputs": [
        {
          "output_type": "execute_result",
          "data": {
            "text/plain": [
              "0.11452621596113866"
            ]
          },
          "metadata": {},
          "execution_count": 74
        }
      ],
      "source": [
        "rmse = np.sqrt(np.mean(((B_pred-B_test)**2)))\n",
        "rmse"
      ]
    },
    {
      "cell_type": "code",
      "execution_count": null,
      "metadata": {
        "id": "eXF40C7oor1u",
        "colab": {
          "base_uri": "https://localhost:8080/",
          "height": 627
        },
        "outputId": "6e7f4005-1fef-4d58-e2c4-049ff883f733"
      },
      "outputs": [
        {
          "output_type": "stream",
          "name": "stderr",
          "text": [
            "/usr/local/lib/python3.7/dist-packages/ipykernel_launcher.py:6: SettingWithCopyWarning: \n",
            "A value is trying to be set on a copy of a slice from a DataFrame.\n",
            "Try using .loc[row_indexer,col_indexer] = value instead\n",
            "\n",
            "See the caveats in the documentation: https://pandas.pydata.org/pandas-docs/stable/user_guide/indexing.html#returning-a-view-versus-a-copy\n",
            "  \n"
          ]
        },
        {
          "output_type": "display_data",
          "data": {
            "image/png": "[encoded data removed]",
            "text/plain": [
              "<Figure size 1152x576 with 1 Axes>"
            ]
          },
          "metadata": {
            "needs_background": "light"
          }
        }
      ],
      "source": [
        "# Visualising the results\n",
        "import matplotlib.pyplot as plt\n",
        "training_data_len = len(train)\n",
        "trains = data[:training_data_len]\n",
        "valid = data[training_data_len:]\n",
        "valid['Predictions'] = B_pred\n",
        "#Visualize the data\n",
        "plt.figure(figsize=(16,8))\n",
        "plt.title('Model')\n",
        "plt.xlabel('Date', fontsize=18)\n",
        "plt.ylabel(' returns ', fontsize=18)\n",
        "plt.plot(trains['returns'])\n",
        "plt.plot(valid[['returns', 'Predictions']])\n",
        "plt.legend(['Train', 'Val', 'Predictions'], loc='lower right')\n",
        "plt.show()"
      ]
    },
    {
      "cell_type": "code",
      "source": [
        ""
      ],
      "metadata": {
        "id": "yL4NF7pqOi5y"
      },
      "execution_count": null,
      "outputs": []
    }
  ],
  "metadata": {
    "colab": {
      "collapsed_sections": [],
      "name": "live_stock_prediction.ipynb",
      "provenance": []
    },
    "kernelspec": {
      "display_name": "Python 3",
      "name": "python3"
    },
    "language_info": {
      "name": "python"
    }
  },
  "nbformat": 4,
  "nbformat_minor": 0
}